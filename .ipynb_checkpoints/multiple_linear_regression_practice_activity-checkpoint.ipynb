{
 "cells": [
  {
   "cell_type": "raw",
   "metadata": {},
   "source": [
    "---\n",
    "self-contained: true\n",
    "title: \"Practice Activity 6.1 Multiple Linear Regressions\"\n",
    "format:\n",
    "  html:\n",
    "    theme: united\n",
    "---"
   ]
  },
  {
   "cell_type": "markdown",
   "metadata": {
    "id": "M3NFTx_UIZjO"
   },
   "source": [
    "# Palmer Penguins Modeling\n",
    "\n",
    "Import the Palmer Penguins dataset and print out the first few rows.\n",
    "\n",
    "Suppose we want to predict `bill_depth_mm` using the other variables in the dataset.\n",
    "\n",
    "Which variables would we need to **dummify**?"
   ]
  },
  {
   "cell_type": "code",
   "execution_count": 2,
   "metadata": {
    "colab": {
     "base_uri": "https://localhost:8080/"
    },
    "id": "XqxP4EPztHJv",
    "outputId": "9cc5b781-67d4-4239-936b-5990e11dc146"
   },
   "outputs": [
    {
     "name": "stdout",
     "output_type": "stream",
     "text": [
      "Collecting palmerpenguins\n",
      "  Downloading palmerpenguins-0.1.4-py3-none-any.whl (17 kB)\n",
      "Requirement already satisfied: pandas in /Users/conniechou/anaconda3/lib/python3.11/site-packages (from palmerpenguins) (1.5.3)\n",
      "Requirement already satisfied: numpy in /Users/conniechou/anaconda3/lib/python3.11/site-packages (from palmerpenguins) (1.24.3)\n",
      "Requirement already satisfied: python-dateutil>=2.8.1 in /Users/conniechou/anaconda3/lib/python3.11/site-packages (from pandas->palmerpenguins) (2.8.2)\n",
      "Requirement already satisfied: pytz>=2020.1 in /Users/conniechou/anaconda3/lib/python3.11/site-packages (from pandas->palmerpenguins) (2022.7)\n",
      "Requirement already satisfied: six>=1.5 in /Users/conniechou/anaconda3/lib/python3.11/site-packages (from python-dateutil>=2.8.1->pandas->palmerpenguins) (1.16.0)\n",
      "Installing collected packages: palmerpenguins\n",
      "Successfully installed palmerpenguins-0.1.4\n"
     ]
    }
   ],
   "source": [
    "#!pip install palmerpenguins"
   ]
  },
  {
   "cell_type": "code",
   "execution_count": 3,
   "metadata": {
    "id": "dDD69T-VISjB"
   },
   "outputs": [],
   "source": [
    "from palmerpenguins import load_penguins\n",
    "from sklearn.pipeline import Pipeline\n",
    "from sklearn.linear_model import LinearRegression\n",
    "from sklearn.preprocessing import OneHotEncoder\n",
    "from sklearn.model_selection import train_test_split\n",
    "from sklearn.compose import ColumnTransformer\n",
    "from sklearn.preprocessing import PolynomialFeatures\n",
    "import pandas as pd\n",
    "from plotnine import *"
   ]
  },
  {
   "cell_type": "code",
   "execution_count": 4,
   "metadata": {
    "colab": {
     "base_uri": "https://localhost:8080/",
     "height": 424
    },
    "id": "Ytyl1gSUuXDm",
    "outputId": "a86c0825-637f-484e-9a54-b9faa3b7efb7"
   },
   "outputs": [
    {
     "data": {
      "text/html": [
       "<div>\n",
       "<style scoped>\n",
       "    .dataframe tbody tr th:only-of-type {\n",
       "        vertical-align: middle;\n",
       "    }\n",
       "\n",
       "    .dataframe tbody tr th {\n",
       "        vertical-align: top;\n",
       "    }\n",
       "\n",
       "    .dataframe thead th {\n",
       "        text-align: right;\n",
       "    }\n",
       "</style>\n",
       "<table border=\"1\" class=\"dataframe\">\n",
       "  <thead>\n",
       "    <tr style=\"text-align: right;\">\n",
       "      <th></th>\n",
       "      <th>species</th>\n",
       "      <th>island</th>\n",
       "      <th>bill_depth_mm</th>\n",
       "      <th>flipper_length_mm</th>\n",
       "      <th>body_mass_g</th>\n",
       "      <th>sex</th>\n",
       "      <th>year</th>\n",
       "    </tr>\n",
       "  </thead>\n",
       "  <tbody>\n",
       "    <tr>\n",
       "      <th>1</th>\n",
       "      <td>Adelie</td>\n",
       "      <td>Torgersen</td>\n",
       "      <td>17.4</td>\n",
       "      <td>186.0</td>\n",
       "      <td>3800.0</td>\n",
       "      <td>female</td>\n",
       "      <td>2007</td>\n",
       "    </tr>\n",
       "    <tr>\n",
       "      <th>290</th>\n",
       "      <td>Chinstrap</td>\n",
       "      <td>Dream</td>\n",
       "      <td>17.1</td>\n",
       "      <td>190.0</td>\n",
       "      <td>3575.0</td>\n",
       "      <td>female</td>\n",
       "      <td>2007</td>\n",
       "    </tr>\n",
       "    <tr>\n",
       "      <th>195</th>\n",
       "      <td>Gentoo</td>\n",
       "      <td>Biscoe</td>\n",
       "      <td>15.0</td>\n",
       "      <td>216.0</td>\n",
       "      <td>4750.0</td>\n",
       "      <td>male</td>\n",
       "      <td>2008</td>\n",
       "    </tr>\n",
       "    <tr>\n",
       "      <th>254</th>\n",
       "      <td>Gentoo</td>\n",
       "      <td>Biscoe</td>\n",
       "      <td>15.5</td>\n",
       "      <td>215.0</td>\n",
       "      <td>4975.0</td>\n",
       "      <td>female</td>\n",
       "      <td>2009</td>\n",
       "    </tr>\n",
       "    <tr>\n",
       "      <th>313</th>\n",
       "      <td>Chinstrap</td>\n",
       "      <td>Dream</td>\n",
       "      <td>20.7</td>\n",
       "      <td>210.0</td>\n",
       "      <td>4800.0</td>\n",
       "      <td>male</td>\n",
       "      <td>2008</td>\n",
       "    </tr>\n",
       "    <tr>\n",
       "      <th>...</th>\n",
       "      <td>...</td>\n",
       "      <td>...</td>\n",
       "      <td>...</td>\n",
       "      <td>...</td>\n",
       "      <td>...</td>\n",
       "      <td>...</td>\n",
       "      <td>...</td>\n",
       "    </tr>\n",
       "    <tr>\n",
       "      <th>118</th>\n",
       "      <td>Adelie</td>\n",
       "      <td>Torgersen</td>\n",
       "      <td>17.0</td>\n",
       "      <td>189.0</td>\n",
       "      <td>3350.0</td>\n",
       "      <td>female</td>\n",
       "      <td>2009</td>\n",
       "    </tr>\n",
       "    <tr>\n",
       "      <th>71</th>\n",
       "      <td>Adelie</td>\n",
       "      <td>Torgersen</td>\n",
       "      <td>18.4</td>\n",
       "      <td>190.0</td>\n",
       "      <td>3900.0</td>\n",
       "      <td>male</td>\n",
       "      <td>2008</td>\n",
       "    </tr>\n",
       "    <tr>\n",
       "      <th>255</th>\n",
       "      <td>Gentoo</td>\n",
       "      <td>Biscoe</td>\n",
       "      <td>15.0</td>\n",
       "      <td>228.0</td>\n",
       "      <td>5500.0</td>\n",
       "      <td>male</td>\n",
       "      <td>2009</td>\n",
       "    </tr>\n",
       "    <tr>\n",
       "      <th>307</th>\n",
       "      <td>Chinstrap</td>\n",
       "      <td>Dream</td>\n",
       "      <td>20.8</td>\n",
       "      <td>201.0</td>\n",
       "      <td>4300.0</td>\n",
       "      <td>male</td>\n",
       "      <td>2008</td>\n",
       "    </tr>\n",
       "    <tr>\n",
       "      <th>52</th>\n",
       "      <td>Adelie</td>\n",
       "      <td>Biscoe</td>\n",
       "      <td>17.9</td>\n",
       "      <td>190.0</td>\n",
       "      <td>3450.0</td>\n",
       "      <td>female</td>\n",
       "      <td>2008</td>\n",
       "    </tr>\n",
       "  </tbody>\n",
       "</table>\n",
       "<p>249 rows × 7 columns</p>\n",
       "</div>"
      ],
      "text/plain": [
       "       species     island  bill_depth_mm  flipper_length_mm  body_mass_g  \\\n",
       "1       Adelie  Torgersen           17.4              186.0       3800.0   \n",
       "290  Chinstrap      Dream           17.1              190.0       3575.0   \n",
       "195     Gentoo     Biscoe           15.0              216.0       4750.0   \n",
       "254     Gentoo     Biscoe           15.5              215.0       4975.0   \n",
       "313  Chinstrap      Dream           20.7              210.0       4800.0   \n",
       "..         ...        ...            ...                ...          ...   \n",
       "118     Adelie  Torgersen           17.0              189.0       3350.0   \n",
       "71      Adelie  Torgersen           18.4              190.0       3900.0   \n",
       "255     Gentoo     Biscoe           15.0              228.0       5500.0   \n",
       "307  Chinstrap      Dream           20.8              201.0       4300.0   \n",
       "52      Adelie     Biscoe           17.9              190.0       3450.0   \n",
       "\n",
       "        sex  year  \n",
       "1    female  2007  \n",
       "290  female  2007  \n",
       "195    male  2008  \n",
       "254  female  2009  \n",
       "313    male  2008  \n",
       "..      ...   ...  \n",
       "118  female  2009  \n",
       "71     male  2008  \n",
       "255    male  2009  \n",
       "307    male  2008  \n",
       "52   female  2008  \n",
       "\n",
       "[249 rows x 7 columns]"
      ]
     },
     "execution_count": 4,
     "metadata": {},
     "output_type": "execute_result"
    }
   ],
   "source": [
    "penguins = load_penguins()\n",
    "penguins = penguins.dropna()\n",
    "X = penguins.drop(\"bill_length_mm\", axis = 1) #X is still a dataframe, can have many columns\n",
    "y = penguins[\"bill_length_mm\"] #1D just one column of ur y\n",
    "X_train, X_test, y_train, y_test = train_test_split(X,y)\n",
    "\n",
    "X_train"
   ]
  },
  {
   "cell_type": "code",
   "execution_count": 5,
   "metadata": {
    "id": "Loq_lKUis3Wj"
   },
   "outputs": [],
   "source": [
    "#first step: prep data: one-hot-encode\n",
    "#second step: model fitting - linear regressions\n",
    "#this is a \"recipe\"\n",
    "\n",
    "lr = LinearRegression() #make linear regression function\n",
    "enc = OneHotEncoder() #get dummy variable ready\n",
    "\n",
    "ct = ColumnTransformer(\n",
    "    [(\"dummify_s\", enc, [\"species\"]),\n",
    "    (\"dummify_i\", enc, [\"island\"]),\n",
    "    (\"dummify_sex\", enc, [\"sex\"])]\n",
    ") #dummifying multiple columns, only one list of multiple columns\n",
    "\n",
    "my_pipeline = Pipeline(\n",
    "    [('dummify_everything', ct), ('ols', lr)] #labeling each step\n",
    ") #run data through this pipeline to dummify and then run linear regression"
   ]
  },
  {
   "cell_type": "code",
   "execution_count": 6,
   "metadata": {
    "colab": {
     "base_uri": "https://localhost:8080/",
     "height": 192
    },
    "id": "43-tcRHkxGC7",
    "outputId": "2793ccf9-2a6d-4461-d0a6-b30b37d9dc1e"
   },
   "outputs": [
    {
     "data": {
      "text/html": [
       "<style>#sk-container-id-1 {color: black;}#sk-container-id-1 pre{padding: 0;}#sk-container-id-1 div.sk-toggleable {background-color: white;}#sk-container-id-1 label.sk-toggleable__label {cursor: pointer;display: block;width: 100%;margin-bottom: 0;padding: 0.3em;box-sizing: border-box;text-align: center;}#sk-container-id-1 label.sk-toggleable__label-arrow:before {content: \"▸\";float: left;margin-right: 0.25em;color: #696969;}#sk-container-id-1 label.sk-toggleable__label-arrow:hover:before {color: black;}#sk-container-id-1 div.sk-estimator:hover label.sk-toggleable__label-arrow:before {color: black;}#sk-container-id-1 div.sk-toggleable__content {max-height: 0;max-width: 0;overflow: hidden;text-align: left;background-color: #f0f8ff;}#sk-container-id-1 div.sk-toggleable__content pre {margin: 0.2em;color: black;border-radius: 0.25em;background-color: #f0f8ff;}#sk-container-id-1 input.sk-toggleable__control:checked~div.sk-toggleable__content {max-height: 200px;max-width: 100%;overflow: auto;}#sk-container-id-1 input.sk-toggleable__control:checked~label.sk-toggleable__label-arrow:before {content: \"▾\";}#sk-container-id-1 div.sk-estimator input.sk-toggleable__control:checked~label.sk-toggleable__label {background-color: #d4ebff;}#sk-container-id-1 div.sk-label input.sk-toggleable__control:checked~label.sk-toggleable__label {background-color: #d4ebff;}#sk-container-id-1 input.sk-hidden--visually {border: 0;clip: rect(1px 1px 1px 1px);clip: rect(1px, 1px, 1px, 1px);height: 1px;margin: -1px;overflow: hidden;padding: 0;position: absolute;width: 1px;}#sk-container-id-1 div.sk-estimator {font-family: monospace;background-color: #f0f8ff;border: 1px dotted black;border-radius: 0.25em;box-sizing: border-box;margin-bottom: 0.5em;}#sk-container-id-1 div.sk-estimator:hover {background-color: #d4ebff;}#sk-container-id-1 div.sk-parallel-item::after {content: \"\";width: 100%;border-bottom: 1px solid gray;flex-grow: 1;}#sk-container-id-1 div.sk-label:hover label.sk-toggleable__label {background-color: #d4ebff;}#sk-container-id-1 div.sk-serial::before {content: \"\";position: absolute;border-left: 1px solid gray;box-sizing: border-box;top: 0;bottom: 0;left: 50%;z-index: 0;}#sk-container-id-1 div.sk-serial {display: flex;flex-direction: column;align-items: center;background-color: white;padding-right: 0.2em;padding-left: 0.2em;position: relative;}#sk-container-id-1 div.sk-item {position: relative;z-index: 1;}#sk-container-id-1 div.sk-parallel {display: flex;align-items: stretch;justify-content: center;background-color: white;position: relative;}#sk-container-id-1 div.sk-item::before, #sk-container-id-1 div.sk-parallel-item::before {content: \"\";position: absolute;border-left: 1px solid gray;box-sizing: border-box;top: 0;bottom: 0;left: 50%;z-index: -1;}#sk-container-id-1 div.sk-parallel-item {display: flex;flex-direction: column;z-index: 1;position: relative;background-color: white;}#sk-container-id-1 div.sk-parallel-item:first-child::after {align-self: flex-end;width: 50%;}#sk-container-id-1 div.sk-parallel-item:last-child::after {align-self: flex-start;width: 50%;}#sk-container-id-1 div.sk-parallel-item:only-child::after {width: 0;}#sk-container-id-1 div.sk-dashed-wrapped {border: 1px dashed gray;margin: 0 0.4em 0.5em 0.4em;box-sizing: border-box;padding-bottom: 0.4em;background-color: white;}#sk-container-id-1 div.sk-label label {font-family: monospace;font-weight: bold;display: inline-block;line-height: 1.2em;}#sk-container-id-1 div.sk-label-container {text-align: center;}#sk-container-id-1 div.sk-container {/* jupyter's `normalize.less` sets `[hidden] { display: none; }` but bootstrap.min.css set `[hidden] { display: none !important; }` so we also need the `!important` here to be able to override the default hidden behavior on the sphinx rendered scikit-learn.org. See: https://github.com/scikit-learn/scikit-learn/issues/21755 */display: inline-block !important;position: relative;}#sk-container-id-1 div.sk-text-repr-fallback {display: none;}</style><div id=\"sk-container-id-1\" class=\"sk-top-container\"><div class=\"sk-text-repr-fallback\"><pre>Pipeline(steps=[(&#x27;dummify_everything&#x27;,\n",
       "                 ColumnTransformer(transformers=[(&#x27;dummify_s&#x27;, OneHotEncoder(),\n",
       "                                                  [&#x27;species&#x27;]),\n",
       "                                                 (&#x27;dummify_i&#x27;, OneHotEncoder(),\n",
       "                                                  [&#x27;island&#x27;]),\n",
       "                                                 (&#x27;dummify_sex&#x27;,\n",
       "                                                  OneHotEncoder(), [&#x27;sex&#x27;])])),\n",
       "                (&#x27;ols&#x27;, LinearRegression())])</pre><b>In a Jupyter environment, please rerun this cell to show the HTML representation or trust the notebook. <br />On GitHub, the HTML representation is unable to render, please try loading this page with nbviewer.org.</b></div><div class=\"sk-container\" hidden><div class=\"sk-item sk-dashed-wrapped\"><div class=\"sk-label-container\"><div class=\"sk-label sk-toggleable\"><input class=\"sk-toggleable__control sk-hidden--visually\" id=\"sk-estimator-id-1\" type=\"checkbox\" ><label for=\"sk-estimator-id-1\" class=\"sk-toggleable__label sk-toggleable__label-arrow\">Pipeline</label><div class=\"sk-toggleable__content\"><pre>Pipeline(steps=[(&#x27;dummify_everything&#x27;,\n",
       "                 ColumnTransformer(transformers=[(&#x27;dummify_s&#x27;, OneHotEncoder(),\n",
       "                                                  [&#x27;species&#x27;]),\n",
       "                                                 (&#x27;dummify_i&#x27;, OneHotEncoder(),\n",
       "                                                  [&#x27;island&#x27;]),\n",
       "                                                 (&#x27;dummify_sex&#x27;,\n",
       "                                                  OneHotEncoder(), [&#x27;sex&#x27;])])),\n",
       "                (&#x27;ols&#x27;, LinearRegression())])</pre></div></div></div><div class=\"sk-serial\"><div class=\"sk-item sk-dashed-wrapped\"><div class=\"sk-label-container\"><div class=\"sk-label sk-toggleable\"><input class=\"sk-toggleable__control sk-hidden--visually\" id=\"sk-estimator-id-2\" type=\"checkbox\" ><label for=\"sk-estimator-id-2\" class=\"sk-toggleable__label sk-toggleable__label-arrow\">dummify_everything: ColumnTransformer</label><div class=\"sk-toggleable__content\"><pre>ColumnTransformer(transformers=[(&#x27;dummify_s&#x27;, OneHotEncoder(), [&#x27;species&#x27;]),\n",
       "                                (&#x27;dummify_i&#x27;, OneHotEncoder(), [&#x27;island&#x27;]),\n",
       "                                (&#x27;dummify_sex&#x27;, OneHotEncoder(), [&#x27;sex&#x27;])])</pre></div></div></div><div class=\"sk-parallel\"><div class=\"sk-parallel-item\"><div class=\"sk-item\"><div class=\"sk-label-container\"><div class=\"sk-label sk-toggleable\"><input class=\"sk-toggleable__control sk-hidden--visually\" id=\"sk-estimator-id-3\" type=\"checkbox\" ><label for=\"sk-estimator-id-3\" class=\"sk-toggleable__label sk-toggleable__label-arrow\">dummify_s</label><div class=\"sk-toggleable__content\"><pre>[&#x27;species&#x27;]</pre></div></div></div><div class=\"sk-serial\"><div class=\"sk-item\"><div class=\"sk-estimator sk-toggleable\"><input class=\"sk-toggleable__control sk-hidden--visually\" id=\"sk-estimator-id-4\" type=\"checkbox\" ><label for=\"sk-estimator-id-4\" class=\"sk-toggleable__label sk-toggleable__label-arrow\">OneHotEncoder</label><div class=\"sk-toggleable__content\"><pre>OneHotEncoder()</pre></div></div></div></div></div></div><div class=\"sk-parallel-item\"><div class=\"sk-item\"><div class=\"sk-label-container\"><div class=\"sk-label sk-toggleable\"><input class=\"sk-toggleable__control sk-hidden--visually\" id=\"sk-estimator-id-5\" type=\"checkbox\" ><label for=\"sk-estimator-id-5\" class=\"sk-toggleable__label sk-toggleable__label-arrow\">dummify_i</label><div class=\"sk-toggleable__content\"><pre>[&#x27;island&#x27;]</pre></div></div></div><div class=\"sk-serial\"><div class=\"sk-item\"><div class=\"sk-estimator sk-toggleable\"><input class=\"sk-toggleable__control sk-hidden--visually\" id=\"sk-estimator-id-6\" type=\"checkbox\" ><label for=\"sk-estimator-id-6\" class=\"sk-toggleable__label sk-toggleable__label-arrow\">OneHotEncoder</label><div class=\"sk-toggleable__content\"><pre>OneHotEncoder()</pre></div></div></div></div></div></div><div class=\"sk-parallel-item\"><div class=\"sk-item\"><div class=\"sk-label-container\"><div class=\"sk-label sk-toggleable\"><input class=\"sk-toggleable__control sk-hidden--visually\" id=\"sk-estimator-id-7\" type=\"checkbox\" ><label for=\"sk-estimator-id-7\" class=\"sk-toggleable__label sk-toggleable__label-arrow\">dummify_sex</label><div class=\"sk-toggleable__content\"><pre>[&#x27;sex&#x27;]</pre></div></div></div><div class=\"sk-serial\"><div class=\"sk-item\"><div class=\"sk-estimator sk-toggleable\"><input class=\"sk-toggleable__control sk-hidden--visually\" id=\"sk-estimator-id-8\" type=\"checkbox\" ><label for=\"sk-estimator-id-8\" class=\"sk-toggleable__label sk-toggleable__label-arrow\">OneHotEncoder</label><div class=\"sk-toggleable__content\"><pre>OneHotEncoder()</pre></div></div></div></div></div></div></div></div><div class=\"sk-item\"><div class=\"sk-estimator sk-toggleable\"><input class=\"sk-toggleable__control sk-hidden--visually\" id=\"sk-estimator-id-9\" type=\"checkbox\" ><label for=\"sk-estimator-id-9\" class=\"sk-toggleable__label sk-toggleable__label-arrow\">LinearRegression</label><div class=\"sk-toggleable__content\"><pre>LinearRegression()</pre></div></div></div></div></div></div></div>"
      ],
      "text/plain": [
       "Pipeline(steps=[('dummify_everything',\n",
       "                 ColumnTransformer(transformers=[('dummify_s', OneHotEncoder(),\n",
       "                                                  ['species']),\n",
       "                                                 ('dummify_i', OneHotEncoder(),\n",
       "                                                  ['island']),\n",
       "                                                 ('dummify_sex',\n",
       "                                                  OneHotEncoder(), ['sex'])])),\n",
       "                ('ols', LinearRegression())])"
      ]
     },
     "execution_count": 6,
     "metadata": {},
     "output_type": "execute_result"
    }
   ],
   "source": [
    "#model fiting\n",
    "fitted_my_pipeline = my_pipeline.fit(X_train, y_train)\n",
    "fitted_my_pipeline"
   ]
  },
  {
   "cell_type": "code",
   "execution_count": 7,
   "metadata": {
    "colab": {
     "base_uri": "https://localhost:8080/"
    },
    "id": "960D56OryGbX",
    "outputId": "944d0579-8199-4666-b868-919271e1154c"
   },
   "outputs": [
    {
     "data": {
      "text/plain": [
       "array([36.875    , 49.1875   , 45.46875  , 49.1875   , 36.7265625,\n",
       "       45.46875  , 45.46875  , 40.4453125, 45.46875  , 45.46875  ,\n",
       "       40.59375  , 40.4453125, 36.7265625, 50.7734375, 49.1875   ,\n",
       "       36.7265625, 49.1875   , 40.59375  , 45.46875  , 49.1875   ,\n",
       "       40.4453125, 45.46875  , 47.046875 , 36.875    , 45.46875  ,\n",
       "       40.59375  , 36.875    , 45.46875  , 40.4453125, 36.875    ,\n",
       "       49.1875   , 49.1875   , 40.59375  , 45.46875  , 49.1875   ,\n",
       "       50.7734375, 49.1875   , 45.46875  , 40.8984375, 36.875    ,\n",
       "       50.7734375, 49.1875   , 50.7734375, 45.46875  , 49.1875   ,\n",
       "       36.875    , 45.46875  , 45.46875  , 45.46875  , 49.1875   ,\n",
       "       37.1796875, 47.046875 , 40.4453125, 49.1875   , 36.7265625,\n",
       "       37.1796875, 50.7734375, 40.59375  , 36.875    , 49.1875   ,\n",
       "       49.1875   , 50.7734375, 40.4453125, 45.46875  , 47.046875 ,\n",
       "       49.1875   , 47.046875 , 50.7734375, 49.1875   , 50.7734375,\n",
       "       40.59375  , 50.7734375, 50.7734375, 47.046875 , 49.1875   ,\n",
       "       37.1796875, 45.46875  , 40.8984375, 40.8984375, 49.1875   ,\n",
       "       47.046875 , 45.46875  , 37.1796875, 40.8984375])"
      ]
     },
     "execution_count": 7,
     "metadata": {},
     "output_type": "execute_result"
    }
   ],
   "source": [
    "y_preds = fitted_my_pipeline.predict(X_test)\n",
    "y_preds"
   ]
  },
  {
   "cell_type": "code",
   "execution_count": 8,
   "metadata": {
    "colab": {
     "base_uri": "https://localhost:8080/"
    },
    "id": "0IqFwxBLvPCW",
    "outputId": "fb34ed6f-5b2c-4314-8062-479559f6f76b"
   },
   "outputs": [
    {
     "data": {
      "text/plain": [
       "<333x3 sparse matrix of type '<class 'numpy.float64'>'\n",
       "\twith 333 stored elements in Compressed Sparse Row format>"
      ]
     },
     "execution_count": 8,
     "metadata": {},
     "output_type": "execute_result"
    }
   ],
   "source": [
    "enc.fit_transform(penguins) #saved as sparse matrix, too many columns\n",
    "\n",
    "#dummify species, island, and sex, only should have made 9 new columns, not 400+\n",
    "enc.fit_transform(penguins[[\"species\"]]) #3 columns, this is better"
   ]
  },
  {
   "cell_type": "markdown",
   "metadata": {
    "id": "hEwiWESpJLwi"
   },
   "source": [
    "Let's use `bill_length_mm` to predict `bill_depth_mm`. Prepare your data and fit the following models on the entire dataset:\n",
    "\n",
    "* Simple linear regression (e.g. straight-line) model\n",
    "* Quadratic (degree 2 polynomial) model\n",
    "* Cubic (degree 3 polynomial) model\n",
    "* Degree 10 polynomial model\n",
    "\n",
    "Make predictions for each model and plot your fitted models on the scatterplot."
   ]
  },
  {
   "cell_type": "markdown",
   "metadata": {
    "id": "iqPmfcLp35PI"
   },
   "source": [
    "#### Linear"
   ]
  },
  {
   "cell_type": "code",
   "execution_count": 9,
   "metadata": {
    "colab": {
     "base_uri": "https://localhost:8080/",
     "height": 424
    },
    "id": "tjuOvH63LQ2b",
    "outputId": "fd29006f-f0aa-49d7-98d5-22a17862b1b0"
   },
   "outputs": [
    {
     "data": {
      "text/html": [
       "<div>\n",
       "<style scoped>\n",
       "    .dataframe tbody tr th:only-of-type {\n",
       "        vertical-align: middle;\n",
       "    }\n",
       "\n",
       "    .dataframe tbody tr th {\n",
       "        vertical-align: top;\n",
       "    }\n",
       "\n",
       "    .dataframe thead th {\n",
       "        text-align: right;\n",
       "    }\n",
       "</style>\n",
       "<table border=\"1\" class=\"dataframe\">\n",
       "  <thead>\n",
       "    <tr style=\"text-align: right;\">\n",
       "      <th></th>\n",
       "      <th>bill_length_mm</th>\n",
       "    </tr>\n",
       "  </thead>\n",
       "  <tbody>\n",
       "    <tr>\n",
       "      <th>221</th>\n",
       "      <td>50.7</td>\n",
       "    </tr>\n",
       "    <tr>\n",
       "      <th>191</th>\n",
       "      <td>48.7</td>\n",
       "    </tr>\n",
       "    <tr>\n",
       "      <th>265</th>\n",
       "      <td>51.5</td>\n",
       "    </tr>\n",
       "    <tr>\n",
       "      <th>279</th>\n",
       "      <td>45.4</td>\n",
       "    </tr>\n",
       "    <tr>\n",
       "      <th>77</th>\n",
       "      <td>37.2</td>\n",
       "    </tr>\n",
       "    <tr>\n",
       "      <th>...</th>\n",
       "      <td>...</td>\n",
       "    </tr>\n",
       "    <tr>\n",
       "      <th>44</th>\n",
       "      <td>37.0</td>\n",
       "    </tr>\n",
       "    <tr>\n",
       "      <th>311</th>\n",
       "      <td>47.5</td>\n",
       "    </tr>\n",
       "    <tr>\n",
       "      <th>276</th>\n",
       "      <td>46.5</td>\n",
       "    </tr>\n",
       "    <tr>\n",
       "      <th>7</th>\n",
       "      <td>39.2</td>\n",
       "    </tr>\n",
       "    <tr>\n",
       "      <th>29</th>\n",
       "      <td>40.5</td>\n",
       "    </tr>\n",
       "  </tbody>\n",
       "</table>\n",
       "<p>249 rows × 1 columns</p>\n",
       "</div>"
      ],
      "text/plain": [
       "     bill_length_mm\n",
       "221            50.7\n",
       "191            48.7\n",
       "265            51.5\n",
       "279            45.4\n",
       "77             37.2\n",
       "..              ...\n",
       "44             37.0\n",
       "311            47.5\n",
       "276            46.5\n",
       "7              39.2\n",
       "29             40.5\n",
       "\n",
       "[249 rows x 1 columns]"
      ]
     },
     "execution_count": 9,
     "metadata": {},
     "output_type": "execute_result"
    }
   ],
   "source": [
    "# Code Here\n",
    "X = penguins[[\"bill_length_mm\"]] #X is still a dataframe, can have many columns\n",
    "y = penguins[\"bill_depth_mm\"] #1D just one column of ur y\n",
    "X_train1, X_test1, y_train1, y_test1 = train_test_split(X,y)\n",
    "\n",
    "X_train1\n"
   ]
  },
  {
   "cell_type": "code",
   "execution_count": 10,
   "metadata": {
    "colab": {
     "base_uri": "https://localhost:8080/"
    },
    "id": "k9b4sgmx3KOC",
    "outputId": "1e2ab920-11af-45b6-94eb-454b9c837dcf"
   },
   "outputs": [
    {
     "data": {
      "text/plain": [
       "array([17.46458724, 17.07980342, 17.92953437, 17.40847294, 16.77518289,\n",
       "       16.74311757, 17.15195039, 17.78524043, 16.70303592, 17.1279014 ,\n",
       "       17.76119144, 17.4806199 , 18.00168133, 17.35235863, 16.9114605 ,\n",
       "       17.72110979, 17.59284852, 17.17599938, 17.70507714, 17.44855458,\n",
       "       17.4806199 , 16.69501959, 16.43048071, 17.01567278, 16.88741151,\n",
       "       16.80724821, 17.05575443, 16.89542784, 17.30426065, 17.15195039,\n",
       "       17.84135474, 16.84732986, 16.66295428, 17.07178709, 16.82328087,\n",
       "       16.87137885, 16.35833375, 18.01771399, 16.70303592, 16.6148563 ,\n",
       "       16.98360746, 17.03170544, 17.16798305, 17.39244028, 17.52070155,\n",
       "       16.9675748 , 17.62491384, 17.64896283, 16.70303592, 16.72708491,\n",
       "       17.54475054, 17.52070155, 17.49665256, 16.67898693, 17.72110979,\n",
       "       16.83931353, 16.80724821, 17.15996672, 17.06377076, 16.60683997,\n",
       "       17.59284852, 17.24013001, 17.54475054, 17.01567278, 17.10385241,\n",
       "       17.51268522, 17.15195039, 17.10385241, 17.66499549, 17.74515878,\n",
       "       17.89746905, 17.65697916, 16.73510124, 16.66295428, 16.9114605 ,\n",
       "       17.49665256, 16.97559113, 16.83931353, 17.96961601, 18.20208958,\n",
       "       16.81526454, 17.28822799, 17.00765645, 17.1279014 ])"
      ]
     },
     "execution_count": 10,
     "metadata": {},
     "output_type": "execute_result"
    }
   ],
   "source": [
    "\n",
    "# ct = ColumnTransformer(\n",
    "#     [(\"dummify_s\", enc, [\"species\"]),\n",
    "#     (\"dummify_i\", enc, [\"island\"]),\n",
    "#     (\"dummify_sex\", enc, [\"sex\"])]\n",
    "# ) #dummifying multiple columns, only one list of multiple columns\n",
    "\n",
    "my_pipeline_linear = Pipeline(\n",
    "    [('ols', lr)] #labeling each step\n",
    ")\n",
    "\n",
    "fitted_my_pipeline_linear = my_pipeline_linear.fit(X_train1, y_train1)\n",
    "fitted_my_pipeline_linear\n",
    "\n",
    "y_preds_linear = fitted_my_pipeline_linear.predict(X_test1)\n",
    "y_preds_linear\n"
   ]
  },
  {
   "cell_type": "markdown",
   "metadata": {
    "id": "tJnTt83M3-EL"
   },
   "source": [
    "#### Quadratic"
   ]
  },
  {
   "cell_type": "code",
   "execution_count": 11,
   "metadata": {
    "colab": {
     "base_uri": "https://localhost:8080/"
    },
    "id": "ad7w9OvI4rfz",
    "outputId": "aca006ff-7f0c-4654-9682-9a028d3af71d"
   },
   "outputs": [
    {
     "data": {
      "text/plain": [
       "array([17.18836035, 16.74259285, 18.493272  , 17.08758142, 16.79701136,\n",
       "       16.82367885, 16.78242623, 17.99855989, 16.86262193, 16.76690495,\n",
       "       17.92396008, 17.21939782, 18.77091516, 16.99901703, 16.72817038,\n",
       "       17.80461259, 17.46457908, 16.800191  , 17.75861853, 17.15831999,\n",
       "       17.21939782, 16.87115838, 17.2927052 , 16.7241362 , 16.73508399,\n",
       "       16.77433229, 16.73380203, 16.73253018, 16.93282648, 16.78242623,\n",
       "       18.18135079, 16.75159218, 16.90779693, 16.7394133 , 16.76448842,\n",
       "       16.74093944, 17.45478577, 18.83535567, 16.86262193, 16.97023304,\n",
       "       16.72089051, 16.7272547 , 16.79402014, 17.06103092, 17.30135384,\n",
       "       16.72076333, 17.54360482, 17.60549153, 16.86262193, 16.83850825,\n",
       "       17.35351876, 17.30135384, 17.2514324 , 16.8889791 , 17.80461259,\n",
       "       16.75564165, 16.77433229, 16.78809855, 16.73648303, 16.98151153,\n",
       "       17.46457908, 16.85853189, 17.35351876, 16.7241362 , 16.75362716,\n",
       "       17.28446408, 16.78242623, 16.75362716, 17.64799572, 17.87547325,\n",
       "       18.37635624, 17.62661899, 16.83096891, 16.90779693, 16.72817038,\n",
       "       17.2514324 , 16.72070228, 16.75564165, 18.64502543, 19.64808864,\n",
       "       16.76928572, 16.91275717, 16.72295086, 16.76690495])"
      ]
     },
     "execution_count": 11,
     "metadata": {},
     "output_type": "execute_result"
    }
   ],
   "source": [
    "poly2 = PolynomialFeatures(2)\n",
    "\n",
    "# ct_quadratic = ColumnTransformer(\n",
    "#     [(\"quadratic\", poly, [\"bill_length_mm\"])]\n",
    "# )\n",
    "#column transformer is not needed because the polynomial features function does it for u\n",
    "\n",
    "my_pipeline_quadratic = Pipeline(\n",
    "    [(\"squaring\", poly2), ('ols', lr)] #labeling each step\n",
    ")\n",
    "\n",
    "fitted_my_pipeline_quad = my_pipeline_quadratic.fit(X_train1, y_train1)\n",
    "fitted_my_pipeline_quad\n",
    "\n",
    "y_preds_quad = fitted_my_pipeline_quad.predict(X_test1)\n",
    "y_preds_quad\n",
    "\n"
   ]
  },
  {
   "cell_type": "markdown",
   "metadata": {
    "id": "pH4Q0yJs4AC8"
   },
   "source": [
    "#### Cubic"
   ]
  },
  {
   "cell_type": "code",
   "execution_count": 12,
   "metadata": {
    "colab": {
     "base_uri": "https://localhost:8080/"
    },
    "id": "rvGkZ_Jq77un",
    "outputId": "ad3d280c-fed0-4fc0-8808-9d01ae5d84a9"
   },
   "outputs": [
    {
     "data": {
      "text/plain": [
       "array([17.44857748, 16.69559429, 18.19035181, 17.32481881, 16.55993858,\n",
       "       16.58699489, 16.806597  , 18.05385456, 16.63435838, 16.76716507,\n",
       "       18.02018217, 17.48376044, 18.20795245, 17.20193025, 16.54154681,\n",
       "       17.95834144, 17.72182362, 16.84820759, 17.93176668, 17.41326927,\n",
       "       17.48376044, 16.64570692, 17.42211493, 16.61751741, 16.53431124,\n",
       "       16.54202689, 16.66383396, 16.53625904, 17.09911232, 16.806597  ,\n",
       "       18.12118657, 16.53181344, 16.69758757, 16.684693  , 16.53636008,\n",
       "       16.53184285, 17.78825389, 18.2065329 , 16.63435838, 16.79563906,\n",
       "       16.58692447, 16.63500937, 16.834107  , 17.28951385, 17.57080188,\n",
       "       16.57393565, 17.78551794, 17.83151236, 16.63435838, 16.60409248,\n",
       "       17.62211825, 17.57080188, 17.51876208, 16.67033593, 17.95834144,\n",
       "       16.53281119, 16.54202689, 16.82023447, 16.67410389, 16.81443117,\n",
       "       17.72182362, 16.96838106, 17.62211825, 16.61751741, 16.73010108,\n",
       "       17.55352631, 16.806597  , 16.73010108, 17.8612243 , 17.99626884,\n",
       "       18.17084052, 17.84646811, 16.59524039, 16.69758757, 16.54154681,\n",
       "       17.51876208, 16.58023192, 16.53281119, 18.20483593, 18.02803982,\n",
       "       16.53892524, 17.06563599, 16.60930979, 16.76716507])"
      ]
     },
     "execution_count": 12,
     "metadata": {},
     "output_type": "execute_result"
    }
   ],
   "source": [
    "poly3 = PolynomialFeatures(3)\n",
    "\n",
    "# ct_quadratic = ColumnTransformer(\n",
    "#     [(\"quadratic\", poly, [\"bill_length_mm\"])]\n",
    "# )\n",
    "\n",
    "my_pipeline_cube = Pipeline(\n",
    "    [(\"cube\", poly3), ('ols', lr)] #labeling each step\n",
    ")\n",
    "\n",
    "fitted_my_pipeline_cube = my_pipeline_cube.fit(X_train1, y_train1)\n",
    "fitted_my_pipeline_cube\n",
    "\n",
    "y_preds_cube = fitted_my_pipeline_cube.predict(X_test1)\n",
    "y_preds_cube\n"
   ]
  },
  {
   "cell_type": "markdown",
   "metadata": {
    "id": "_fegsmBD4APR"
   },
   "source": [
    "#### Degree Polynomial 10"
   ]
  },
  {
   "cell_type": "code",
   "execution_count": 13,
   "metadata": {
    "colab": {
     "base_uri": "https://localhost:8080/"
    },
    "id": "ksqdqtMK31to",
    "outputId": "c85b6cf2-6756-42c8-9cbf-e97bb4faab86"
   },
   "outputs": [
    {
     "data": {
      "text/plain": [
       "array([17.85719691, 15.85431605, 17.72378983, 17.54530108, 16.76808875,\n",
       "       17.01629717, 16.07922795, 18.32355983, 17.3431262 , 15.98853532,\n",
       "       18.38125396, 17.93784202, 17.32399733, 17.20274466, 15.98215021,\n",
       "       18.44457884, 18.35589501, 16.18367544, 18.45796354, 17.77242047,\n",
       "       17.93784202, 17.40956613, 18.81454382, 15.78732192, 16.08081642,\n",
       "       16.53868501, 15.81335015, 16.04578317, 16.90163127, 16.07922795,\n",
       "       18.13652886, 16.28660175, 17.67475893, 15.83862617, 16.43278115,\n",
       "       16.1571377 , 18.5888608 , 17.23311965, 17.3431262 , 18.0560358 ,\n",
       "       15.80637362, 15.79121595, 16.14742999, 17.44961956, 18.11876751,\n",
       "       15.82952607, 18.41971886, 18.4496043 , 17.3431262 , 17.1454808 ,\n",
       "       18.21135147, 18.11876751, 18.01394776, 17.54253602, 18.44457884,\n",
       "       16.33354915, 16.53868501, 16.11259393, 15.82495844, 18.11585225,\n",
       "       18.35589501, 16.51669374, 18.21135147, 15.78732192, 15.91310965,\n",
       "       18.08513237, 16.07922795, 15.91310965, 18.46079132, 18.41161999,\n",
       "       17.88735688, 18.45607621, 17.08055468, 17.67475893, 15.98215021,\n",
       "       18.01394776, 15.81680825, 16.33354915, 17.50502943, 16.40390077,\n",
       "       16.48493443, 16.80248984, 15.78870453, 15.98853532])"
      ]
     },
     "execution_count": 13,
     "metadata": {},
     "output_type": "execute_result"
    }
   ],
   "source": [
    "poly10 = PolynomialFeatures(10)\n",
    "\n",
    "# ct_quadratic = ColumnTransformer(\n",
    "#     [(\"quadratic\", poly, [\"bill_length_mm\"])]\n",
    "# )\n",
    "\n",
    "my_pipeline_polyten = Pipeline(\n",
    "    [(\"squaring\", poly10), ('ols', lr)] #labeling each step\n",
    ")\n",
    "\n",
    "fitted_my_pipeline_ten = my_pipeline_polyten.fit(X_train1, y_train1)\n",
    "fitted_my_pipeline_ten\n",
    "\n",
    "y_preds_ten = fitted_my_pipeline_ten.predict(X_test1)\n",
    "y_preds_ten\n"
   ]
  },
  {
   "cell_type": "code",
   "execution_count": 14,
   "metadata": {
    "colab": {
     "base_uri": "https://localhost:8080/",
     "height": 424
    },
    "id": "lUdO8aNu7V67",
    "outputId": "9ac519ae-477f-406c-835d-8daa7c429e0e"
   },
   "outputs": [
    {
     "data": {
      "text/html": [
       "<div>\n",
       "<style scoped>\n",
       "    .dataframe tbody tr th:only-of-type {\n",
       "        vertical-align: middle;\n",
       "    }\n",
       "\n",
       "    .dataframe tbody tr th {\n",
       "        vertical-align: top;\n",
       "    }\n",
       "\n",
       "    .dataframe thead th {\n",
       "        text-align: right;\n",
       "    }\n",
       "</style>\n",
       "<table border=\"1\" class=\"dataframe\">\n",
       "  <thead>\n",
       "    <tr style=\"text-align: right;\">\n",
       "      <th></th>\n",
       "      <th>y_test</th>\n",
       "      <th>linear</th>\n",
       "      <th>quadratic</th>\n",
       "      <th>cubic</th>\n",
       "      <th>poly_ten</th>\n",
       "      <th>bill_length_mm</th>\n",
       "    </tr>\n",
       "  </thead>\n",
       "  <tbody>\n",
       "    <tr>\n",
       "      <th>61</th>\n",
       "      <td>21.1</td>\n",
       "      <td>17.464587</td>\n",
       "      <td>17.188360</td>\n",
       "      <td>17.448577</td>\n",
       "      <td>17.857197</td>\n",
       "      <td>41.3</td>\n",
       "    </tr>\n",
       "    <tr>\n",
       "      <th>152</th>\n",
       "      <td>13.2</td>\n",
       "      <td>17.079803</td>\n",
       "      <td>16.742593</td>\n",
       "      <td>16.695594</td>\n",
       "      <td>15.854316</td>\n",
       "      <td>46.1</td>\n",
       "    </tr>\n",
       "    <tr>\n",
       "      <th>74</th>\n",
       "      <td>17.5</td>\n",
       "      <td>17.929534</td>\n",
       "      <td>18.493272</td>\n",
       "      <td>18.190352</td>\n",
       "      <td>17.723790</td>\n",
       "      <td>35.5</td>\n",
       "    </tr>\n",
       "    <tr>\n",
       "      <th>53</th>\n",
       "      <td>19.5</td>\n",
       "      <td>17.408473</td>\n",
       "      <td>17.087581</td>\n",
       "      <td>17.324819</td>\n",
       "      <td>17.545301</td>\n",
       "      <td>42.0</td>\n",
       "    </tr>\n",
       "    <tr>\n",
       "      <th>275</th>\n",
       "      <td>16.1</td>\n",
       "      <td>16.775183</td>\n",
       "      <td>16.797011</td>\n",
       "      <td>16.559939</td>\n",
       "      <td>16.768089</td>\n",
       "      <td>49.9</td>\n",
       "    </tr>\n",
       "    <tr>\n",
       "      <th>...</th>\n",
       "      <td>...</td>\n",
       "      <td>...</td>\n",
       "      <td>...</td>\n",
       "      <td>...</td>\n",
       "      <td>...</td>\n",
       "      <td>...</td>\n",
       "    </tr>\n",
       "    <tr>\n",
       "      <th>142</th>\n",
       "      <td>15.5</td>\n",
       "      <td>18.202090</td>\n",
       "      <td>19.648089</td>\n",
       "      <td>18.028040</td>\n",
       "      <td>16.403901</td>\n",
       "      <td>32.1</td>\n",
       "    </tr>\n",
       "    <tr>\n",
       "      <th>248</th>\n",
       "      <td>15.8</td>\n",
       "      <td>16.815265</td>\n",
       "      <td>16.769286</td>\n",
       "      <td>16.538925</td>\n",
       "      <td>16.484934</td>\n",
       "      <td>49.4</td>\n",
       "    </tr>\n",
       "    <tr>\n",
       "      <th>220</th>\n",
       "      <td>14.2</td>\n",
       "      <td>17.288228</td>\n",
       "      <td>16.912757</td>\n",
       "      <td>17.065636</td>\n",
       "      <td>16.802490</td>\n",
       "      <td>43.5</td>\n",
       "    </tr>\n",
       "    <tr>\n",
       "      <th>288</th>\n",
       "      <td>17.3</td>\n",
       "      <td>17.007656</td>\n",
       "      <td>16.722951</td>\n",
       "      <td>16.609310</td>\n",
       "      <td>15.788705</td>\n",
       "      <td>47.0</td>\n",
       "    </tr>\n",
       "    <tr>\n",
       "      <th>198</th>\n",
       "      <td>13.9</td>\n",
       "      <td>17.127901</td>\n",
       "      <td>16.766905</td>\n",
       "      <td>16.767165</td>\n",
       "      <td>15.988535</td>\n",
       "      <td>45.5</td>\n",
       "    </tr>\n",
       "  </tbody>\n",
       "</table>\n",
       "<p>84 rows × 6 columns</p>\n",
       "</div>"
      ],
      "text/plain": [
       "     y_test     linear  quadratic      cubic   poly_ten  bill_length_mm\n",
       "61     21.1  17.464587  17.188360  17.448577  17.857197            41.3\n",
       "152    13.2  17.079803  16.742593  16.695594  15.854316            46.1\n",
       "74     17.5  17.929534  18.493272  18.190352  17.723790            35.5\n",
       "53     19.5  17.408473  17.087581  17.324819  17.545301            42.0\n",
       "275    16.1  16.775183  16.797011  16.559939  16.768089            49.9\n",
       "..      ...        ...        ...        ...        ...             ...\n",
       "142    15.5  18.202090  19.648089  18.028040  16.403901            32.1\n",
       "248    15.8  16.815265  16.769286  16.538925  16.484934            49.4\n",
       "220    14.2  17.288228  16.912757  17.065636  16.802490            43.5\n",
       "288    17.3  17.007656  16.722951  16.609310  15.788705            47.0\n",
       "198    13.9  17.127901  16.766905  16.767165  15.988535            45.5\n",
       "\n",
       "[84 rows x 6 columns]"
      ]
     },
     "execution_count": 14,
     "metadata": {},
     "output_type": "execute_result"
    }
   ],
   "source": [
    "#make y predictions as a pandas dataframe\n",
    "predictions = pd.DataFrame({\"y_test\": y_test1,\n",
    "              \"linear\": y_preds_linear,\n",
    "              \"quadratic\": y_preds_quad,\n",
    "              \"cubic\": y_preds_cube,\n",
    "              \"poly_ten\": y_preds_ten,\n",
    "              \"bill_length_mm\": X_test1[\"bill_length_mm\"]})\n",
    "predictions\n",
    "\n",
    "\n",
    "\n",
    "#these plots will look at how well it predicted. want to look at how linear it is"
   ]
  },
  {
   "cell_type": "code",
   "execution_count": 15,
   "metadata": {
    "colab": {
     "base_uri": "https://localhost:8080/",
     "height": 515
    },
    "id": "OUCRmXpL8pHd",
    "outputId": "dacae924-2ee6-405f-cbed-5f6bc8ebd470"
   },
   "outputs": [
    {
     "data": {
      "image/png": "[encoded data removed]",
      "text/plain": [
       "<Figure size 640x480 with 1 Axes>"
      ]
     },
     "metadata": {
      "image/png": {
       "height": 480,
       "width": 640
      }
     },
     "output_type": "display_data"
    },
    {
     "data": {
      "text/plain": [
       "<Figure Size: (640 x 480)>"
      ]
     },
     "execution_count": 15,
     "metadata": {},
     "output_type": "execute_result"
    }
   ],
   "source": [
    "(ggplot(predictions, aes(x = \"bill_length_mm\", y = \"y_test\"))\n",
    " + geom_point()\n",
    " + geom_point(aes(y = \"linear\"), color = \"red\")\n",
    " + geom_point(aes(y = \"quadratic\"), color = 'orange')\n",
    " + geom_point(aes(y = \"cubic\"), color = \"blue\")\n",
    " + geom_point(aes(y = \"poly_ten\"), color = 'green')\n",
    ")\n"
   ]
  },
  {
   "cell_type": "markdown",
   "metadata": {
    "id": "Ph3lo8ExLSTG"
   },
   "source": [
    "* Are any of the models above underfitting the data? If so, which ones and how can you tell?\n",
    "* Are any of thhe models above overfitting the data? If so, which ones and how can you tell?\n",
    "* Which of the above models do you think fits the data best and why?"
   ]
  },
  {
   "cell_type": "markdown",
   "metadata": {
    "id": "JV1bATn4Lkq8"
   },
   "source": [
    "Models that look like they are underfitting is the linear model. It does not take into account the curve of the data. Models that look like they are overfitting are the cubic and polynomial 10 models. They are taking into account too much \"noise\" present in the data, so their models look wavy. The model that best fits the data is the quadratic model. It takes into account the curve of the data without adding too much \"noise.\""
   ]
  },
  {
   "cell_type": "code",
   "execution_count": 16,
   "metadata": {
    "id": "88B_0-R88UyV"
   },
   "outputs": [],
   "source": [
    "# #put all predicted values and actual values in one single dataframe\n",
    "\n",
    "# X_test1[\"y_pred_linear\"] = y_preds_linear\n",
    "# X_test1\n",
    "\n",
    "# X_test1[\"y_pred_quad\"] = y_preds_quad\n",
    "# X_test1\n",
    "\n",
    "# X_test1[\"y_pred_cube\"] = y_preds_cube\n",
    "# X_test1\n",
    "\n",
    "# X_test1[\"y_pred_ten\"] = y_preds_ten\n",
    "# X_test1\n",
    "\n",
    "# X_test1[\"y_test\"] = y_test1\n",
    "# X_test1"
   ]
  },
  {
   "cell_type": "code",
   "execution_count": 17,
   "metadata": {
    "id": "ZjR_Jl_2qV3n",
    "tags": []
   },
   "outputs": [],
   "source": [
    "# (ggplot(X_test1, aes(x = \"bill_length_mm\"))\n",
    "# + geom_point(aes(y = \"y_test\"))\n",
    "# + geom_point(aes(y = \"y_pred_linear\"), color = \"red\")\n",
    "# + geom_point(aes(y = \"y_pred_quad\"), color = \"blue\")\n",
    "# + geom_point(aes(y = \"y_pred_cube\"), color = \"green\")\n",
    "# + geom_point(aes(y = \"y_pred_ten\"), color = \"orange\")\n",
    "# )"
   ]
  }
 ],
 "metadata": {
  "colab": {
   "provenance": []
  },
  "kernelspec": {
   "display_name": "Python 3 (ipykernel)",
   "language": "python",
   "name": "python3"
  },
  "language_info": {
   "codemirror_mode": {
    "name": "ipython",
    "version": 3
   },
   "file_extension": ".py",
   "mimetype": "text/x-python",
   "name": "python",
   "nbconvert_exporter": "python",
   "pygments_lexer": "ipython3",
   "version": "3.11.4"
  }
 },
 "nbformat": 4,
 "nbformat_minor": 4
}
