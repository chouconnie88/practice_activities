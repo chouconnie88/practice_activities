{
 "cells": [
  {
   "cell_type": "raw",
   "metadata": {},
   "source": [
    "---\n",
    "self-contained: true\n",
    "title: \"Practice Activity 6.2 Multiple Linear Regression and Evaluation\"\n",
    "format:\n",
    "  html:\n",
    "    theme: united\n",
    "---"
   ]
  },
  {
   "cell_type": "markdown",
   "metadata": {
    "id": "FdLoheP-mrxn"
   },
   "source": [
    "# Palmer Penguins Modeling\n",
    "\n",
    "Import the Palmer Penguins dataset and print out the first few rows.\n",
    "\n",
    "Suppose we want to predict `bill_depth_mm` using the other variables in the dataset.\n",
    "\n",
    "**Dummify** all variables that require this."
   ]
  },
  {
   "cell_type": "code",
   "execution_count": 2,
   "metadata": {
    "id": "qbes6gDQ__Wv"
   },
   "outputs": [],
   "source": [
    "#!pip install palmerpenguins"
   ]
  },
  {
   "cell_type": "code",
   "execution_count": 3,
   "metadata": {
    "id": "N5lG475yllju"
   },
   "outputs": [],
   "source": [
    "import pandas as pd\n",
    "from sklearn.pipeline import Pipeline\n",
    "from sklearn.linear_model import LinearRegression\n",
    "from sklearn.metrics import r2_score\n",
    "from palmerpenguins import load_penguins\n",
    "from sklearn.model_selection import train_test_split\n",
    "from sklearn.linear_model import LinearRegression\n",
    "from sklearn.preprocessing import OneHotEncoder\n",
    "from sklearn.compose import ColumnTransformer\n",
    "from sklearn.metrics import r2_score"
   ]
  },
  {
   "cell_type": "code",
   "execution_count": 4,
   "metadata": {
    "colab": {
     "base_uri": "https://localhost:8080/",
     "height": 206
    },
    "id": "nHnlYEbB_0vO",
    "outputId": "2970157d-42b3-4556-c6de-6e3ae703300b"
   },
   "outputs": [
    {
     "data": {
      "text/html": [
       "<div>\n",
       "<style scoped>\n",
       "    .dataframe tbody tr th:only-of-type {\n",
       "        vertical-align: middle;\n",
       "    }\n",
       "\n",
       "    .dataframe tbody tr th {\n",
       "        vertical-align: top;\n",
       "    }\n",
       "\n",
       "    .dataframe thead th {\n",
       "        text-align: right;\n",
       "    }\n",
       "</style>\n",
       "<table border=\"1\" class=\"dataframe\">\n",
       "  <thead>\n",
       "    <tr style=\"text-align: right;\">\n",
       "      <th></th>\n",
       "      <th>species</th>\n",
       "      <th>island</th>\n",
       "      <th>bill_length_mm</th>\n",
       "      <th>bill_depth_mm</th>\n",
       "      <th>flipper_length_mm</th>\n",
       "      <th>body_mass_g</th>\n",
       "      <th>sex</th>\n",
       "      <th>year</th>\n",
       "    </tr>\n",
       "  </thead>\n",
       "  <tbody>\n",
       "    <tr>\n",
       "      <th>0</th>\n",
       "      <td>Adelie</td>\n",
       "      <td>Torgersen</td>\n",
       "      <td>39.1</td>\n",
       "      <td>18.7</td>\n",
       "      <td>181.0</td>\n",
       "      <td>3750.0</td>\n",
       "      <td>male</td>\n",
       "      <td>2007</td>\n",
       "    </tr>\n",
       "    <tr>\n",
       "      <th>1</th>\n",
       "      <td>Adelie</td>\n",
       "      <td>Torgersen</td>\n",
       "      <td>39.5</td>\n",
       "      <td>17.4</td>\n",
       "      <td>186.0</td>\n",
       "      <td>3800.0</td>\n",
       "      <td>female</td>\n",
       "      <td>2007</td>\n",
       "    </tr>\n",
       "    <tr>\n",
       "      <th>2</th>\n",
       "      <td>Adelie</td>\n",
       "      <td>Torgersen</td>\n",
       "      <td>40.3</td>\n",
       "      <td>18.0</td>\n",
       "      <td>195.0</td>\n",
       "      <td>3250.0</td>\n",
       "      <td>female</td>\n",
       "      <td>2007</td>\n",
       "    </tr>\n",
       "    <tr>\n",
       "      <th>3</th>\n",
       "      <td>Adelie</td>\n",
       "      <td>Torgersen</td>\n",
       "      <td>NaN</td>\n",
       "      <td>NaN</td>\n",
       "      <td>NaN</td>\n",
       "      <td>NaN</td>\n",
       "      <td>NaN</td>\n",
       "      <td>2007</td>\n",
       "    </tr>\n",
       "    <tr>\n",
       "      <th>4</th>\n",
       "      <td>Adelie</td>\n",
       "      <td>Torgersen</td>\n",
       "      <td>36.7</td>\n",
       "      <td>19.3</td>\n",
       "      <td>193.0</td>\n",
       "      <td>3450.0</td>\n",
       "      <td>female</td>\n",
       "      <td>2007</td>\n",
       "    </tr>\n",
       "  </tbody>\n",
       "</table>\n",
       "</div>"
      ],
      "text/plain": [
       "  species     island  bill_length_mm  bill_depth_mm  flipper_length_mm  \\\n",
       "0  Adelie  Torgersen            39.1           18.7              181.0   \n",
       "1  Adelie  Torgersen            39.5           17.4              186.0   \n",
       "2  Adelie  Torgersen            40.3           18.0              195.0   \n",
       "3  Adelie  Torgersen             NaN            NaN                NaN   \n",
       "4  Adelie  Torgersen            36.7           19.3              193.0   \n",
       "\n",
       "   body_mass_g     sex  year  \n",
       "0       3750.0    male  2007  \n",
       "1       3800.0  female  2007  \n",
       "2       3250.0  female  2007  \n",
       "3          NaN     NaN  2007  \n",
       "4       3450.0  female  2007  "
      ]
     },
     "execution_count": 4,
     "metadata": {},
     "output_type": "execute_result"
    }
   ],
   "source": [
    "penguins = load_penguins()\n",
    "penguins.head()"
   ]
  },
  {
   "cell_type": "code",
   "execution_count": 5,
   "metadata": {
    "colab": {
     "base_uri": "https://localhost:8080/",
     "height": 424
    },
    "id": "ihypl4kDAM6c",
    "outputId": "d5ed9595-6a43-4c15-b3e1-dd1b996c030d"
   },
   "outputs": [
    {
     "data": {
      "text/html": [
       "<div>\n",
       "<style scoped>\n",
       "    .dataframe tbody tr th:only-of-type {\n",
       "        vertical-align: middle;\n",
       "    }\n",
       "\n",
       "    .dataframe tbody tr th {\n",
       "        vertical-align: top;\n",
       "    }\n",
       "\n",
       "    .dataframe thead th {\n",
       "        text-align: right;\n",
       "    }\n",
       "</style>\n",
       "<table border=\"1\" class=\"dataframe\">\n",
       "  <thead>\n",
       "    <tr style=\"text-align: right;\">\n",
       "      <th></th>\n",
       "      <th>species</th>\n",
       "      <th>island</th>\n",
       "      <th>bill_length_mm</th>\n",
       "      <th>flipper_length_mm</th>\n",
       "      <th>body_mass_g</th>\n",
       "      <th>sex</th>\n",
       "      <th>year</th>\n",
       "    </tr>\n",
       "  </thead>\n",
       "  <tbody>\n",
       "    <tr>\n",
       "      <th>201</th>\n",
       "      <td>Gentoo</td>\n",
       "      <td>Biscoe</td>\n",
       "      <td>45.2</td>\n",
       "      <td>215.0</td>\n",
       "      <td>5300.0</td>\n",
       "      <td>male</td>\n",
       "      <td>2008</td>\n",
       "    </tr>\n",
       "    <tr>\n",
       "      <th>52</th>\n",
       "      <td>Adelie</td>\n",
       "      <td>Biscoe</td>\n",
       "      <td>35.0</td>\n",
       "      <td>190.0</td>\n",
       "      <td>3450.0</td>\n",
       "      <td>female</td>\n",
       "      <td>2008</td>\n",
       "    </tr>\n",
       "    <tr>\n",
       "      <th>277</th>\n",
       "      <td>Chinstrap</td>\n",
       "      <td>Dream</td>\n",
       "      <td>50.0</td>\n",
       "      <td>196.0</td>\n",
       "      <td>3900.0</td>\n",
       "      <td>male</td>\n",
       "      <td>2007</td>\n",
       "    </tr>\n",
       "    <tr>\n",
       "      <th>223</th>\n",
       "      <td>Gentoo</td>\n",
       "      <td>Biscoe</td>\n",
       "      <td>46.4</td>\n",
       "      <td>221.0</td>\n",
       "      <td>5000.0</td>\n",
       "      <td>male</td>\n",
       "      <td>2008</td>\n",
       "    </tr>\n",
       "    <tr>\n",
       "      <th>50</th>\n",
       "      <td>Adelie</td>\n",
       "      <td>Biscoe</td>\n",
       "      <td>39.6</td>\n",
       "      <td>186.0</td>\n",
       "      <td>3500.0</td>\n",
       "      <td>female</td>\n",
       "      <td>2008</td>\n",
       "    </tr>\n",
       "    <tr>\n",
       "      <th>...</th>\n",
       "      <td>...</td>\n",
       "      <td>...</td>\n",
       "      <td>...</td>\n",
       "      <td>...</td>\n",
       "      <td>...</td>\n",
       "      <td>...</td>\n",
       "      <td>...</td>\n",
       "    </tr>\n",
       "    <tr>\n",
       "      <th>92</th>\n",
       "      <td>Adelie</td>\n",
       "      <td>Dream</td>\n",
       "      <td>34.0</td>\n",
       "      <td>185.0</td>\n",
       "      <td>3400.0</td>\n",
       "      <td>female</td>\n",
       "      <td>2008</td>\n",
       "    </tr>\n",
       "    <tr>\n",
       "      <th>235</th>\n",
       "      <td>Gentoo</td>\n",
       "      <td>Biscoe</td>\n",
       "      <td>50.0</td>\n",
       "      <td>224.0</td>\n",
       "      <td>5350.0</td>\n",
       "      <td>male</td>\n",
       "      <td>2009</td>\n",
       "    </tr>\n",
       "    <tr>\n",
       "      <th>229</th>\n",
       "      <td>Gentoo</td>\n",
       "      <td>Biscoe</td>\n",
       "      <td>51.1</td>\n",
       "      <td>220.0</td>\n",
       "      <td>6000.0</td>\n",
       "      <td>male</td>\n",
       "      <td>2008</td>\n",
       "    </tr>\n",
       "    <tr>\n",
       "      <th>26</th>\n",
       "      <td>Adelie</td>\n",
       "      <td>Biscoe</td>\n",
       "      <td>40.6</td>\n",
       "      <td>183.0</td>\n",
       "      <td>3550.0</td>\n",
       "      <td>male</td>\n",
       "      <td>2007</td>\n",
       "    </tr>\n",
       "    <tr>\n",
       "      <th>121</th>\n",
       "      <td>Adelie</td>\n",
       "      <td>Torgersen</td>\n",
       "      <td>37.7</td>\n",
       "      <td>198.0</td>\n",
       "      <td>3500.0</td>\n",
       "      <td>male</td>\n",
       "      <td>2009</td>\n",
       "    </tr>\n",
       "  </tbody>\n",
       "</table>\n",
       "<p>249 rows × 7 columns</p>\n",
       "</div>"
      ],
      "text/plain": [
       "       species     island  bill_length_mm  flipper_length_mm  body_mass_g  \\\n",
       "201     Gentoo     Biscoe            45.2              215.0       5300.0   \n",
       "52      Adelie     Biscoe            35.0              190.0       3450.0   \n",
       "277  Chinstrap      Dream            50.0              196.0       3900.0   \n",
       "223     Gentoo     Biscoe            46.4              221.0       5000.0   \n",
       "50      Adelie     Biscoe            39.6              186.0       3500.0   \n",
       "..         ...        ...             ...                ...          ...   \n",
       "92      Adelie      Dream            34.0              185.0       3400.0   \n",
       "235     Gentoo     Biscoe            50.0              224.0       5350.0   \n",
       "229     Gentoo     Biscoe            51.1              220.0       6000.0   \n",
       "26      Adelie     Biscoe            40.6              183.0       3550.0   \n",
       "121     Adelie  Torgersen            37.7              198.0       3500.0   \n",
       "\n",
       "        sex  year  \n",
       "201    male  2008  \n",
       "52   female  2008  \n",
       "277    male  2007  \n",
       "223    male  2008  \n",
       "50   female  2008  \n",
       "..      ...   ...  \n",
       "92   female  2008  \n",
       "235    male  2009  \n",
       "229    male  2008  \n",
       "26     male  2007  \n",
       "121    male  2009  \n",
       "\n",
       "[249 rows x 7 columns]"
      ]
     },
     "execution_count": 5,
     "metadata": {},
     "output_type": "execute_result"
    }
   ],
   "source": [
    "#USING ALL VARIABLES TO PREDICT BILL_DEPTH_MM\n",
    "penguins = penguins.dropna()\n",
    "X = penguins.drop(\"bill_depth_mm\", axis = 1) #using all variables except bill_depth_mm\n",
    "y = penguins[\"bill_depth_mm\"] #1D just one column of ur y\n",
    "X_train, X_test, y_train, y_test = train_test_split(X,y)\n",
    "\n",
    "X_train"
   ]
  },
  {
   "cell_type": "code",
   "execution_count": 6,
   "metadata": {
    "id": "k2kx9FhIAWFW"
   },
   "outputs": [],
   "source": [
    "#first step: prep data: one-hot-encode\n",
    "#second step: model fitting - linear regressions\n",
    "#this is a \"recipe\"\n",
    "\n",
    "lr = LinearRegression() #make linear regression function\n",
    "enc = OneHotEncoder() #get dummy variable ready\n",
    "\n",
    "ct = ColumnTransformer(\n",
    "    [(\"dummify_s\", enc, [\"species\"]),\n",
    "    (\"dummify_i\", enc, [\"island\"]),\n",
    "    (\"dummify_sex\", enc, [\"sex\"])]\n",
    ") #dummifying multiple columns, only one list of multiple columns\n",
    "\n",
    "my_pipeline = Pipeline(\n",
    "    [('dummify_everything', ct), ('ols', lr)] #labeling each step\n",
    ") #run data through this pipeline to dummify and then run linear regression"
   ]
  },
  {
   "cell_type": "code",
   "execution_count": 7,
   "metadata": {
    "colab": {
     "base_uri": "https://localhost:8080/",
     "height": 192
    },
    "id": "K3dRpceyAcHt",
    "outputId": "af1f2a03-5d77-4fa0-d0a3-8e801704a478",
    "tags": []
   },
   "outputs": [
    {
     "data": {
      "text/html": [
       "<style>#sk-container-id-1 {color: black;}#sk-container-id-1 pre{padding: 0;}#sk-container-id-1 div.sk-toggleable {background-color: white;}#sk-container-id-1 label.sk-toggleable__label {cursor: pointer;display: block;width: 100%;margin-bottom: 0;padding: 0.3em;box-sizing: border-box;text-align: center;}#sk-container-id-1 label.sk-toggleable__label-arrow:before {content: \"▸\";float: left;margin-right: 0.25em;color: #696969;}#sk-container-id-1 label.sk-toggleable__label-arrow:hover:before {color: black;}#sk-container-id-1 div.sk-estimator:hover label.sk-toggleable__label-arrow:before {color: black;}#sk-container-id-1 div.sk-toggleable__content {max-height: 0;max-width: 0;overflow: hidden;text-align: left;background-color: #f0f8ff;}#sk-container-id-1 div.sk-toggleable__content pre {margin: 0.2em;color: black;border-radius: 0.25em;background-color: #f0f8ff;}#sk-container-id-1 input.sk-toggleable__control:checked~div.sk-toggleable__content {max-height: 200px;max-width: 100%;overflow: auto;}#sk-container-id-1 input.sk-toggleable__control:checked~label.sk-toggleable__label-arrow:before {content: \"▾\";}#sk-container-id-1 div.sk-estimator input.sk-toggleable__control:checked~label.sk-toggleable__label {background-color: #d4ebff;}#sk-container-id-1 div.sk-label input.sk-toggleable__control:checked~label.sk-toggleable__label {background-color: #d4ebff;}#sk-container-id-1 input.sk-hidden--visually {border: 0;clip: rect(1px 1px 1px 1px);clip: rect(1px, 1px, 1px, 1px);height: 1px;margin: -1px;overflow: hidden;padding: 0;position: absolute;width: 1px;}#sk-container-id-1 div.sk-estimator {font-family: monospace;background-color: #f0f8ff;border: 1px dotted black;border-radius: 0.25em;box-sizing: border-box;margin-bottom: 0.5em;}#sk-container-id-1 div.sk-estimator:hover {background-color: #d4ebff;}#sk-container-id-1 div.sk-parallel-item::after {content: \"\";width: 100%;border-bottom: 1px solid gray;flex-grow: 1;}#sk-container-id-1 div.sk-label:hover label.sk-toggleable__label {background-color: #d4ebff;}#sk-container-id-1 div.sk-serial::before {content: \"\";position: absolute;border-left: 1px solid gray;box-sizing: border-box;top: 0;bottom: 0;left: 50%;z-index: 0;}#sk-container-id-1 div.sk-serial {display: flex;flex-direction: column;align-items: center;background-color: white;padding-right: 0.2em;padding-left: 0.2em;position: relative;}#sk-container-id-1 div.sk-item {position: relative;z-index: 1;}#sk-container-id-1 div.sk-parallel {display: flex;align-items: stretch;justify-content: center;background-color: white;position: relative;}#sk-container-id-1 div.sk-item::before, #sk-container-id-1 div.sk-parallel-item::before {content: \"\";position: absolute;border-left: 1px solid gray;box-sizing: border-box;top: 0;bottom: 0;left: 50%;z-index: -1;}#sk-container-id-1 div.sk-parallel-item {display: flex;flex-direction: column;z-index: 1;position: relative;background-color: white;}#sk-container-id-1 div.sk-parallel-item:first-child::after {align-self: flex-end;width: 50%;}#sk-container-id-1 div.sk-parallel-item:last-child::after {align-self: flex-start;width: 50%;}#sk-container-id-1 div.sk-parallel-item:only-child::after {width: 0;}#sk-container-id-1 div.sk-dashed-wrapped {border: 1px dashed gray;margin: 0 0.4em 0.5em 0.4em;box-sizing: border-box;padding-bottom: 0.4em;background-color: white;}#sk-container-id-1 div.sk-label label {font-family: monospace;font-weight: bold;display: inline-block;line-height: 1.2em;}#sk-container-id-1 div.sk-label-container {text-align: center;}#sk-container-id-1 div.sk-container {/* jupyter's `normalize.less` sets `[hidden] { display: none; }` but bootstrap.min.css set `[hidden] { display: none !important; }` so we also need the `!important` here to be able to override the default hidden behavior on the sphinx rendered scikit-learn.org. See: https://github.com/scikit-learn/scikit-learn/issues/21755 */display: inline-block !important;position: relative;}#sk-container-id-1 div.sk-text-repr-fallback {display: none;}</style><div id=\"sk-container-id-1\" class=\"sk-top-container\"><div class=\"sk-text-repr-fallback\"><pre>Pipeline(steps=[(&#x27;dummify_everything&#x27;,\n",
       "                 ColumnTransformer(transformers=[(&#x27;dummify_s&#x27;, OneHotEncoder(),\n",
       "                                                  [&#x27;species&#x27;]),\n",
       "                                                 (&#x27;dummify_i&#x27;, OneHotEncoder(),\n",
       "                                                  [&#x27;island&#x27;]),\n",
       "                                                 (&#x27;dummify_sex&#x27;,\n",
       "                                                  OneHotEncoder(), [&#x27;sex&#x27;])])),\n",
       "                (&#x27;ols&#x27;, LinearRegression())])</pre><b>In a Jupyter environment, please rerun this cell to show the HTML representation or trust the notebook. <br />On GitHub, the HTML representation is unable to render, please try loading this page with nbviewer.org.</b></div><div class=\"sk-container\" hidden><div class=\"sk-item sk-dashed-wrapped\"><div class=\"sk-label-container\"><div class=\"sk-label sk-toggleable\"><input class=\"sk-toggleable__control sk-hidden--visually\" id=\"sk-estimator-id-1\" type=\"checkbox\" ><label for=\"sk-estimator-id-1\" class=\"sk-toggleable__label sk-toggleable__label-arrow\">Pipeline</label><div class=\"sk-toggleable__content\"><pre>Pipeline(steps=[(&#x27;dummify_everything&#x27;,\n",
       "                 ColumnTransformer(transformers=[(&#x27;dummify_s&#x27;, OneHotEncoder(),\n",
       "                                                  [&#x27;species&#x27;]),\n",
       "                                                 (&#x27;dummify_i&#x27;, OneHotEncoder(),\n",
       "                                                  [&#x27;island&#x27;]),\n",
       "                                                 (&#x27;dummify_sex&#x27;,\n",
       "                                                  OneHotEncoder(), [&#x27;sex&#x27;])])),\n",
       "                (&#x27;ols&#x27;, LinearRegression())])</pre></div></div></div><div class=\"sk-serial\"><div class=\"sk-item sk-dashed-wrapped\"><div class=\"sk-label-container\"><div class=\"sk-label sk-toggleable\"><input class=\"sk-toggleable__control sk-hidden--visually\" id=\"sk-estimator-id-2\" type=\"checkbox\" ><label for=\"sk-estimator-id-2\" class=\"sk-toggleable__label sk-toggleable__label-arrow\">dummify_everything: ColumnTransformer</label><div class=\"sk-toggleable__content\"><pre>ColumnTransformer(transformers=[(&#x27;dummify_s&#x27;, OneHotEncoder(), [&#x27;species&#x27;]),\n",
       "                                (&#x27;dummify_i&#x27;, OneHotEncoder(), [&#x27;island&#x27;]),\n",
       "                                (&#x27;dummify_sex&#x27;, OneHotEncoder(), [&#x27;sex&#x27;])])</pre></div></div></div><div class=\"sk-parallel\"><div class=\"sk-parallel-item\"><div class=\"sk-item\"><div class=\"sk-label-container\"><div class=\"sk-label sk-toggleable\"><input class=\"sk-toggleable__control sk-hidden--visually\" id=\"sk-estimator-id-3\" type=\"checkbox\" ><label for=\"sk-estimator-id-3\" class=\"sk-toggleable__label sk-toggleable__label-arrow\">dummify_s</label><div class=\"sk-toggleable__content\"><pre>[&#x27;species&#x27;]</pre></div></div></div><div class=\"sk-serial\"><div class=\"sk-item\"><div class=\"sk-estimator sk-toggleable\"><input class=\"sk-toggleable__control sk-hidden--visually\" id=\"sk-estimator-id-4\" type=\"checkbox\" ><label for=\"sk-estimator-id-4\" class=\"sk-toggleable__label sk-toggleable__label-arrow\">OneHotEncoder</label><div class=\"sk-toggleable__content\"><pre>OneHotEncoder()</pre></div></div></div></div></div></div><div class=\"sk-parallel-item\"><div class=\"sk-item\"><div class=\"sk-label-container\"><div class=\"sk-label sk-toggleable\"><input class=\"sk-toggleable__control sk-hidden--visually\" id=\"sk-estimator-id-5\" type=\"checkbox\" ><label for=\"sk-estimator-id-5\" class=\"sk-toggleable__label sk-toggleable__label-arrow\">dummify_i</label><div class=\"sk-toggleable__content\"><pre>[&#x27;island&#x27;]</pre></div></div></div><div class=\"sk-serial\"><div class=\"sk-item\"><div class=\"sk-estimator sk-toggleable\"><input class=\"sk-toggleable__control sk-hidden--visually\" id=\"sk-estimator-id-6\" type=\"checkbox\" ><label for=\"sk-estimator-id-6\" class=\"sk-toggleable__label sk-toggleable__label-arrow\">OneHotEncoder</label><div class=\"sk-toggleable__content\"><pre>OneHotEncoder()</pre></div></div></div></div></div></div><div class=\"sk-parallel-item\"><div class=\"sk-item\"><div class=\"sk-label-container\"><div class=\"sk-label sk-toggleable\"><input class=\"sk-toggleable__control sk-hidden--visually\" id=\"sk-estimator-id-7\" type=\"checkbox\" ><label for=\"sk-estimator-id-7\" class=\"sk-toggleable__label sk-toggleable__label-arrow\">dummify_sex</label><div class=\"sk-toggleable__content\"><pre>[&#x27;sex&#x27;]</pre></div></div></div><div class=\"sk-serial\"><div class=\"sk-item\"><div class=\"sk-estimator sk-toggleable\"><input class=\"sk-toggleable__control sk-hidden--visually\" id=\"sk-estimator-id-8\" type=\"checkbox\" ><label for=\"sk-estimator-id-8\" class=\"sk-toggleable__label sk-toggleable__label-arrow\">OneHotEncoder</label><div class=\"sk-toggleable__content\"><pre>OneHotEncoder()</pre></div></div></div></div></div></div></div></div><div class=\"sk-item\"><div class=\"sk-estimator sk-toggleable\"><input class=\"sk-toggleable__control sk-hidden--visually\" id=\"sk-estimator-id-9\" type=\"checkbox\" ><label for=\"sk-estimator-id-9\" class=\"sk-toggleable__label sk-toggleable__label-arrow\">LinearRegression</label><div class=\"sk-toggleable__content\"><pre>LinearRegression()</pre></div></div></div></div></div></div></div>"
      ],
      "text/plain": [
       "Pipeline(steps=[('dummify_everything',\n",
       "                 ColumnTransformer(transformers=[('dummify_s', OneHotEncoder(),\n",
       "                                                  ['species']),\n",
       "                                                 ('dummify_i', OneHotEncoder(),\n",
       "                                                  ['island']),\n",
       "                                                 ('dummify_sex',\n",
       "                                                  OneHotEncoder(), ['sex'])])),\n",
       "                ('ols', LinearRegression())])"
      ]
     },
     "execution_count": 7,
     "metadata": {},
     "output_type": "execute_result"
    }
   ],
   "source": [
    "fitted_my_pipeline = my_pipeline.fit(X_train, y_train)\n",
    "fitted_my_pipeline"
   ]
  },
  {
   "cell_type": "code",
   "execution_count": 8,
   "metadata": {
    "colab": {
     "base_uri": "https://localhost:8080/"
    },
    "id": "KGIXvIT3Ae3v",
    "outputId": "5262dc00-4695-467c-f3d8-f6814e7c9252"
   },
   "outputs": [
    {
     "data": {
      "text/plain": [
       "0.8270204894546155"
      ]
     },
     "execution_count": 8,
     "metadata": {},
     "output_type": "execute_result"
    }
   ],
   "source": [
    "#USING ALL VARIABLES TO PREDICT BILL_DEPTH_MM\n",
    "y_preds_all = fitted_my_pipeline.predict(X_test)\n",
    "y_train_all = fitted_my_pipeline.predict(X_train)\n",
    "\n",
    "\n",
    "r2_all_test = r2_score(y_test, y_preds_all)\n",
    "r2_all_test\n",
    "\n",
    "r2_all_train = r2_score(y_train, y_train_all)\n",
    "r2_all_train"
   ]
  },
  {
   "cell_type": "markdown",
   "metadata": {
    "id": "TT1MVgaKm_gX"
   },
   "source": [
    "Let's use the other variables to predict `bill_depth_mm`. Prepare your data and fit the following models on the entire dataset:\n",
    "\n",
    "* Four different models, each containing a different set of predictor variables\n",
    "\n",
    "Create a plot like the right plot of Fig 1. in our `Model Validation` chapter with the training and test error plotted for each of your four models.\n",
    "\n",
    "Which of your models was best?"
   ]
  },
  {
   "cell_type": "code",
   "execution_count": 9,
   "metadata": {
    "id": "rrSE23ozDIJ8"
   },
   "outputs": [],
   "source": [
    "#using ONLY BILL_LENGTH_MM to predict bill_depth_mm\n",
    "X1 = penguins[[\"bill_length_mm\"]] #X is still a dataframe, can have many columns\n",
    "y1 = penguins[\"bill_depth_mm\"] #1D just one column of ur y\n",
    "X_train1, X_test1, y_train1, y_test1 = train_test_split(X1,y1)"
   ]
  },
  {
   "cell_type": "code",
   "execution_count": 10,
   "metadata": {
    "colab": {
     "base_uri": "https://localhost:8080/"
    },
    "id": "sqqR2sdIDR-u",
    "outputId": "bd8a39a0-02e6-4783-d500-408f5174834e"
   },
   "outputs": [
    {
     "data": {
      "text/plain": [
       "0.06946359363334176"
      ]
     },
     "execution_count": 10,
     "metadata": {},
     "output_type": "execute_result"
    }
   ],
   "source": [
    "my_pipeline_1 = Pipeline(\n",
    "    [('ols', lr)] #labeling each step\n",
    ")\n",
    "\n",
    "fitted_my_pipeline_1 = my_pipeline_1.fit(X_train1, y_train1)\n",
    "fitted_my_pipeline_1\n",
    "\n",
    "y_preds_1 = fitted_my_pipeline_1.predict(X_test1)\n",
    "y_preds_1\n",
    "\n",
    "r2_score(y_test1, y_preds_1)"
   ]
  },
  {
   "cell_type": "code",
   "execution_count": 11,
   "metadata": {
    "colab": {
     "base_uri": "https://localhost:8080/"
    },
    "id": "b6y2xL1lOuwE",
    "outputId": "c9e0313d-307c-4456-bc8f-226ccadf489f"
   },
   "outputs": [
    {
     "data": {
      "text/plain": [
       "0.045211366365880745"
      ]
     },
     "execution_count": 11,
     "metadata": {},
     "output_type": "execute_result"
    }
   ],
   "source": [
    "y_preds_1 = fitted_my_pipeline_1.predict(X_test1)\n",
    "y_train_1 = fitted_my_pipeline_1.predict(X_train1)\n",
    "\n",
    "\n",
    "r2_all_test1 = r2_score(y_test1, y_preds_1)\n",
    "r2_all_test1\n",
    "\n",
    "r2_all_train1 = r2_score(y_train1, y_train_1)\n",
    "r2_all_train1"
   ]
  },
  {
   "cell_type": "code",
   "execution_count": 12,
   "metadata": {
    "id": "xLOF0y1xEIpZ"
   },
   "outputs": [],
   "source": [
    "#USING BILL_LENGTH_MM AND SPECIES AND ISLAND\n",
    "#using ONLY BILL_LENGTH_MM to predict bill_depth_mm\n",
    "X2 = penguins[[\"bill_length_mm\", \"species\", \"island\"]] #X is still a dataframe, can have many columns\n",
    "y2 = penguins[\"bill_depth_mm\"] #1D just one column of ur y\n",
    "X_train2, X_test2, y_train2, y_test2 = train_test_split(X2,y2)"
   ]
  },
  {
   "cell_type": "code",
   "execution_count": 13,
   "metadata": {
    "id": "2VI1gRK8FdIx"
   },
   "outputs": [],
   "source": [
    "ct2 = ColumnTransformer(\n",
    "    [(\"dummify_s\", enc, [\"species\"]),\n",
    "    (\"dummify_i\", enc, [\"island\"])]\n",
    ") #dummifying multiple columns, only one list of multiple columns\n",
    "\n",
    "my_pipeline2 = Pipeline(\n",
    "    [('dummify_everything', ct2), ('ols', lr)] #labeling each step\n",
    ") #run data through this pipeline to dummify and then run linear regression"
   ]
  },
  {
   "cell_type": "code",
   "execution_count": 14,
   "metadata": {
    "colab": {
     "base_uri": "https://localhost:8080/"
    },
    "id": "8FZWn9FAGKdP",
    "outputId": "18272639-e78e-4662-f1d2-36133efa90d6"
   },
   "outputs": [
    {
     "data": {
      "text/plain": [
       "0.618365844947566"
      ]
     },
     "execution_count": 14,
     "metadata": {},
     "output_type": "execute_result"
    }
   ],
   "source": [
    "fitted_my_pipeline2 = my_pipeline2.fit(X_train2, y_train2)\n",
    "fitted_my_pipeline2\n",
    "\n",
    "y_preds_2 = fitted_my_pipeline2.predict(X_test2)\n",
    "y_preds_2\n",
    "\n",
    "r2_score(y_test2, y_preds_2)"
   ]
  },
  {
   "cell_type": "code",
   "execution_count": 15,
   "metadata": {
    "colab": {
     "base_uri": "https://localhost:8080/"
    },
    "id": "Dom0uw0UPDJz",
    "outputId": "5e7b4eaf-7c58-4658-e8ce-d26a2522b80a"
   },
   "outputs": [
    {
     "data": {
      "text/plain": [
       "0.6857424525148492"
      ]
     },
     "execution_count": 15,
     "metadata": {},
     "output_type": "execute_result"
    }
   ],
   "source": [
    "y_preds_2 = fitted_my_pipeline2.predict(X_test2)\n",
    "y_train_2 = fitted_my_pipeline2.predict(X_train2)\n",
    "\n",
    "\n",
    "r2_all_test2 = r2_score(y_test2, y_preds_2)\n",
    "r2_all_test2\n",
    "\n",
    "r2_all_train2 = r2_score(y_train2, y_train_2)\n",
    "r2_all_train2"
   ]
  },
  {
   "cell_type": "code",
   "execution_count": 16,
   "metadata": {
    "id": "ogUciMvLHxs7"
   },
   "outputs": [],
   "source": [
    "#USING BILL_LENGTH_MM, SPECIES, ISLAND, AND SEX\n",
    "X3 = penguins[[\"bill_length_mm\", \"species\", \"island\", \"sex\"]] #X is still a dataframe, can have many columns\n",
    "y3 = penguins[\"bill_depth_mm\"] #1D just one column of ur y\n",
    "X_train3, X_test3, y_train3, y_test3 = train_test_split(X3,y3)"
   ]
  },
  {
   "cell_type": "code",
   "execution_count": 17,
   "metadata": {
    "id": "Ihxd5zX4IyyU"
   },
   "outputs": [],
   "source": [
    "ct3 = ColumnTransformer(\n",
    "    [(\"dummify_s\", enc, [\"species\"]),\n",
    "    (\"dummify_i\", enc, [\"island\"]),\n",
    "     (\"dummify_i\", enc, [\"sex\"])]\n",
    ") #dummifying multiple columns, only one list of multiple columns\n",
    "\n",
    "my_pipeline3 = Pipeline(\n",
    "    [('dummify_everything', ct2), ('ols', lr)] #labeling each step\n",
    ") #run data through this pipeline to dummify and then run linear regression"
   ]
  },
  {
   "cell_type": "code",
   "execution_count": 18,
   "metadata": {
    "colab": {
     "base_uri": "https://localhost:8080/"
    },
    "id": "6FlDucQaJVB_",
    "outputId": "a46cc3f8-24aa-47c5-aa59-259d47b87130"
   },
   "outputs": [
    {
     "data": {
      "text/plain": [
       "0.6617954800606638"
      ]
     },
     "execution_count": 18,
     "metadata": {},
     "output_type": "execute_result"
    }
   ],
   "source": [
    "fitted_my_pipeline_3 = my_pipeline3.fit(X_train3, y_train3)\n",
    "fitted_my_pipeline_3\n",
    "\n",
    "y_preds_3 = fitted_my_pipeline_3.predict(X_test3)\n",
    "y_preds_3\n",
    "\n",
    "r2_score(y_test3, y_preds_3)"
   ]
  },
  {
   "cell_type": "code",
   "execution_count": 19,
   "metadata": {
    "colab": {
     "base_uri": "https://localhost:8080/"
    },
    "id": "6eWdd_mJP3Eh",
    "outputId": "8d7a13ce-ac9c-422c-bb79-eb26b19037d0"
   },
   "outputs": [
    {
     "data": {
      "text/plain": [
       "0.678525536371036"
      ]
     },
     "execution_count": 19,
     "metadata": {},
     "output_type": "execute_result"
    }
   ],
   "source": [
    "y_preds_3 = fitted_my_pipeline_3.predict(X_test3)\n",
    "y_train_3 = fitted_my_pipeline_3.predict(X_train3)\n",
    "\n",
    "\n",
    "r2_all_test3 = r2_score(y_test3, y_preds_3)\n",
    "r2_all_test3\n",
    "\n",
    "r2_all_train3 = r2_score(y_train3, y_train_3)\n",
    "r2_all_train3"
   ]
  },
  {
   "cell_type": "code",
   "execution_count": 20,
   "metadata": {
    "colab": {
     "base_uri": "https://localhost:8080/",
     "height": 175
    },
    "id": "CXNVPAKsQIIG",
    "outputId": "e822dc15-d8f3-4454-f0da-5371b72f691e"
   },
   "outputs": [
    {
     "data": {
      "text/html": [
       "<div>\n",
       "<style scoped>\n",
       "    .dataframe tbody tr th:only-of-type {\n",
       "        vertical-align: middle;\n",
       "    }\n",
       "\n",
       "    .dataframe tbody tr th {\n",
       "        vertical-align: top;\n",
       "    }\n",
       "\n",
       "    .dataframe thead th {\n",
       "        text-align: right;\n",
       "    }\n",
       "</style>\n",
       "<table border=\"1\" class=\"dataframe\">\n",
       "  <thead>\n",
       "    <tr style=\"text-align: right;\">\n",
       "      <th></th>\n",
       "      <th>model</th>\n",
       "      <th>num_predictors</th>\n",
       "      <th>r2_test</th>\n",
       "      <th>r2_train</th>\n",
       "    </tr>\n",
       "  </thead>\n",
       "  <tbody>\n",
       "    <tr>\n",
       "      <th>0</th>\n",
       "      <td>1</td>\n",
       "      <td>7</td>\n",
       "      <td>0.809304</td>\n",
       "      <td>0.827020</td>\n",
       "    </tr>\n",
       "    <tr>\n",
       "      <th>1</th>\n",
       "      <td>2</td>\n",
       "      <td>1</td>\n",
       "      <td>0.069464</td>\n",
       "      <td>0.045211</td>\n",
       "    </tr>\n",
       "    <tr>\n",
       "      <th>2</th>\n",
       "      <td>3</td>\n",
       "      <td>3</td>\n",
       "      <td>0.618366</td>\n",
       "      <td>0.685742</td>\n",
       "    </tr>\n",
       "    <tr>\n",
       "      <th>3</th>\n",
       "      <td>4</td>\n",
       "      <td>4</td>\n",
       "      <td>0.661795</td>\n",
       "      <td>0.678526</td>\n",
       "    </tr>\n",
       "  </tbody>\n",
       "</table>\n",
       "</div>"
      ],
      "text/plain": [
       "   model  num_predictors   r2_test  r2_train\n",
       "0      1               7  0.809304  0.827020\n",
       "1      2               1  0.069464  0.045211\n",
       "2      3               3  0.618366  0.685742\n",
       "3      4               4  0.661795  0.678526"
      ]
     },
     "execution_count": 20,
     "metadata": {},
     "output_type": "execute_result"
    }
   ],
   "source": [
    "model_num = [1, 2, 3, 4]\n",
    "num_predictors = [7, 1, 3, 4]\n",
    "r2_test = [r2_all_test, r2_all_test1, r2_all_test2, r2_all_test3]\n",
    "r2_train = [r2_all_train, r2_all_train1, r2_all_train2, r2_all_train3]\n",
    "\n",
    "df = pd.DataFrame({\"model\": model_num,\n",
    "                   \"num_predictors\": num_predictors,\n",
    "                   \"r2_test\": r2_test,\n",
    "                   \"r2_train\": r2_train})\n",
    "df"
   ]
  },
  {
   "cell_type": "code",
   "execution_count": 21,
   "metadata": {
    "colab": {
     "base_uri": "https://localhost:8080/",
     "height": 515
    },
    "id": "kxejyAJGTaDy",
    "outputId": "f5b749c6-91fa-4a88-cf6c-e5dbcd015671"
   },
   "outputs": [
    {
     "data": {
      "image/png": "[encoded data removed]",
      "text/plain": [
       "<Figure size 640x480 with 1 Axes>"
      ]
     },
     "metadata": {
      "image/png": {
       "height": 480,
       "width": 640
      }
     },
     "output_type": "display_data"
    },
    {
     "data": {
      "text/plain": [
       "<Figure Size: (640 x 480)>"
      ]
     },
     "execution_count": 21,
     "metadata": {},
     "output_type": "execute_result"
    }
   ],
   "source": [
    "from plotnine import *\n",
    "(ggplot(df, aes(x = \"num_predictors\", y = \"r2_test\"))\n",
    "+ geom_line(color = \"red\")\n",
    "+ geom_line(aes(y = \"r2_train\"), color = \"green\")\n",
    ")"
   ]
  },
  {
   "cell_type": "markdown",
   "metadata": {
    "id": "VPrD6QFJWF3e"
   },
   "source": [
    "As the number of explanatory variables increase, R^2 increases as well. Thus, model 1, where there are 7 explanatory variables, is the better model. The R^2 values between the testing and training models are very similar as well."
   ]
  }
 ],
 "metadata": {
  "colab": {
   "provenance": []
  },
  "kernelspec": {
   "display_name": "Python 3 (ipykernel)",
   "language": "python",
   "name": "python3"
  },
  "language_info": {
   "codemirror_mode": {
    "name": "ipython",
    "version": 3
   },
   "file_extension": ".py",
   "mimetype": "text/x-python",
   "name": "python",
   "nbconvert_exporter": "python",
   "pygments_lexer": "ipython3",
   "version": "3.11.4"
  }
 },
 "nbformat": 4,
 "nbformat_minor": 4
}
