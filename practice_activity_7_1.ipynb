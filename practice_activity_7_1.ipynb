{
 "cells": [
  {
   "cell_type": "raw",
   "metadata": {},
   "source": [
    "---\n",
    "self-contained: true\n",
    "title: \"Practice Activity 7.1\"\n",
    "format:\n",
    "  html:\n",
    "    theme: default\n",
    "---"
   ]
  },
  {
   "cell_type": "code",
   "execution_count": 12,
   "metadata": {
    "id": "X0Vh1wMbBJ6S",
    "tags": []
   },
   "outputs": [],
   "source": [
    "import pandas as pd\n",
    "import numpy as np\n",
    "from sklearn.pipeline import Pipeline\n",
    "from sklearn.preprocessing import StandardScaler, OneHotEncoder, PolynomialFeatures\n",
    "from sklearn.linear_model import LinearRegression\n",
    "from sklearn.model_selection import train_test_split\n",
    "from sklearn.metrics import r2_score\n",
    "from sklearn.metrics import mean_squared_error\n",
    "from sklearn.compose import ColumnTransformer\n",
    "from sklearn.model_selection import cross_val_score\n",
    "from sklearn.model_selection import GridSearchCV\n"
   ]
  },
  {
   "cell_type": "markdown",
   "metadata": {
    "id": "sXTjm9goDrmF"
   },
   "source": [
    "#Reading the data"
   ]
  },
  {
   "cell_type": "code",
   "execution_count": 13,
   "metadata": {
    "colab": {
     "base_uri": "https://localhost:8080/",
     "height": 273
    },
    "id": "OJWdqZPJDGXk",
    "outputId": "9341e53b-d142-406a-b09d-5fe1ac750cea",
    "tags": []
   },
   "outputs": [
    {
     "data": {
      "text/html": [
       "<div>\n",
       "<style scoped>\n",
       "    .dataframe tbody tr th:only-of-type {\n",
       "        vertical-align: middle;\n",
       "    }\n",
       "\n",
       "    .dataframe tbody tr th {\n",
       "        vertical-align: top;\n",
       "    }\n",
       "\n",
       "    .dataframe thead th {\n",
       "        text-align: right;\n",
       "    }\n",
       "</style>\n",
       "<table border=\"1\" class=\"dataframe\">\n",
       "  <thead>\n",
       "    <tr style=\"text-align: right;\">\n",
       "      <th></th>\n",
       "      <th>Order</th>\n",
       "      <th>PID</th>\n",
       "      <th>MS SubClass</th>\n",
       "      <th>MS Zoning</th>\n",
       "      <th>Lot Frontage</th>\n",
       "      <th>Lot Area</th>\n",
       "      <th>Street</th>\n",
       "      <th>Alley</th>\n",
       "      <th>Lot Shape</th>\n",
       "      <th>Land Contour</th>\n",
       "      <th>...</th>\n",
       "      <th>Pool Area</th>\n",
       "      <th>Pool QC</th>\n",
       "      <th>Fence</th>\n",
       "      <th>Misc Feature</th>\n",
       "      <th>Misc Val</th>\n",
       "      <th>Mo Sold</th>\n",
       "      <th>Yr Sold</th>\n",
       "      <th>Sale Type</th>\n",
       "      <th>Sale Condition</th>\n",
       "      <th>SalePrice</th>\n",
       "    </tr>\n",
       "  </thead>\n",
       "  <tbody>\n",
       "    <tr>\n",
       "      <th>0</th>\n",
       "      <td>1</td>\n",
       "      <td>526301100</td>\n",
       "      <td>20</td>\n",
       "      <td>RL</td>\n",
       "      <td>141.0</td>\n",
       "      <td>31770</td>\n",
       "      <td>Pave</td>\n",
       "      <td>NaN</td>\n",
       "      <td>IR1</td>\n",
       "      <td>Lvl</td>\n",
       "      <td>...</td>\n",
       "      <td>0</td>\n",
       "      <td>NaN</td>\n",
       "      <td>NaN</td>\n",
       "      <td>NaN</td>\n",
       "      <td>0</td>\n",
       "      <td>5</td>\n",
       "      <td>2010</td>\n",
       "      <td>WD</td>\n",
       "      <td>Normal</td>\n",
       "      <td>215000</td>\n",
       "    </tr>\n",
       "    <tr>\n",
       "      <th>1</th>\n",
       "      <td>2</td>\n",
       "      <td>526350040</td>\n",
       "      <td>20</td>\n",
       "      <td>RH</td>\n",
       "      <td>80.0</td>\n",
       "      <td>11622</td>\n",
       "      <td>Pave</td>\n",
       "      <td>NaN</td>\n",
       "      <td>Reg</td>\n",
       "      <td>Lvl</td>\n",
       "      <td>...</td>\n",
       "      <td>0</td>\n",
       "      <td>NaN</td>\n",
       "      <td>MnPrv</td>\n",
       "      <td>NaN</td>\n",
       "      <td>0</td>\n",
       "      <td>6</td>\n",
       "      <td>2010</td>\n",
       "      <td>WD</td>\n",
       "      <td>Normal</td>\n",
       "      <td>105000</td>\n",
       "    </tr>\n",
       "    <tr>\n",
       "      <th>2</th>\n",
       "      <td>3</td>\n",
       "      <td>526351010</td>\n",
       "      <td>20</td>\n",
       "      <td>RL</td>\n",
       "      <td>81.0</td>\n",
       "      <td>14267</td>\n",
       "      <td>Pave</td>\n",
       "      <td>NaN</td>\n",
       "      <td>IR1</td>\n",
       "      <td>Lvl</td>\n",
       "      <td>...</td>\n",
       "      <td>0</td>\n",
       "      <td>NaN</td>\n",
       "      <td>NaN</td>\n",
       "      <td>Gar2</td>\n",
       "      <td>12500</td>\n",
       "      <td>6</td>\n",
       "      <td>2010</td>\n",
       "      <td>WD</td>\n",
       "      <td>Normal</td>\n",
       "      <td>172000</td>\n",
       "    </tr>\n",
       "    <tr>\n",
       "      <th>3</th>\n",
       "      <td>4</td>\n",
       "      <td>526353030</td>\n",
       "      <td>20</td>\n",
       "      <td>RL</td>\n",
       "      <td>93.0</td>\n",
       "      <td>11160</td>\n",
       "      <td>Pave</td>\n",
       "      <td>NaN</td>\n",
       "      <td>Reg</td>\n",
       "      <td>Lvl</td>\n",
       "      <td>...</td>\n",
       "      <td>0</td>\n",
       "      <td>NaN</td>\n",
       "      <td>NaN</td>\n",
       "      <td>NaN</td>\n",
       "      <td>0</td>\n",
       "      <td>4</td>\n",
       "      <td>2010</td>\n",
       "      <td>WD</td>\n",
       "      <td>Normal</td>\n",
       "      <td>244000</td>\n",
       "    </tr>\n",
       "    <tr>\n",
       "      <th>4</th>\n",
       "      <td>5</td>\n",
       "      <td>527105010</td>\n",
       "      <td>60</td>\n",
       "      <td>RL</td>\n",
       "      <td>74.0</td>\n",
       "      <td>13830</td>\n",
       "      <td>Pave</td>\n",
       "      <td>NaN</td>\n",
       "      <td>IR1</td>\n",
       "      <td>Lvl</td>\n",
       "      <td>...</td>\n",
       "      <td>0</td>\n",
       "      <td>NaN</td>\n",
       "      <td>MnPrv</td>\n",
       "      <td>NaN</td>\n",
       "      <td>0</td>\n",
       "      <td>3</td>\n",
       "      <td>2010</td>\n",
       "      <td>WD</td>\n",
       "      <td>Normal</td>\n",
       "      <td>189900</td>\n",
       "    </tr>\n",
       "  </tbody>\n",
       "</table>\n",
       "<p>5 rows × 82 columns</p>\n",
       "</div>"
      ],
      "text/plain": [
       "   Order        PID  MS SubClass MS Zoning  Lot Frontage  Lot Area Street  \\\n",
       "0      1  526301100           20        RL         141.0     31770   Pave   \n",
       "1      2  526350040           20        RH          80.0     11622   Pave   \n",
       "2      3  526351010           20        RL          81.0     14267   Pave   \n",
       "3      4  526353030           20        RL          93.0     11160   Pave   \n",
       "4      5  527105010           60        RL          74.0     13830   Pave   \n",
       "\n",
       "  Alley Lot Shape Land Contour  ... Pool Area Pool QC  Fence Misc Feature  \\\n",
       "0   NaN       IR1          Lvl  ...         0     NaN    NaN          NaN   \n",
       "1   NaN       Reg          Lvl  ...         0     NaN  MnPrv          NaN   \n",
       "2   NaN       IR1          Lvl  ...         0     NaN    NaN         Gar2   \n",
       "3   NaN       Reg          Lvl  ...         0     NaN    NaN          NaN   \n",
       "4   NaN       IR1          Lvl  ...         0     NaN  MnPrv          NaN   \n",
       "\n",
       "  Misc Val Mo Sold Yr Sold Sale Type  Sale Condition  SalePrice  \n",
       "0        0       5    2010       WD           Normal     215000  \n",
       "1        0       6    2010       WD           Normal     105000  \n",
       "2    12500       6    2010       WD           Normal     172000  \n",
       "3        0       4    2010       WD           Normal     244000  \n",
       "4        0       3    2010       WD           Normal     189900  \n",
       "\n",
       "[5 rows x 82 columns]"
      ]
     },
     "execution_count": 13,
     "metadata": {},
     "output_type": "execute_result"
    }
   ],
   "source": [
    "house_df = pd.read_csv(\"/Users/conniechou/Downloads/AmesHousing.csv\")\n",
    "house_df.head()"
   ]
  },
  {
   "cell_type": "markdown",
   "metadata": {
    "id": "sTDrMPumDW_i"
   },
   "source": [
    "# Model 1: using only size and number of rooms"
   ]
  },
  {
   "cell_type": "code",
   "execution_count": 14,
   "metadata": {
    "id": "v6OsTkceDU_c",
    "tags": []
   },
   "outputs": [],
   "source": [
    "#size = GrLivArea\n",
    "#number of rooms = TotRms AbvGrd\n",
    "X = house_df.drop(\"SalePrice\", axis = 1) #keep all columns except ur y\n",
    "y = house_df[\"SalePrice\"]\n",
    "\n",
    "X_train, X_test, y_train, y_test = train_test_split(X, y)"
   ]
  },
  {
   "cell_type": "code",
   "execution_count": 15,
   "metadata": {
    "id": "Lcv03UoXFjKP",
    "tags": []
   },
   "outputs": [],
   "source": [
    "lr = LinearRegression()\n",
    "std_s = StandardScaler()\n",
    "\n",
    "ct = ColumnTransformer(\n",
    "    [(\"standardize\", std_s, [\"Gr Liv Area\", \"TotRms AbvGrd\"])],\n",
    "    remainder = \"drop\" #drop the columns we dont need\n",
    ")\n",
    "\n",
    "lr_pipeline = Pipeline(\n",
    "  [(\"standardize\", ct),\n",
    "  (\"linear_regression\", lr)]\n",
    ")\n",
    "\n",
    "lr_pipeline_fitted = lr_pipeline.fit(X_train, y_train) #fit the model with training data (learn from training data)\n",
    "y_preds = lr_pipeline_fitted.predict(X_test)"
   ]
  },
  {
   "cell_type": "code",
   "execution_count": 16,
   "metadata": {
    "colab": {
     "base_uri": "https://localhost:8080/"
    },
    "id": "er5GSjMwGWF0",
    "outputId": "ef7fd8f0-fa45-48ec-c13f-33d4899e471b"
   },
   "outputs": [
    {
     "data": {
      "text/plain": [
       "51648.26945316397"
      ]
     },
     "execution_count": 16,
     "metadata": {},
     "output_type": "execute_result"
    }
   ],
   "source": [
    "rmse1 = mean_squared_error(y_test, y_preds, squared = False)\n",
    "rmse1"
   ]
  },
  {
   "cell_type": "markdown",
   "metadata": {
    "id": "xdwINm0ADbI8"
   },
   "source": [
    "#Model 2: Using size, number of rooms, and building type"
   ]
  },
  {
   "cell_type": "code",
   "execution_count": 17,
   "metadata": {
    "id": "5v4vnslr5Ax8"
   },
   "outputs": [],
   "source": [
    "enc = OneHotEncoder(sparse_output = False)\n",
    "\n",
    "ct = ColumnTransformer(\n",
    "    [(\"standardize\", std_s, [\"Gr Liv Area\", \"TotRms AbvGrd\"]),\n",
    "     (\"dummify\", enc, [\"Bldg Type\"])],\n",
    "    remainder = \"drop\" #drop the columns we dont need\n",
    ")\n",
    "\n",
    "lr_pipeline2 = Pipeline(\n",
    "  [(\"preprocessing\", ct),\n",
    "  (\"linear_regression\", lr)]\n",
    ")\n",
    "\n",
    "lr_pipeline_fitted2 = lr_pipeline2.fit(X_train, y_train) #fit the model with training data (learn from training data)\n",
    "y_preds2 = lr_pipeline_fitted2.predict(X_test)"
   ]
  },
  {
   "cell_type": "code",
   "execution_count": 18,
   "metadata": {
    "colab": {
     "base_uri": "https://localhost:8080/"
    },
    "id": "-f-7eiTV5EC0",
    "outputId": "e4acc6e4-a32d-4c78-9ed4-d21a44daeced"
   },
   "outputs": [
    {
     "data": {
      "text/plain": [
       "50172.44036368484"
      ]
     },
     "execution_count": 18,
     "metadata": {},
     "output_type": "execute_result"
    }
   ],
   "source": [
    "rmse2 = mean_squared_error(y_test, y_preds2, squared = False)\n",
    "rmse2"
   ]
  },
  {
   "cell_type": "markdown",
   "metadata": {
    "id": "DwfM2PVXDbRQ"
   },
   "source": [
    "#Model 3: using size and building type, and their interaction"
   ]
  },
  {
   "cell_type": "code",
   "execution_count": 19,
   "metadata": {
    "id": "U4xD3qW76tMK",
    "tags": []
   },
   "outputs": [],
   "source": [
    "#size = numerical\n",
    "#building type = dummy\n",
    "enc = OneHotEncoder(sparse_output = False)\n",
    "\n",
    "#first transform building type into dummy in its own column transformer\n",
    "ct_dummy = ColumnTransformer(\n",
    "    [(\"dummify\", enc, [\"Bldg Type\"])], remainder = \"passthrough\"\n",
    ").set_output(transform = \"pandas\")\n",
    "\n",
    "ct_dummy.fit_transform(X_train)\n",
    "\n",
    "#then another column transformer to have interaction between size and dummified building type\n",
    "ct_interact = ColumnTransformer(\n",
    "    [(\"interaction\", PolynomialFeatures(interaction_only = True), [\"remainder__Gr Liv Area\", \"dummify__Bldg Type_1Fam\"]),\n",
    "    (\"interaction2\", PolynomialFeatures(interaction_only = True), [\"remainder__Gr Liv Area\", \"dummify__Bldg Type_2fmCon\"]),\n",
    "    (\"interaction3\", PolynomialFeatures(interaction_only = True), [\"remainder__Gr Liv Area\", \"dummify__Bldg Type_Duplex\"]),\n",
    "    (\"interaction4\", PolynomialFeatures(interaction_only = True), [\"remainder__Gr Liv Area\", \"dummify__Bldg Type_Twnhs\"]),\n",
    "    (\"interaction5\", PolynomialFeatures(interaction_only = True), [\"remainder__Gr Liv Area\", \"dummify__Bldg Type_TwnhsE\"])],\n",
    ").set_output(transform = \"pandas\")\n",
    "\n",
    "lr_pipeline_inter = Pipeline(\n",
    "    [(\"dummify\", ct_dummy),\n",
    "     (\"interacting\", ct_interact),\n",
    "      (\"linear regression\", lr)]\n",
    ").set_output(transform = \"pandas\")\n",
    "\n",
    "#fitting model on training data\n",
    "lr_pipeline_fitted3 = lr_pipeline_inter.fit(X_train, y_train) #fit the model with training data (learn from training data)\n",
    "y_preds3 = lr_pipeline_fitted3.predict(X_test)"
   ]
  },
  {
   "cell_type": "code",
   "execution_count": 20,
   "metadata": {
    "colab": {
     "base_uri": "https://localhost:8080/"
    },
    "id": "N1fFzvb56tSB",
    "outputId": "ea3d6f56-eb37-497a-e915-798902ac5910",
    "tags": []
   },
   "outputs": [
    {
     "data": {
      "text/plain": [
       "49781.53976645589"
      ]
     },
     "execution_count": 20,
     "metadata": {},
     "output_type": "execute_result"
    }
   ],
   "source": [
    "rmse3 = mean_squared_error(y_test, y_preds3, squared = False)\n",
    "rmse3"
   ]
  },
  {
   "cell_type": "markdown",
   "metadata": {
    "id": "4MVf54sdDbZ3"
   },
   "source": [
    "#Model 4: using a 5-degree polynomial on size, a 5 degree polynomial on number of rooms, and also building type"
   ]
  },
  {
   "cell_type": "code",
   "execution_count": 21,
   "metadata": {
    "id": "X8mCVLTe-zeQ"
   },
   "outputs": [],
   "source": [
    "#size = numerical\n",
    "#building type = dummy\n",
    "enc = OneHotEncoder(sparse_output = False)\n",
    "\n",
    "#first transform building type into dummy in its own column transformer\n",
    "ct_preprocess = ColumnTransformer(\n",
    "    [(\"dummify\", enc, [\"Bldg Type\"]),\n",
    "     (\"polynomial\", PolynomialFeatures(degree = 5), [\"Gr Liv Area\", \"TotRms AbvGrd\"])], remainder = \"drop\"\n",
    ").set_output(transform = \"pandas\")\n",
    "\n",
    "ct_preprocess.fit_transform(X_train)\n",
    "\n",
    "lr_pipeline_poly = Pipeline(\n",
    "    [(\"preprocessing\", ct_preprocess),\n",
    "      (\"linear regression\", lr)]\n",
    ").set_output(transform = \"pandas\")\n",
    "\n",
    "#fitting model on training data\n",
    "lr_pipeline_fitted4 = lr_pipeline_poly.fit(X_train, y_train) #fit the model with training data (learn from training data)\n",
    "y_preds4 = lr_pipeline_fitted4.predict(X_test)"
   ]
  },
  {
   "cell_type": "code",
   "execution_count": 22,
   "metadata": {
    "colab": {
     "base_uri": "https://localhost:8080/"
    },
    "id": "ziHmDXYm-ziU",
    "outputId": "249bca24-d34b-4c8d-f6cc-3f04c2ecd428"
   },
   "outputs": [
    {
     "data": {
      "text/plain": [
       "51389.070588149676"
      ]
     },
     "execution_count": 22,
     "metadata": {},
     "output_type": "execute_result"
    }
   ],
   "source": [
    "rmse4 = mean_squared_error(y_test, y_preds4, squared = False)\n",
    "rmse4"
   ]
  },
  {
   "cell_type": "markdown",
   "metadata": {
    "id": "uEeg13hVHZLu"
   },
   "source": [
    "The model that performed the best (that had the lowest RSME) is model 2."
   ]
  },
  {
   "cell_type": "markdown",
   "metadata": {
    "id": "YLfnb8edKkww"
   },
   "source": [
    "#Cross Validation"
   ]
  },
  {
   "cell_type": "code",
   "execution_count": 23,
   "metadata": {
    "colab": {
     "base_uri": "https://localhost:8080/"
    },
    "id": "1KDJf2vzKkA-",
    "outputId": "4c1ac6e2-3f88-45b1-a1a5-b496614e1476"
   },
   "outputs": [
    {
     "data": {
      "text/plain": [
       "55806.32634926364"
      ]
     },
     "execution_count": 23,
     "metadata": {},
     "output_type": "execute_result"
    }
   ],
   "source": [
    "#rsme cross validation for model 1\n",
    "scores = cross_val_score(lr_pipeline, X, y, cv=5, scoring='neg_root_mean_squared_error')\n",
    "-scores.mean()"
   ]
  },
  {
   "cell_type": "code",
   "execution_count": 24,
   "metadata": {
    "colab": {
     "base_uri": "https://localhost:8080/"
    },
    "id": "FbCjOFpvF-1z",
    "outputId": "221a7873-6b3e-405b-e793-907e45fe9590"
   },
   "outputs": [
    {
     "data": {
      "text/plain": [
       "54168.08142919383"
      ]
     },
     "execution_count": 24,
     "metadata": {},
     "output_type": "execute_result"
    }
   ],
   "source": [
    "#rsme cross validation for model 2\n",
    "scores2 = cross_val_score(lr_pipeline2, X, y, cv=5, scoring='neg_root_mean_squared_error')\n",
    "-scores2.mean()"
   ]
  },
  {
   "cell_type": "code",
   "execution_count": 25,
   "metadata": {
    "colab": {
     "base_uri": "https://localhost:8080/"
    },
    "id": "_9a6mcEHF-53",
    "outputId": "172ffbcd-134f-42eb-be2d-b8cb11988161"
   },
   "outputs": [
    {
     "data": {
      "text/plain": [
       "53430.92197532802"
      ]
     },
     "execution_count": 25,
     "metadata": {},
     "output_type": "execute_result"
    }
   ],
   "source": [
    "#rsme cross validation for model 3\n",
    "scores3 = cross_val_score(lr_pipeline_inter, X, y, cv=5, scoring='neg_root_mean_squared_error')\n",
    "-scores3.mean()"
   ]
  },
  {
   "cell_type": "code",
   "execution_count": 26,
   "metadata": {
    "colab": {
     "base_uri": "https://localhost:8080/"
    },
    "id": "GMj2i9VDF-9i",
    "outputId": "03df3869-27f5-47dc-a8d8-4c424fa12c26"
   },
   "outputs": [
    {
     "data": {
      "text/plain": [
       "61241.88398053136"
      ]
     },
     "execution_count": 26,
     "metadata": {},
     "output_type": "execute_result"
    }
   ],
   "source": [
    "#rsme cross validation for model 4\n",
    "scores4 = cross_val_score(lr_pipeline_poly, X, y, cv=5, scoring='neg_root_mean_squared_error')\n",
    "-scores4.mean()"
   ]
  },
  {
   "cell_type": "markdown",
   "metadata": {
    "id": "gC16Zd5wHgu6"
   },
   "source": [
    "TO INTERPRET RSME, TAKE THE ABSOLUTE VALUE\n",
    "After taking the absolute value, we can see that model 3 performed better."
   ]
  },
  {
   "cell_type": "markdown",
   "metadata": {
    "id": "6yL-oD56Ii5p"
   },
   "source": [
    "# Tuning"
   ]
  },
  {
   "cell_type": "code",
   "execution_count": 27,
   "metadata": {
    "id": "bPPHv-7UI3Ne"
   },
   "outputs": [
    {
     "data": {
      "text/plain": [
       "{'mean_fit_time': array([0.01564851, 0.01349711, 0.01461496, 0.01630807, 0.01728597,\n",
       "        0.01646156, 0.01602664, 0.01663923, 0.01701298, 0.01436744,\n",
       "        0.01526542, 0.02240667, 0.01383085, 0.0141654 , 0.02059355,\n",
       "        0.01515145, 0.01384864, 0.01615996, 0.0185174 , 0.01423745,\n",
       "        0.01394234, 0.01714735, 0.01984382, 0.01696134, 0.01560931,\n",
       "        0.01402168, 0.01396179, 0.01443186, 0.01429801, 0.01438317,\n",
       "        0.0132998 , 0.0135251 , 0.01380186, 0.01384964, 0.01410298,\n",
       "        0.01509743, 0.02086859, 0.02109132, 0.01418896, 0.01688285,\n",
       "        0.02102151, 0.01427021, 0.0140626 , 0.01425033, 0.0163013 ,\n",
       "        0.02027321, 0.02021923, 0.01442204, 0.01431928, 0.01522188,\n",
       "        0.01379457, 0.01471171, 0.01388254, 0.01390982, 0.01416588,\n",
       "        0.01574149, 0.015025  , 0.01469984, 0.01494622, 0.01488891,\n",
       "        0.01382432, 0.04547791, 0.01425533, 0.01417475, 0.01472316,\n",
       "        0.01573882, 0.01598706, 0.01653366, 0.01745577, 0.01924624,\n",
       "        0.01570139, 0.0145916 , 0.01455989, 0.01693444, 0.01791615,\n",
       "        0.01588264, 0.01624799, 0.01530843, 0.01528516, 0.01981397,\n",
       "        0.01952467, 0.02112927, 0.02245502, 0.01990695, 0.01846743,\n",
       "        0.01836295, 0.0193737 , 0.01983857, 0.02420006, 0.01920338,\n",
       "        0.02452621, 0.02436795, 0.02648573, 0.02625585, 0.01903505,\n",
       "        0.02069345, 0.01595559, 0.01555152, 0.01709895, 0.01935139]),\n",
       " 'std_fit_time': array([3.68646998e-03, 4.85848091e-04, 2.37760111e-03, 6.84292856e-04,\n",
       "        1.31078944e-03, 2.93151923e-04, 8.85548235e-04, 2.72712213e-04,\n",
       "        9.56313946e-04, 8.24582650e-04, 2.13340240e-03, 4.19623801e-03,\n",
       "        6.66707900e-04, 1.00825447e-03, 3.56702650e-03, 2.42005849e-03,\n",
       "        4.22754278e-04, 3.39977449e-03, 2.43601957e-03, 4.21117283e-04,\n",
       "        8.93707439e-04, 1.91814259e-03, 3.12948330e-03, 2.01545970e-03,\n",
       "        2.15126620e-03, 3.62430289e-04, 2.42516725e-04, 6.12860875e-04,\n",
       "        4.40350619e-04, 3.36008121e-04, 2.43856108e-04, 3.00288502e-04,\n",
       "        3.62555927e-04, 1.17525667e-04, 1.90853642e-04, 1.32891136e-03,\n",
       "        1.19789688e-03, 3.57226019e-03, 1.47716379e-04, 2.60534675e-03,\n",
       "        2.32355400e-03, 1.75468518e-03, 4.77503202e-04, 5.75452180e-04,\n",
       "        2.44367767e-03, 1.60843515e-03, 3.29574039e-03, 2.74385981e-04,\n",
       "        2.79528010e-04, 6.17745187e-04, 5.18862036e-04, 2.04232738e-03,\n",
       "        2.78081709e-04, 8.14109207e-05, 6.01730954e-04, 2.54816319e-03,\n",
       "        2.52533094e-04, 3.43521729e-04, 3.69162850e-04, 3.42364484e-04,\n",
       "        3.61933683e-04, 6.30503787e-02, 5.05601625e-04, 1.31081000e-04,\n",
       "        7.51091645e-04, 1.90791552e-03, 2.85534534e-03, 3.23648124e-03,\n",
       "        3.93240381e-03, 5.27905830e-03, 3.54885198e-03, 1.40285781e-03,\n",
       "        5.01576677e-04, 3.06384835e-03, 3.47680276e-03, 2.62514825e-03,\n",
       "        3.09441219e-03, 3.57836071e-04, 4.19242150e-04, 3.14188776e-03,\n",
       "        2.72780232e-03, 8.02957623e-04, 4.84674180e-03, 1.52849113e-03,\n",
       "        2.36168839e-03, 1.14333898e-03, 3.07950325e-03, 2.82130311e-03,\n",
       "        4.46755007e-03, 8.71935546e-04, 2.14544783e-03, 1.32725358e-03,\n",
       "        1.10665849e-03, 2.80442422e-03, 5.61776105e-03, 4.42276587e-03,\n",
       "        9.80918182e-04, 1.16993083e-04, 1.54726638e-03, 4.08782287e-03]),\n",
       " 'mean_score_time': array([0.0081758 , 0.00785089, 0.00923018, 0.00967503, 0.0098525 ,\n",
       "        0.00950756, 0.00918727, 0.01301537, 0.00977397, 0.00819407,\n",
       "        0.01103721, 0.01134839, 0.00780864, 0.0083622 , 0.01305685,\n",
       "        0.00886817, 0.00812731, 0.00919061, 0.01176858, 0.00832481,\n",
       "        0.00832448, 0.01039348, 0.0088171 , 0.00979409, 0.00814319,\n",
       "        0.00797143, 0.00811167, 0.00854316, 0.00811429, 0.00815468,\n",
       "        0.00797067, 0.0079124 , 0.00930934, 0.00809751, 0.00837536,\n",
       "        0.00967946, 0.01330924, 0.01128283, 0.00811458, 0.00987282,\n",
       "        0.01137671, 0.00797043, 0.00797176, 0.00833278, 0.00914936,\n",
       "        0.0129962 , 0.00928435, 0.0081378 , 0.00813155, 0.00848322,\n",
       "        0.00790091, 0.0083756 , 0.00811901, 0.0080224 , 0.00808392,\n",
       "        0.00811052, 0.00876174, 0.00820756, 0.00820494, 0.00827928,\n",
       "        0.00807514, 0.00943613, 0.00799642, 0.00823178, 0.00806684,\n",
       "        0.00913033, 0.00820813, 0.01044331, 0.00939484, 0.00975132,\n",
       "        0.00824795, 0.00859003, 0.00873108, 0.00901132, 0.00962739,\n",
       "        0.00826583, 0.00849943, 0.00834212, 0.00855446, 0.01218815,\n",
       "        0.01088133, 0.01185689, 0.01127844, 0.01187758, 0.01138916,\n",
       "        0.01132464, 0.01167374, 0.01087122, 0.01289392, 0.01205783,\n",
       "        0.01366925, 0.01443501, 0.01688766, 0.01388302, 0.01094637,\n",
       "        0.01014104, 0.00875707, 0.00875087, 0.00967889, 0.01026554]),\n",
       " 'std_score_time': array([5.58375649e-04, 1.17181895e-04, 1.49636885e-03, 8.97390898e-04,\n",
       "        3.76023292e-04, 5.32278106e-04, 4.93437289e-04, 6.69450164e-03,\n",
       "        1.50732216e-04, 2.52428990e-04, 3.66868807e-03, 3.32197919e-03,\n",
       "        9.80873159e-05, 5.12643426e-04, 2.05213200e-03, 1.82168042e-03,\n",
       "        2.22079943e-04, 1.43613233e-03, 1.63336488e-03, 3.50184722e-04,\n",
       "        1.13256877e-03, 1.31433528e-03, 7.05068337e-04, 1.83813579e-03,\n",
       "        2.12710210e-04, 1.21412666e-04, 1.81646132e-04, 4.32425071e-04,\n",
       "        1.31442427e-04, 9.54141979e-05, 2.02635686e-04, 1.18407318e-04,\n",
       "        2.44032332e-03, 2.16550628e-04, 1.11253313e-04, 3.05907324e-03,\n",
       "        7.25354099e-04, 2.21548618e-03, 8.32219509e-05, 2.08606803e-03,\n",
       "        2.21173102e-03, 1.97625021e-04, 1.55857345e-04, 4.38478834e-04,\n",
       "        1.85491613e-03, 1.77031716e-03, 8.94409008e-04, 1.33206284e-04,\n",
       "        4.23707850e-05, 2.70014884e-04, 1.58896022e-04, 1.05000194e-03,\n",
       "        3.60039609e-04, 8.96776679e-05, 1.54428158e-04, 5.66359307e-05,\n",
       "        6.81753274e-04, 1.79428633e-04, 8.38237139e-05, 1.12666984e-04,\n",
       "        1.98315972e-04, 2.74332369e-03, 3.29499652e-05, 2.36495781e-04,\n",
       "        1.15334026e-04, 9.63938948e-04, 1.46049749e-04, 4.38685088e-03,\n",
       "        1.79705127e-03, 1.91816407e-03, 3.76300043e-04, 1.30254633e-03,\n",
       "        1.14756537e-03, 1.34570992e-03, 2.12392231e-03, 1.48590186e-04,\n",
       "        4.02469273e-04, 1.84922626e-04, 1.58169336e-04, 3.80004723e-03,\n",
       "        1.43429377e-03, 6.54464960e-04, 1.67286602e-03, 1.31965252e-03,\n",
       "        9.59484173e-04, 1.00364127e-03, 1.29679115e-03, 1.29091257e-03,\n",
       "        1.19973723e-03, 1.47107404e-03, 7.30862889e-04, 1.65050358e-03,\n",
       "        2.26215609e-03, 8.97102408e-04, 2.57874574e-03, 2.13858945e-03,\n",
       "        7.80323058e-04, 4.49780056e-04, 1.72953157e-03, 2.26704227e-03]),\n",
       " 'param_preprocessing__rooms_polynomial__degree': masked_array(data=[1, 1, 1, 1, 1, 1, 1, 1, 1, 1, 2, 2, 2, 2, 2, 2, 2, 2,\n",
       "                    2, 2, 3, 3, 3, 3, 3, 3, 3, 3, 3, 3, 4, 4, 4, 4, 4, 4,\n",
       "                    4, 4, 4, 4, 5, 5, 5, 5, 5, 5, 5, 5, 5, 5, 6, 6, 6, 6,\n",
       "                    6, 6, 6, 6, 6, 6, 7, 7, 7, 7, 7, 7, 7, 7, 7, 7, 8, 8,\n",
       "                    8, 8, 8, 8, 8, 8, 8, 8, 9, 9, 9, 9, 9, 9, 9, 9, 9, 9,\n",
       "                    10, 10, 10, 10, 10, 10, 10, 10, 10, 10],\n",
       "              mask=[False, False, False, False, False, False, False, False,\n",
       "                    False, False, False, False, False, False, False, False,\n",
       "                    False, False, False, False, False, False, False, False,\n",
       "                    False, False, False, False, False, False, False, False,\n",
       "                    False, False, False, False, False, False, False, False,\n",
       "                    False, False, False, False, False, False, False, False,\n",
       "                    False, False, False, False, False, False, False, False,\n",
       "                    False, False, False, False, False, False, False, False,\n",
       "                    False, False, False, False, False, False, False, False,\n",
       "                    False, False, False, False, False, False, False, False,\n",
       "                    False, False, False, False, False, False, False, False,\n",
       "                    False, False, False, False, False, False, False, False,\n",
       "                    False, False, False, False],\n",
       "        fill_value='?',\n",
       "             dtype=object),\n",
       " 'param_preprocessing__size_polynomial__degree': masked_array(data=[1, 2, 3, 4, 5, 6, 7, 8, 9, 10, 1, 2, 3, 4, 5, 6, 7, 8,\n",
       "                    9, 10, 1, 2, 3, 4, 5, 6, 7, 8, 9, 10, 1, 2, 3, 4, 5, 6,\n",
       "                    7, 8, 9, 10, 1, 2, 3, 4, 5, 6, 7, 8, 9, 10, 1, 2, 3, 4,\n",
       "                    5, 6, 7, 8, 9, 10, 1, 2, 3, 4, 5, 6, 7, 8, 9, 10, 1, 2,\n",
       "                    3, 4, 5, 6, 7, 8, 9, 10, 1, 2, 3, 4, 5, 6, 7, 8, 9, 10,\n",
       "                    1, 2, 3, 4, 5, 6, 7, 8, 9, 10],\n",
       "              mask=[False, False, False, False, False, False, False, False,\n",
       "                    False, False, False, False, False, False, False, False,\n",
       "                    False, False, False, False, False, False, False, False,\n",
       "                    False, False, False, False, False, False, False, False,\n",
       "                    False, False, False, False, False, False, False, False,\n",
       "                    False, False, False, False, False, False, False, False,\n",
       "                    False, False, False, False, False, False, False, False,\n",
       "                    False, False, False, False, False, False, False, False,\n",
       "                    False, False, False, False, False, False, False, False,\n",
       "                    False, False, False, False, False, False, False, False,\n",
       "                    False, False, False, False, False, False, False, False,\n",
       "                    False, False, False, False, False, False, False, False,\n",
       "                    False, False, False, False],\n",
       "        fill_value='?',\n",
       "             dtype=object),\n",
       " 'params': [{'preprocessing__rooms_polynomial__degree': 1,\n",
       "   'preprocessing__size_polynomial__degree': 1},\n",
       "  {'preprocessing__rooms_polynomial__degree': 1,\n",
       "   'preprocessing__size_polynomial__degree': 2},\n",
       "  {'preprocessing__rooms_polynomial__degree': 1,\n",
       "   'preprocessing__size_polynomial__degree': 3},\n",
       "  {'preprocessing__rooms_polynomial__degree': 1,\n",
       "   'preprocessing__size_polynomial__degree': 4},\n",
       "  {'preprocessing__rooms_polynomial__degree': 1,\n",
       "   'preprocessing__size_polynomial__degree': 5},\n",
       "  {'preprocessing__rooms_polynomial__degree': 1,\n",
       "   'preprocessing__size_polynomial__degree': 6},\n",
       "  {'preprocessing__rooms_polynomial__degree': 1,\n",
       "   'preprocessing__size_polynomial__degree': 7},\n",
       "  {'preprocessing__rooms_polynomial__degree': 1,\n",
       "   'preprocessing__size_polynomial__degree': 8},\n",
       "  {'preprocessing__rooms_polynomial__degree': 1,\n",
       "   'preprocessing__size_polynomial__degree': 9},\n",
       "  {'preprocessing__rooms_polynomial__degree': 1,\n",
       "   'preprocessing__size_polynomial__degree': 10},\n",
       "  {'preprocessing__rooms_polynomial__degree': 2,\n",
       "   'preprocessing__size_polynomial__degree': 1},\n",
       "  {'preprocessing__rooms_polynomial__degree': 2,\n",
       "   'preprocessing__size_polynomial__degree': 2},\n",
       "  {'preprocessing__rooms_polynomial__degree': 2,\n",
       "   'preprocessing__size_polynomial__degree': 3},\n",
       "  {'preprocessing__rooms_polynomial__degree': 2,\n",
       "   'preprocessing__size_polynomial__degree': 4},\n",
       "  {'preprocessing__rooms_polynomial__degree': 2,\n",
       "   'preprocessing__size_polynomial__degree': 5},\n",
       "  {'preprocessing__rooms_polynomial__degree': 2,\n",
       "   'preprocessing__size_polynomial__degree': 6},\n",
       "  {'preprocessing__rooms_polynomial__degree': 2,\n",
       "   'preprocessing__size_polynomial__degree': 7},\n",
       "  {'preprocessing__rooms_polynomial__degree': 2,\n",
       "   'preprocessing__size_polynomial__degree': 8},\n",
       "  {'preprocessing__rooms_polynomial__degree': 2,\n",
       "   'preprocessing__size_polynomial__degree': 9},\n",
       "  {'preprocessing__rooms_polynomial__degree': 2,\n",
       "   'preprocessing__size_polynomial__degree': 10},\n",
       "  {'preprocessing__rooms_polynomial__degree': 3,\n",
       "   'preprocessing__size_polynomial__degree': 1},\n",
       "  {'preprocessing__rooms_polynomial__degree': 3,\n",
       "   'preprocessing__size_polynomial__degree': 2},\n",
       "  {'preprocessing__rooms_polynomial__degree': 3,\n",
       "   'preprocessing__size_polynomial__degree': 3},\n",
       "  {'preprocessing__rooms_polynomial__degree': 3,\n",
       "   'preprocessing__size_polynomial__degree': 4},\n",
       "  {'preprocessing__rooms_polynomial__degree': 3,\n",
       "   'preprocessing__size_polynomial__degree': 5},\n",
       "  {'preprocessing__rooms_polynomial__degree': 3,\n",
       "   'preprocessing__size_polynomial__degree': 6},\n",
       "  {'preprocessing__rooms_polynomial__degree': 3,\n",
       "   'preprocessing__size_polynomial__degree': 7},\n",
       "  {'preprocessing__rooms_polynomial__degree': 3,\n",
       "   'preprocessing__size_polynomial__degree': 8},\n",
       "  {'preprocessing__rooms_polynomial__degree': 3,\n",
       "   'preprocessing__size_polynomial__degree': 9},\n",
       "  {'preprocessing__rooms_polynomial__degree': 3,\n",
       "   'preprocessing__size_polynomial__degree': 10},\n",
       "  {'preprocessing__rooms_polynomial__degree': 4,\n",
       "   'preprocessing__size_polynomial__degree': 1},\n",
       "  {'preprocessing__rooms_polynomial__degree': 4,\n",
       "   'preprocessing__size_polynomial__degree': 2},\n",
       "  {'preprocessing__rooms_polynomial__degree': 4,\n",
       "   'preprocessing__size_polynomial__degree': 3},\n",
       "  {'preprocessing__rooms_polynomial__degree': 4,\n",
       "   'preprocessing__size_polynomial__degree': 4},\n",
       "  {'preprocessing__rooms_polynomial__degree': 4,\n",
       "   'preprocessing__size_polynomial__degree': 5},\n",
       "  {'preprocessing__rooms_polynomial__degree': 4,\n",
       "   'preprocessing__size_polynomial__degree': 6},\n",
       "  {'preprocessing__rooms_polynomial__degree': 4,\n",
       "   'preprocessing__size_polynomial__degree': 7},\n",
       "  {'preprocessing__rooms_polynomial__degree': 4,\n",
       "   'preprocessing__size_polynomial__degree': 8},\n",
       "  {'preprocessing__rooms_polynomial__degree': 4,\n",
       "   'preprocessing__size_polynomial__degree': 9},\n",
       "  {'preprocessing__rooms_polynomial__degree': 4,\n",
       "   'preprocessing__size_polynomial__degree': 10},\n",
       "  {'preprocessing__rooms_polynomial__degree': 5,\n",
       "   'preprocessing__size_polynomial__degree': 1},\n",
       "  {'preprocessing__rooms_polynomial__degree': 5,\n",
       "   'preprocessing__size_polynomial__degree': 2},\n",
       "  {'preprocessing__rooms_polynomial__degree': 5,\n",
       "   'preprocessing__size_polynomial__degree': 3},\n",
       "  {'preprocessing__rooms_polynomial__degree': 5,\n",
       "   'preprocessing__size_polynomial__degree': 4},\n",
       "  {'preprocessing__rooms_polynomial__degree': 5,\n",
       "   'preprocessing__size_polynomial__degree': 5},\n",
       "  {'preprocessing__rooms_polynomial__degree': 5,\n",
       "   'preprocessing__size_polynomial__degree': 6},\n",
       "  {'preprocessing__rooms_polynomial__degree': 5,\n",
       "   'preprocessing__size_polynomial__degree': 7},\n",
       "  {'preprocessing__rooms_polynomial__degree': 5,\n",
       "   'preprocessing__size_polynomial__degree': 8},\n",
       "  {'preprocessing__rooms_polynomial__degree': 5,\n",
       "   'preprocessing__size_polynomial__degree': 9},\n",
       "  {'preprocessing__rooms_polynomial__degree': 5,\n",
       "   'preprocessing__size_polynomial__degree': 10},\n",
       "  {'preprocessing__rooms_polynomial__degree': 6,\n",
       "   'preprocessing__size_polynomial__degree': 1},\n",
       "  {'preprocessing__rooms_polynomial__degree': 6,\n",
       "   'preprocessing__size_polynomial__degree': 2},\n",
       "  {'preprocessing__rooms_polynomial__degree': 6,\n",
       "   'preprocessing__size_polynomial__degree': 3},\n",
       "  {'preprocessing__rooms_polynomial__degree': 6,\n",
       "   'preprocessing__size_polynomial__degree': 4},\n",
       "  {'preprocessing__rooms_polynomial__degree': 6,\n",
       "   'preprocessing__size_polynomial__degree': 5},\n",
       "  {'preprocessing__rooms_polynomial__degree': 6,\n",
       "   'preprocessing__size_polynomial__degree': 6},\n",
       "  {'preprocessing__rooms_polynomial__degree': 6,\n",
       "   'preprocessing__size_polynomial__degree': 7},\n",
       "  {'preprocessing__rooms_polynomial__degree': 6,\n",
       "   'preprocessing__size_polynomial__degree': 8},\n",
       "  {'preprocessing__rooms_polynomial__degree': 6,\n",
       "   'preprocessing__size_polynomial__degree': 9},\n",
       "  {'preprocessing__rooms_polynomial__degree': 6,\n",
       "   'preprocessing__size_polynomial__degree': 10},\n",
       "  {'preprocessing__rooms_polynomial__degree': 7,\n",
       "   'preprocessing__size_polynomial__degree': 1},\n",
       "  {'preprocessing__rooms_polynomial__degree': 7,\n",
       "   'preprocessing__size_polynomial__degree': 2},\n",
       "  {'preprocessing__rooms_polynomial__degree': 7,\n",
       "   'preprocessing__size_polynomial__degree': 3},\n",
       "  {'preprocessing__rooms_polynomial__degree': 7,\n",
       "   'preprocessing__size_polynomial__degree': 4},\n",
       "  {'preprocessing__rooms_polynomial__degree': 7,\n",
       "   'preprocessing__size_polynomial__degree': 5},\n",
       "  {'preprocessing__rooms_polynomial__degree': 7,\n",
       "   'preprocessing__size_polynomial__degree': 6},\n",
       "  {'preprocessing__rooms_polynomial__degree': 7,\n",
       "   'preprocessing__size_polynomial__degree': 7},\n",
       "  {'preprocessing__rooms_polynomial__degree': 7,\n",
       "   'preprocessing__size_polynomial__degree': 8},\n",
       "  {'preprocessing__rooms_polynomial__degree': 7,\n",
       "   'preprocessing__size_polynomial__degree': 9},\n",
       "  {'preprocessing__rooms_polynomial__degree': 7,\n",
       "   'preprocessing__size_polynomial__degree': 10},\n",
       "  {'preprocessing__rooms_polynomial__degree': 8,\n",
       "   'preprocessing__size_polynomial__degree': 1},\n",
       "  {'preprocessing__rooms_polynomial__degree': 8,\n",
       "   'preprocessing__size_polynomial__degree': 2},\n",
       "  {'preprocessing__rooms_polynomial__degree': 8,\n",
       "   'preprocessing__size_polynomial__degree': 3},\n",
       "  {'preprocessing__rooms_polynomial__degree': 8,\n",
       "   'preprocessing__size_polynomial__degree': 4},\n",
       "  {'preprocessing__rooms_polynomial__degree': 8,\n",
       "   'preprocessing__size_polynomial__degree': 5},\n",
       "  {'preprocessing__rooms_polynomial__degree': 8,\n",
       "   'preprocessing__size_polynomial__degree': 6},\n",
       "  {'preprocessing__rooms_polynomial__degree': 8,\n",
       "   'preprocessing__size_polynomial__degree': 7},\n",
       "  {'preprocessing__rooms_polynomial__degree': 8,\n",
       "   'preprocessing__size_polynomial__degree': 8},\n",
       "  {'preprocessing__rooms_polynomial__degree': 8,\n",
       "   'preprocessing__size_polynomial__degree': 9},\n",
       "  {'preprocessing__rooms_polynomial__degree': 8,\n",
       "   'preprocessing__size_polynomial__degree': 10},\n",
       "  {'preprocessing__rooms_polynomial__degree': 9,\n",
       "   'preprocessing__size_polynomial__degree': 1},\n",
       "  {'preprocessing__rooms_polynomial__degree': 9,\n",
       "   'preprocessing__size_polynomial__degree': 2},\n",
       "  {'preprocessing__rooms_polynomial__degree': 9,\n",
       "   'preprocessing__size_polynomial__degree': 3},\n",
       "  {'preprocessing__rooms_polynomial__degree': 9,\n",
       "   'preprocessing__size_polynomial__degree': 4},\n",
       "  {'preprocessing__rooms_polynomial__degree': 9,\n",
       "   'preprocessing__size_polynomial__degree': 5},\n",
       "  {'preprocessing__rooms_polynomial__degree': 9,\n",
       "   'preprocessing__size_polynomial__degree': 6},\n",
       "  {'preprocessing__rooms_polynomial__degree': 9,\n",
       "   'preprocessing__size_polynomial__degree': 7},\n",
       "  {'preprocessing__rooms_polynomial__degree': 9,\n",
       "   'preprocessing__size_polynomial__degree': 8},\n",
       "  {'preprocessing__rooms_polynomial__degree': 9,\n",
       "   'preprocessing__size_polynomial__degree': 9},\n",
       "  {'preprocessing__rooms_polynomial__degree': 9,\n",
       "   'preprocessing__size_polynomial__degree': 10},\n",
       "  {'preprocessing__rooms_polynomial__degree': 10,\n",
       "   'preprocessing__size_polynomial__degree': 1},\n",
       "  {'preprocessing__rooms_polynomial__degree': 10,\n",
       "   'preprocessing__size_polynomial__degree': 2},\n",
       "  {'preprocessing__rooms_polynomial__degree': 10,\n",
       "   'preprocessing__size_polynomial__degree': 3},\n",
       "  {'preprocessing__rooms_polynomial__degree': 10,\n",
       "   'preprocessing__size_polynomial__degree': 4},\n",
       "  {'preprocessing__rooms_polynomial__degree': 10,\n",
       "   'preprocessing__size_polynomial__degree': 5},\n",
       "  {'preprocessing__rooms_polynomial__degree': 10,\n",
       "   'preprocessing__size_polynomial__degree': 6},\n",
       "  {'preprocessing__rooms_polynomial__degree': 10,\n",
       "   'preprocessing__size_polynomial__degree': 7},\n",
       "  {'preprocessing__rooms_polynomial__degree': 10,\n",
       "   'preprocessing__size_polynomial__degree': 8},\n",
       "  {'preprocessing__rooms_polynomial__degree': 10,\n",
       "   'preprocessing__size_polynomial__degree': 9},\n",
       "  {'preprocessing__rooms_polynomial__degree': 10,\n",
       "   'preprocessing__size_polynomial__degree': 10}],\n",
       " 'split0_test_score': array([0.53197809, 0.53171602, 0.5452236 , 0.54369576, 0.50847886,\n",
       "        0.50803388, 0.50404863, 0.48824758, 0.45353321, 0.40231909,\n",
       "        0.52048972, 0.52917544, 0.53566998, 0.53567525, 0.50847886,\n",
       "        0.50803388, 0.50404863, 0.48824758, 0.45353321, 0.40231904,\n",
       "        0.5242219 , 0.53081818, 0.5359089 , 0.53611505, 0.50158175,\n",
       "        0.50803388, 0.50404864, 0.48824758, 0.45353321, 0.40231909,\n",
       "        0.53184271, 0.53758574, 0.53945884, 0.53886646, 0.50037318,\n",
       "        0.50803388, 0.50404864, 0.48824758, 0.45353321, 0.4023191 ,\n",
       "        0.5319609 , 0.53735141, 0.53930059, 0.53885469, 0.50052196,\n",
       "        0.50803388, 0.50404864, 0.48824758, 0.45353321, 0.4023191 ,\n",
       "        0.53190067, 0.53745662, 0.53938491, 0.53884006, 0.50566037,\n",
       "        0.50164541, 0.50404864, 0.48824758, 0.45353321, 0.4023191 ,\n",
       "        0.53133617, 0.53727551, 0.54040966, 0.53934184, 0.50525081,\n",
       "        0.50358826, 0.50404864, 0.48824758, 0.45353321, 0.4023191 ,\n",
       "        0.53065113, 0.53658738, 0.54022425, 0.53957198, 0.50604468,\n",
       "        0.49771534, 0.50404864, 0.48824758, 0.45353321, 0.4023191 ,\n",
       "        0.530993  , 0.536678  , 0.54059698, 0.53944376, 0.50739547,\n",
       "        0.49827708, 0.50404863, 0.48824758, 0.45353321, 0.40231958,\n",
       "        0.53012525, 0.53588322, 0.53997515, 0.53990909, 0.50734467,\n",
       "        0.50007675, 0.50375266, 0.48824758, 0.45353318, 0.40231958]),\n",
       " 'split1_test_score': array([0.53225302, 0.52618888, 0.53488419, 0.53515862, 0.45451042,\n",
       "        0.45231332, 0.44389117, 0.422262  , 0.38464168, 0.33731013,\n",
       "        0.53730671, 0.51997812, 0.53893104, 0.53780852, 0.45451042,\n",
       "        0.45231332, 0.44389117, 0.42226201, 0.38464168, 0.33731013,\n",
       "        0.5354238 , 0.52445722, 0.53895207, 0.53748383, 0.49887578,\n",
       "        0.45231332, 0.44389117, 0.42226201, 0.38464168, 0.33731013,\n",
       "        0.53544608, 0.52151401, 0.53586829, 0.5348699 , 0.4983378 ,\n",
       "        0.45231332, 0.44389117, 0.42226201, 0.38464168, 0.33731013,\n",
       "        0.53500045, 0.52031442, 0.53451755, 0.53352341, 0.49889713,\n",
       "        0.45231332, 0.44389117, 0.42226201, 0.38464168, 0.33731013,\n",
       "        0.53504   , 0.5213231 , 0.53534432, 0.53372553, 0.49115941,\n",
       "        0.49100165, 0.44389117, 0.42226201, 0.38464168, 0.33731013,\n",
       "        0.53405576, 0.52000604, 0.53313161, 0.53404283, 0.48943174,\n",
       "        0.48652811, 0.44389117, 0.42226201, 0.38464168, 0.33731013,\n",
       "        0.53534435, 0.52030135, 0.53172175, 0.53049187, 0.4917546 ,\n",
       "        0.49273093, 0.44389117, 0.42226201, 0.38464168, 0.33731013,\n",
       "        0.53255867, 0.52045329, 0.53188811, 0.5302715 , 0.49246777,\n",
       "        0.48998529, 0.44389113, 0.42226201, 0.38464168, 0.33731013,\n",
       "        0.51743414, 0.50853845, 0.52381457, 0.53061809, 0.49127565,\n",
       "        0.4867018 , 0.47003583, 0.42226201, 0.38464168, 0.33731013]),\n",
       " 'split2_test_score': array([ 4.28295335e-01,  4.56095393e-01,  5.12144068e-01,  4.62006210e-01,\n",
       "         1.73388244e-01, -3.94185113e-01, -1.67096359e+00, -4.78706826e+00,\n",
       "        -1.26045503e+01, -3.20375921e+01,  4.34384984e-01,  4.51860030e-01,\n",
       "         5.12220834e-01,  4.70250366e-01,  1.73388261e-01, -3.94185113e-01,\n",
       "        -1.67096359e+00, -4.78706690e+00, -1.26045569e+01, -3.20376124e+01,\n",
       "         4.37847834e-01,  4.43445488e-01,  5.04807805e-01,  4.78578111e-01,\n",
       "         3.49162275e-01, -3.94185113e-01, -1.67096381e+00, -4.78706788e+00,\n",
       "        -1.26045587e+01, -3.20376168e+01,  4.22601291e-01,  4.18640590e-01,\n",
       "         4.72190050e-01,  4.99603640e-01,  3.26507285e-01, -3.94185111e-01,\n",
       "        -1.67096345e+00, -4.78706748e+00, -1.26045575e+01, -3.20376104e+01,\n",
       "         4.19178646e-01,  4.09008772e-01,  4.63061593e-01,  5.00127795e-01,\n",
       "         3.18042992e-01, -3.94185111e-01, -1.67096345e+00, -4.78706748e+00,\n",
       "        -1.26045575e+01, -3.20376104e+01,  4.19085877e-01,  4.09765911e-01,\n",
       "         4.66764770e-01,  4.98957060e-01,  4.36570306e-01,  2.77511765e-01,\n",
       "        -1.67096345e+00, -4.78706748e+00, -1.26045575e+01, -3.20376104e+01,\n",
       "         4.19064840e-01,  4.09793878e-01,  4.72076216e-01,  4.85559762e-01,\n",
       "         4.54114113e-01,  3.12566551e-01, -1.67096345e+00, -4.78706748e+00,\n",
       "        -1.26045575e+01, -3.20376104e+01,  4.19415300e-01,  4.09770611e-01,\n",
       "         4.69447014e-01,  4.80628764e-01,  1.90214535e-01, -3.76913021e-01,\n",
       "        -1.67096365e+00, -4.78706748e+00, -1.26045575e+01, -3.20376104e+01,\n",
       "         4.21259353e-01,  4.11189142e-01,  4.70212199e-01,  4.82316518e-01,\n",
       "        -5.28252974e-02, -5.21517455e-01, -7.79848066e-03, -4.78706748e+00,\n",
       "        -1.26045575e+01, -3.20375850e+01,  4.21475259e-01,  4.11559084e-01,\n",
       "         4.70247808e-01,  4.86680114e-01, -1.43811043e-01, -1.64238624e-01,\n",
       "        -3.58893810e-02, -4.78706748e+00, -1.26045528e+01, -3.20375850e+01]),\n",
       " 'split3_test_score': array([ 5.65747933e-01,  5.82384226e-01,  5.92700801e-01,  5.98175726e-01,\n",
       "         5.47422753e-01,  5.32731295e-01,  3.13703323e-01, -1.49591328e+00,\n",
       "        -1.14656194e+01, -5.01070712e+01,  5.71443248e-01,  5.75605343e-01,\n",
       "         5.95944679e-01,  6.00589987e-01,  5.47422750e-01,  5.32731295e-01,\n",
       "         3.13703323e-01, -1.49591310e+00, -1.14656246e+01, -5.01070855e+01,\n",
       "         5.88074536e-01,  5.83533300e-01,  5.90476938e-01,  5.94555318e-01,\n",
       "         5.78123390e-01,  5.32731295e-01,  3.13703402e-01, -1.49590974e+00,\n",
       "        -1.14656255e+01, -5.01069637e+01,  6.15356800e-01,  6.03073637e-01,\n",
       "         6.00343025e-01,  6.03064916e-01,  5.65114713e-01,  5.32731297e-01,\n",
       "         3.13703477e-01, -1.49591127e+00, -1.14656257e+01, -5.01069875e+01,\n",
       "         6.16704667e-01,  5.89473109e-01,  5.92296026e-01,  6.02522963e-01,\n",
       "         5.50867960e-01,  5.32731292e-01,  3.13703477e-01, -1.49591127e+00,\n",
       "        -1.14656257e+01, -5.01069875e+01,  5.85729787e-01,  6.02705181e-01,\n",
       "         5.80443233e-01,  5.86669496e-01,  5.75913861e-01,  5.80258650e-01,\n",
       "         3.13703477e-01, -1.49591127e+00, -1.14656257e+01, -5.01069875e+01,\n",
       "        -1.68548642e+00, -2.99315876e-01,  9.10995710e-02,  6.02879328e-01,\n",
       "         5.38009655e-01,  5.77098963e-01,  3.13703477e-01, -1.49591127e+00,\n",
       "        -1.14656257e+01, -5.01069875e+01, -7.53704627e+00, -2.94565107e+00,\n",
       "         2.35071199e-03, -7.65210328e-01,  3.89353911e-01,  3.65210358e-01,\n",
       "         3.13703375e-01, -1.49591127e+00, -1.14656257e+01, -5.01069875e+01,\n",
       "        -7.35542067e-01,  3.93171904e-01, -7.37209403e+00, -1.96498139e+00,\n",
       "         5.47672516e-01,  2.46907021e-01,  3.13703484e-01, -1.49591127e+00,\n",
       "        -1.14656257e+01, -5.01072000e+01, -9.23177662e+02, -9.49419741e+02,\n",
       "        -1.98182046e+03, -2.71900078e+00,  7.90736060e-02, -1.14336414e+00,\n",
       "         4.99622126e-01, -1.49591127e+00, -1.14656286e+01, -5.01072000e+01]),\n",
       " 'split4_test_score': array([0.60613781, 0.59097517, 0.60325041, 0.60842395, 0.57550038,\n",
       "        0.5702938 , 0.55592936, 0.53199328, 0.50402512, 0.46569136,\n",
       "        0.59828957, 0.59121783, 0.60151958, 0.60601076, 0.57550038,\n",
       "        0.5702938 , 0.55592936, 0.5319933 , 0.50402513, 0.46569135,\n",
       "        0.59405278, 0.58841648, 0.60004926, 0.60513143, 0.59830992,\n",
       "        0.5702938 , 0.55592936, 0.53199331, 0.50402513, 0.46569135,\n",
       "        0.60239686, 0.59627402, 0.60410179, 0.60787109, 0.59332897,\n",
       "        0.5702938 , 0.55592936, 0.53199329, 0.50402513, 0.46569135,\n",
       "        0.60248625, 0.59518882, 0.60356999, 0.60762812, 0.59517698,\n",
       "        0.5702938 , 0.55592936, 0.53199329, 0.50402513, 0.46569135,\n",
       "        0.60255496, 0.59531701, 0.60391645, 0.6076274 , 0.60274014,\n",
       "        0.58205571, 0.55592936, 0.53199329, 0.50402513, 0.46569135,\n",
       "        0.60137637, 0.59473349, 0.60528084, 0.60833975, 0.60245944,\n",
       "        0.57970186, 0.55592936, 0.53199329, 0.50402513, 0.46569135,\n",
       "        0.60019991, 0.59380085, 0.60476944, 0.6085395 , 0.60202338,\n",
       "        0.58127187, 0.55592936, 0.53199329, 0.50402513, 0.46569135,\n",
       "        0.60150624, 0.59488935, 0.60575144, 0.60832352, 0.6037358 ,\n",
       "        0.57843238, 0.55592936, 0.53199329, 0.50402513, 0.46568954,\n",
       "        0.60120897, 0.59481449, 0.60480119, 0.60914997, 0.60362812,\n",
       "        0.59049202, 0.56298216, 0.53199329, 0.50402517, 0.46568954]),\n",
       " 'mean_test_score': array([ 5.32882439e-01,  5.37471938e-01,  5.57640613e-01,  5.49492053e-01,\n",
       "         4.51860131e-01,  3.33837437e-01,  2.93217785e-02, -9.68095735e-01,\n",
       "        -4.54559395e+00, -1.61878685e+01,  5.32382847e-01,  5.33567353e-01,\n",
       "         5.56857221e-01,  5.50066977e-01,  4.51860134e-01,  3.33837437e-01,\n",
       "         2.93217785e-02, -9.68095423e-01, -4.54559630e+00, -1.61878755e+01,\n",
       "         5.35924169e-01,  5.34134134e-01,  5.54038993e-01,  5.50372747e-01,\n",
       "         5.05210623e-01,  3.33837437e-01,  2.93217509e-02, -9.68094944e-01,\n",
       "        -4.54559683e+00, -1.61878520e+01,  5.41528749e-01,  5.35417599e-01,\n",
       "         5.50392399e-01,  5.56855201e-01,  4.96732391e-01,  3.33837438e-01,\n",
       "         2.93218373e-02, -9.68095175e-01, -4.54559664e+00, -1.61878555e+01,\n",
       "         5.41066183e-01,  5.30267305e-01,  5.46549151e-01,  5.56531395e-01,\n",
       "         4.92701404e-01,  3.33837437e-01,  2.93218373e-02, -9.68095175e-01,\n",
       "        -4.54559664e+00, -1.61878555e+01,  5.34862257e-01,  5.33313563e-01,\n",
       "         5.45170737e-01,  5.53163911e-01,  5.22408817e-01,  4.86494638e-01,\n",
       "         2.93218373e-02, -9.68095175e-01, -4.54559664e+00, -1.61878555e+01,\n",
       "         8.00693446e-02,  3.52498608e-01,  4.48399579e-01,  5.54032702e-01,\n",
       "         5.17853151e-01,  4.91896749e-01,  2.93218372e-02, -9.68095175e-01,\n",
       "        -4.54559664e+00, -1.61878555e+01, -1.09028712e+00, -1.77038176e-01,\n",
       "         4.29702632e-01,  2.78804357e-01,  4.35878222e-01,  3.12003095e-01,\n",
       "         2.93217779e-02, -9.68095175e-01, -4.54559664e+00, -1.61878555e+01,\n",
       "         2.70155038e-01,  4.91276337e-01, -1.04472906e+00,  3.90747825e-02,\n",
       "         4.19689254e-01,  2.58416865e-01,  3.61954824e-01, -9.68095175e-01,\n",
       "        -4.54559664e+00, -1.61878932e+01, -1.84221484e+02, -1.89473789e+02,\n",
       "        -3.95936324e+02, -1.10528701e-01,  3.07502201e-01,  5.39335629e-02,\n",
       "         4.00100681e-01, -9.68095176e-01, -4.54559626e+00, -1.61878932e+01]),\n",
       " 'std_test_score': array([5.89680705e-02, 4.82955255e-02, 3.47892025e-02, 5.24135208e-02,\n",
       "        1.45036839e-01, 3.66024083e-01, 8.53977999e-01, 2.05754417e+00,\n",
       "        6.12585797e+00, 2.11063164e+01, 5.59261703e-02, 4.89301804e-02,\n",
       "        3.54547890e-02, 4.98204063e-02, 1.45036831e-01, 3.66024083e-01,\n",
       "        8.53977999e-01, 2.05754366e+00, 6.12586088e+00, 2.11063240e+01,\n",
       "        5.63112009e-02, 5.23754136e-02, 3.58460424e-02, 4.57700546e-02,\n",
       "        8.76220715e-02, 3.66024083e-01, 8.53978092e-01, 2.05754385e+00,\n",
       "        6.12586153e+00, 2.11062855e+01, 6.84544620e-02, 6.65067276e-02,\n",
       "        4.86330415e-02, 4.20063053e-02, 9.27356033e-02, 3.66024083e-01,\n",
       "        8.53977954e-01, 2.05754378e+00, 6.12586127e+00, 2.11062923e+01,\n",
       "        6.99569522e-02, 6.71907829e-02, 5.00232475e-02, 4.18313256e-02,\n",
       "        9.43288944e-02, 3.66024082e-01, 8.53977954e-01, 2.05754378e+00,\n",
       "        6.12586127e+00, 2.11062923e+01, 6.41603923e-02, 6.94040085e-02,\n",
       "        4.68459995e-02, 3.90135925e-02, 5.99019139e-02, 1.11218082e-01,\n",
       "        8.53977954e-01, 2.05754378e+00, 6.12586127e+00, 2.11062923e+01,\n",
       "        8.84715945e-01, 3.31368028e-01, 1.83565237e-01, 4.61285331e-02,\n",
       "        5.01871890e-02, 9.72563499e-02, 8.53977954e-01, 2.05754378e+00,\n",
       "        6.12586127e+00, 2.11062923e+01, 3.22390353e+00, 1.38559002e+00,\n",
       "        2.17936043e-01, 5.23597436e-01, 1.40117717e-01, 3.51310031e-01,\n",
       "        8.53978025e-01, 2.05754378e+00, 6.12586127e+00, 2.11062923e+01,\n",
       "        5.06151145e-01, 7.70541382e-02, 3.16397411e+00, 1.00283517e+00,\n",
       "        2.39379173e-01, 4.05461912e-01, 2.01780091e-01, 2.05754378e+00,\n",
       "        6.12586127e+00, 2.11063565e+01, 3.69478094e+02, 3.79972980e+02,\n",
       "        7.92942068e+02, 1.30482649e+00, 2.88881817e-01, 6.56558902e-01,\n",
       "        2.20071301e-01, 2.05754378e+00, 6.12586067e+00, 2.11063565e+01]),\n",
       " 'rank_test_score': array([ 23,  16,   1,  11,  35,  45,  60,  75,  78,  94,  24,  21,   2,\n",
       "         10,  34,  44,  61,  74,  80,  95,  17,  20,   5,   9,  28,  46,\n",
       "         63,  66,  87,  88,  14,  18,   8,   3,  29,  43,  57,  70,  81,\n",
       "         92,  15,  25,  12,   4,  30,  47,  56,  67,  85,  93,  19,  22,\n",
       "         13,   7,  26,  33,  58,  71,  86,  91,  53,  42,  36,   6,  27,\n",
       "         31,  59,  69,  82,  90,  77,  65,  38,  50,  37,  48,  62,  68,\n",
       "         83,  89,  51,  32,  76,  55,  39,  52,  41,  72,  84,  96,  98,\n",
       "         99, 100,  64,  49,  54,  40,  73,  79,  96], dtype=int32)}"
      ]
     },
     "execution_count": 27,
     "metadata": {},
     "output_type": "execute_result"
    }
   ],
   "source": [
    "ct_tuning = ColumnTransformer(\n",
    "  [(\"size_polynomial\", PolynomialFeatures(), [\"Gr Liv Area\"]),\n",
    "  (\"rooms_polynomial\", PolynomialFeatures(), [\"TotRms AbvGrd\"]),\n",
    "   (\"dummify\", OneHotEncoder(sparse_output = False), [\"Bldg Type\"])],\n",
    "  remainder = \"drop\"\n",
    ")\n",
    "\n",
    "lr_pipeline_tuning = Pipeline(\n",
    "  [(\"preprocessing\", ct_tuning),\n",
    "  (\"linear_regression\", lr)]\n",
    ").set_output(transform=\"pandas\")\n",
    "\n",
    "degrees = {'preprocessing__size_polynomial__degree': np.arange(1, 11),\n",
    "           \"preprocessing__rooms_polynomial__degree\": np.arange(1, 11)} #create a dictionary of the polynomials\n",
    "\n",
    "gscv = GridSearchCV(lr_pipeline_tuning, degrees, cv = 5, scoring='r2')\n",
    "\n",
    "gscv_fitted = gscv.fit(X, y)\n",
    "\n",
    "gscv_fitted.cv_results_ #ugly format, so put it into a pandas dataframe for easy reading"
   ]
  },
  {
   "cell_type": "code",
   "execution_count": 29,
   "metadata": {
    "colab": {
     "base_uri": "https://localhost:8080/",
     "height": 206
    },
    "id": "Uw0wOL2PKFDS",
    "outputId": "8f30dfb3-d6b8-43a5-f65a-433721b7f915"
   },
   "outputs": [
    {
     "data": {
      "text/html": [
       "<div>\n",
       "<style scoped>\n",
       "    .dataframe tbody tr th:only-of-type {\n",
       "        vertical-align: middle;\n",
       "    }\n",
       "\n",
       "    .dataframe tbody tr th {\n",
       "        vertical-align: top;\n",
       "    }\n",
       "\n",
       "    .dataframe thead th {\n",
       "        text-align: right;\n",
       "    }\n",
       "</style>\n",
       "<table border=\"1\" class=\"dataframe\">\n",
       "  <thead>\n",
       "    <tr style=\"text-align: right;\">\n",
       "      <th></th>\n",
       "      <th>room_degrees</th>\n",
       "      <th>size_degrees</th>\n",
       "      <th>r2</th>\n",
       "    </tr>\n",
       "  </thead>\n",
       "  <tbody>\n",
       "    <tr>\n",
       "      <th>2</th>\n",
       "      <td>1</td>\n",
       "      <td>3</td>\n",
       "      <td>0.557641</td>\n",
       "    </tr>\n",
       "    <tr>\n",
       "      <th>12</th>\n",
       "      <td>2</td>\n",
       "      <td>3</td>\n",
       "      <td>0.556857</td>\n",
       "    </tr>\n",
       "    <tr>\n",
       "      <th>33</th>\n",
       "      <td>4</td>\n",
       "      <td>4</td>\n",
       "      <td>0.556855</td>\n",
       "    </tr>\n",
       "    <tr>\n",
       "      <th>43</th>\n",
       "      <td>5</td>\n",
       "      <td>4</td>\n",
       "      <td>0.556531</td>\n",
       "    </tr>\n",
       "    <tr>\n",
       "      <th>22</th>\n",
       "      <td>3</td>\n",
       "      <td>3</td>\n",
       "      <td>0.554039</td>\n",
       "    </tr>\n",
       "  </tbody>\n",
       "</table>\n",
       "</div>"
      ],
      "text/plain": [
       "   room_degrees size_degrees        r2\n",
       "2             1            3  0.557641\n",
       "12            2            3  0.556857\n",
       "33            4            4  0.556855\n",
       "43            5            4  0.556531\n",
       "22            3            3  0.554039"
      ]
     },
     "execution_count": 29,
     "metadata": {},
     "output_type": "execute_result"
    }
   ],
   "source": [
    "gscv_df = pd.DataFrame(gscv_fitted.cv_results_)\n",
    "gscv_df = gscv_df[[\"param_preprocessing__rooms_polynomial__degree\",\n",
    "                   \"param_preprocessing__size_polynomial__degree\",\n",
    "                   \"mean_test_score\"]]\n",
    "gscv_df.rename(columns = {\n",
    "    \"param_preprocessing__rooms_polynomial__degree\" : \"room_degrees\",\n",
    "    \"param_preprocessing__size_polynomial__degree\" : \"size_degrees\",\n",
    "    \"mean_test_score\": \"r2\"\n",
    "}, inplace = True)\n",
    "\n",
    "gscv_df.sort_values(by = \"r2\", ascending = False).head()"
   ]
  },
  {
   "cell_type": "markdown",
   "metadata": {
    "id": "fh3nvtM6LUjb"
   },
   "source": [
    "\n",
    "The best final model is the model with the polynomial degree of 3 for the size of the house and a polynomial degree of 1 for the number of rooms. The R^2 value is 0.557641."
   ]
  }
 ],
 "metadata": {
  "colab": {
   "provenance": []
  },
  "kernelspec": {
   "display_name": "Python 3 (ipykernel)",
   "language": "python",
   "name": "python3"
  },
  "language_info": {
   "codemirror_mode": {
    "name": "ipython",
    "version": 3
   },
   "file_extension": ".py",
   "mimetype": "text/x-python",
   "name": "python",
   "nbconvert_exporter": "python",
   "pygments_lexer": "ipython3",
   "version": "3.11.4"
  }
 },
 "nbformat": 4,
 "nbformat_minor": 4
}
