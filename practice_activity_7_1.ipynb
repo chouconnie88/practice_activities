{
 "cells": [
  {
   "cell_type": "raw",
   "metadata": {},
   "source": [
    "---\n",
    "self-contained: true\n",
    "title: \"Practice Activity 7.1\"\n",
    "format:\n",
    "  html:\n",
    "    theme: default\n",
    "---"
   ]
  },
  {
   "cell_type": "code",
   "execution_count": 31,
   "metadata": {
    "id": "X0Vh1wMbBJ6S",
    "tags": []
   },
   "outputs": [],
   "source": [
    "import pandas as pd\n",
    "import numpy as np\n",
    "from sklearn.pipeline import Pipeline\n",
    "from sklearn.preprocessing import StandardScaler, OneHotEncoder, PolynomialFeatures\n",
    "from sklearn.linear_model import LinearRegression\n",
    "from sklearn.model_selection import train_test_split\n",
    "from sklearn.metrics import r2_score\n",
    "from sklearn.metrics import mean_squared_error\n",
    "from sklearn.compose import ColumnTransformer\n",
    "from sklearn.model_selection import cross_val_score\n",
    "from sklearn.model_selection import GridSearchCV\n"
   ]
  },
  {
   "cell_type": "markdown",
   "metadata": {
    "id": "sXTjm9goDrmF"
   },
   "source": [
    "#Reading the data"
   ]
  },
  {
   "cell_type": "code",
   "execution_count": 32,
   "metadata": {
    "colab": {
     "base_uri": "https://localhost:8080/",
     "height": 273
    },
    "id": "OJWdqZPJDGXk",
    "outputId": "9341e53b-d142-406a-b09d-5fe1ac750cea",
    "tags": []
   },
   "outputs": [
    {
     "data": {
      "text/html": [
       "<div>\n",
       "<style scoped>\n",
       "    .dataframe tbody tr th:only-of-type {\n",
       "        vertical-align: middle;\n",
       "    }\n",
       "\n",
       "    .dataframe tbody tr th {\n",
       "        vertical-align: top;\n",
       "    }\n",
       "\n",
       "    .dataframe thead th {\n",
       "        text-align: right;\n",
       "    }\n",
       "</style>\n",
       "<table border=\"1\" class=\"dataframe\">\n",
       "  <thead>\n",
       "    <tr style=\"text-align: right;\">\n",
       "      <th></th>\n",
       "      <th>Order</th>\n",
       "      <th>PID</th>\n",
       "      <th>MS SubClass</th>\n",
       "      <th>MS Zoning</th>\n",
       "      <th>Lot Frontage</th>\n",
       "      <th>Lot Area</th>\n",
       "      <th>Street</th>\n",
       "      <th>Alley</th>\n",
       "      <th>Lot Shape</th>\n",
       "      <th>Land Contour</th>\n",
       "      <th>...</th>\n",
       "      <th>Pool Area</th>\n",
       "      <th>Pool QC</th>\n",
       "      <th>Fence</th>\n",
       "      <th>Misc Feature</th>\n",
       "      <th>Misc Val</th>\n",
       "      <th>Mo Sold</th>\n",
       "      <th>Yr Sold</th>\n",
       "      <th>Sale Type</th>\n",
       "      <th>Sale Condition</th>\n",
       "      <th>SalePrice</th>\n",
       "    </tr>\n",
       "  </thead>\n",
       "  <tbody>\n",
       "    <tr>\n",
       "      <th>0</th>\n",
       "      <td>1</td>\n",
       "      <td>526301100</td>\n",
       "      <td>20</td>\n",
       "      <td>RL</td>\n",
       "      <td>141.0</td>\n",
       "      <td>31770</td>\n",
       "      <td>Pave</td>\n",
       "      <td>NaN</td>\n",
       "      <td>IR1</td>\n",
       "      <td>Lvl</td>\n",
       "      <td>...</td>\n",
       "      <td>0</td>\n",
       "      <td>NaN</td>\n",
       "      <td>NaN</td>\n",
       "      <td>NaN</td>\n",
       "      <td>0</td>\n",
       "      <td>5</td>\n",
       "      <td>2010</td>\n",
       "      <td>WD</td>\n",
       "      <td>Normal</td>\n",
       "      <td>215000</td>\n",
       "    </tr>\n",
       "    <tr>\n",
       "      <th>1</th>\n",
       "      <td>2</td>\n",
       "      <td>526350040</td>\n",
       "      <td>20</td>\n",
       "      <td>RH</td>\n",
       "      <td>80.0</td>\n",
       "      <td>11622</td>\n",
       "      <td>Pave</td>\n",
       "      <td>NaN</td>\n",
       "      <td>Reg</td>\n",
       "      <td>Lvl</td>\n",
       "      <td>...</td>\n",
       "      <td>0</td>\n",
       "      <td>NaN</td>\n",
       "      <td>MnPrv</td>\n",
       "      <td>NaN</td>\n",
       "      <td>0</td>\n",
       "      <td>6</td>\n",
       "      <td>2010</td>\n",
       "      <td>WD</td>\n",
       "      <td>Normal</td>\n",
       "      <td>105000</td>\n",
       "    </tr>\n",
       "    <tr>\n",
       "      <th>2</th>\n",
       "      <td>3</td>\n",
       "      <td>526351010</td>\n",
       "      <td>20</td>\n",
       "      <td>RL</td>\n",
       "      <td>81.0</td>\n",
       "      <td>14267</td>\n",
       "      <td>Pave</td>\n",
       "      <td>NaN</td>\n",
       "      <td>IR1</td>\n",
       "      <td>Lvl</td>\n",
       "      <td>...</td>\n",
       "      <td>0</td>\n",
       "      <td>NaN</td>\n",
       "      <td>NaN</td>\n",
       "      <td>Gar2</td>\n",
       "      <td>12500</td>\n",
       "      <td>6</td>\n",
       "      <td>2010</td>\n",
       "      <td>WD</td>\n",
       "      <td>Normal</td>\n",
       "      <td>172000</td>\n",
       "    </tr>\n",
       "    <tr>\n",
       "      <th>3</th>\n",
       "      <td>4</td>\n",
       "      <td>526353030</td>\n",
       "      <td>20</td>\n",
       "      <td>RL</td>\n",
       "      <td>93.0</td>\n",
       "      <td>11160</td>\n",
       "      <td>Pave</td>\n",
       "      <td>NaN</td>\n",
       "      <td>Reg</td>\n",
       "      <td>Lvl</td>\n",
       "      <td>...</td>\n",
       "      <td>0</td>\n",
       "      <td>NaN</td>\n",
       "      <td>NaN</td>\n",
       "      <td>NaN</td>\n",
       "      <td>0</td>\n",
       "      <td>4</td>\n",
       "      <td>2010</td>\n",
       "      <td>WD</td>\n",
       "      <td>Normal</td>\n",
       "      <td>244000</td>\n",
       "    </tr>\n",
       "    <tr>\n",
       "      <th>4</th>\n",
       "      <td>5</td>\n",
       "      <td>527105010</td>\n",
       "      <td>60</td>\n",
       "      <td>RL</td>\n",
       "      <td>74.0</td>\n",
       "      <td>13830</td>\n",
       "      <td>Pave</td>\n",
       "      <td>NaN</td>\n",
       "      <td>IR1</td>\n",
       "      <td>Lvl</td>\n",
       "      <td>...</td>\n",
       "      <td>0</td>\n",
       "      <td>NaN</td>\n",
       "      <td>MnPrv</td>\n",
       "      <td>NaN</td>\n",
       "      <td>0</td>\n",
       "      <td>3</td>\n",
       "      <td>2010</td>\n",
       "      <td>WD</td>\n",
       "      <td>Normal</td>\n",
       "      <td>189900</td>\n",
       "    </tr>\n",
       "  </tbody>\n",
       "</table>\n",
       "<p>5 rows × 82 columns</p>\n",
       "</div>"
      ],
      "text/plain": [
       "   Order        PID  MS SubClass MS Zoning  Lot Frontage  Lot Area Street  \\\n",
       "0      1  526301100           20        RL         141.0     31770   Pave   \n",
       "1      2  526350040           20        RH          80.0     11622   Pave   \n",
       "2      3  526351010           20        RL          81.0     14267   Pave   \n",
       "3      4  526353030           20        RL          93.0     11160   Pave   \n",
       "4      5  527105010           60        RL          74.0     13830   Pave   \n",
       "\n",
       "  Alley Lot Shape Land Contour  ... Pool Area Pool QC  Fence Misc Feature  \\\n",
       "0   NaN       IR1          Lvl  ...         0     NaN    NaN          NaN   \n",
       "1   NaN       Reg          Lvl  ...         0     NaN  MnPrv          NaN   \n",
       "2   NaN       IR1          Lvl  ...         0     NaN    NaN         Gar2   \n",
       "3   NaN       Reg          Lvl  ...         0     NaN    NaN          NaN   \n",
       "4   NaN       IR1          Lvl  ...         0     NaN  MnPrv          NaN   \n",
       "\n",
       "  Misc Val Mo Sold Yr Sold Sale Type  Sale Condition  SalePrice  \n",
       "0        0       5    2010       WD           Normal     215000  \n",
       "1        0       6    2010       WD           Normal     105000  \n",
       "2    12500       6    2010       WD           Normal     172000  \n",
       "3        0       4    2010       WD           Normal     244000  \n",
       "4        0       3    2010       WD           Normal     189900  \n",
       "\n",
       "[5 rows x 82 columns]"
      ]
     },
     "execution_count": 32,
     "metadata": {},
     "output_type": "execute_result"
    }
   ],
   "source": [
    "house_df = pd.read_csv(\"/Users/conniechou/Downloads/AmesHousing.csv\")\n",
    "house_df.head()"
   ]
  },
  {
   "cell_type": "markdown",
   "metadata": {
    "id": "sTDrMPumDW_i"
   },
   "source": [
    "# Model 1: using only size and number of rooms"
   ]
  },
  {
   "cell_type": "code",
   "execution_count": 33,
   "metadata": {
    "id": "v6OsTkceDU_c",
    "tags": []
   },
   "outputs": [],
   "source": [
    "#size = GrLivArea\n",
    "#number of rooms = TotRms AbvGrd\n",
    "X = house_df.drop(\"SalePrice\", axis = 1) #keep all columns except ur y\n",
    "y = house_df[\"SalePrice\"]\n",
    "\n",
    "X_train, X_test, y_train, y_test = train_test_split(X, y)"
   ]
  },
  {
   "cell_type": "code",
   "execution_count": 34,
   "metadata": {
    "id": "Lcv03UoXFjKP",
    "tags": []
   },
   "outputs": [],
   "source": [
    "lr = LinearRegression()\n",
    "std_s = StandardScaler()\n",
    "\n",
    "ct = ColumnTransformer(\n",
    "    [(\"standardize\", std_s, [\"Gr Liv Area\", \"TotRms AbvGrd\"])],\n",
    "    remainder = \"drop\" #drop the columns we dont need\n",
    ")\n",
    "\n",
    "lr_pipeline = Pipeline(\n",
    "  [(\"standardize\", ct),\n",
    "  (\"linear_regression\", lr)]\n",
    ")\n",
    "\n",
    "lr_pipeline_fitted = lr_pipeline.fit(X_train, y_train) #fit the model with training data (learn from training data)\n",
    "y_preds = lr_pipeline_fitted.predict(X_test)"
   ]
  },
  {
   "cell_type": "code",
   "execution_count": 35,
   "metadata": {
    "colab": {
     "base_uri": "https://localhost:8080/"
    },
    "id": "er5GSjMwGWF0",
    "outputId": "ef7fd8f0-fa45-48ec-c13f-33d4899e471b"
   },
   "outputs": [
    {
     "data": {
      "text/plain": [
       "51760.39520451284"
      ]
     },
     "execution_count": 35,
     "metadata": {},
     "output_type": "execute_result"
    }
   ],
   "source": [
    "rmse1 = mean_squared_error(y_test, y_preds, squared = False)\n",
    "rmse1"
   ]
  },
  {
   "cell_type": "markdown",
   "metadata": {
    "id": "xdwINm0ADbI8"
   },
   "source": [
    "#Model 2: Using size, number of rooms, and building type"
   ]
  },
  {
   "cell_type": "code",
   "execution_count": 36,
   "metadata": {
    "id": "5v4vnslr5Ax8"
   },
   "outputs": [],
   "source": [
    "enc = OneHotEncoder(sparse_output = False)\n",
    "\n",
    "ct = ColumnTransformer(\n",
    "    [(\"standardize\", std_s, [\"Gr Liv Area\", \"TotRms AbvGrd\"]),\n",
    "     (\"dummify\", enc, [\"Bldg Type\"])],\n",
    "    remainder = \"drop\" #drop the columns we dont need\n",
    ")\n",
    "\n",
    "lr_pipeline2 = Pipeline(\n",
    "  [(\"preprocessing\", ct),\n",
    "  (\"linear_regression\", lr)]\n",
    ")\n",
    "\n",
    "lr_pipeline_fitted2 = lr_pipeline2.fit(X_train, y_train) #fit the model with training data (learn from training data)\n",
    "y_preds2 = lr_pipeline_fitted2.predict(X_test)"
   ]
  },
  {
   "cell_type": "code",
   "execution_count": 37,
   "metadata": {
    "colab": {
     "base_uri": "https://localhost:8080/"
    },
    "id": "-f-7eiTV5EC0",
    "outputId": "e4acc6e4-a32d-4c78-9ed4-d21a44daeced"
   },
   "outputs": [
    {
     "data": {
      "text/plain": [
       "50476.8244154964"
      ]
     },
     "execution_count": 37,
     "metadata": {},
     "output_type": "execute_result"
    }
   ],
   "source": [
    "rmse2 = mean_squared_error(y_test, y_preds2, squared = False)\n",
    "rmse2"
   ]
  },
  {
   "cell_type": "markdown",
   "metadata": {
    "id": "DwfM2PVXDbRQ"
   },
   "source": [
    "#Model 3: using size and building type, and their interaction"
   ]
  },
  {
   "cell_type": "code",
   "execution_count": 38,
   "metadata": {
    "id": "U4xD3qW76tMK",
    "tags": []
   },
   "outputs": [],
   "source": [
    "#size = numerical\n",
    "#building type = dummy\n",
    "enc = OneHotEncoder(sparse_output = False)\n",
    "\n",
    "#first transform building type into dummy in its own column transformer\n",
    "ct_dummy = ColumnTransformer(\n",
    "    [(\"dummify\", enc, [\"Bldg Type\"])], remainder = \"passthrough\"\n",
    ").set_output(transform = \"pandas\")\n",
    "\n",
    "ct_dummy.fit_transform(X_train)\n",
    "\n",
    "#then another column transformer to have interaction between size and dummified building type\n",
    "ct_interact = ColumnTransformer(\n",
    "    [(\"interaction\", PolynomialFeatures(interaction_only = True), [\"remainder__Gr Liv Area\", \"dummify__Bldg Type_1Fam\"]),\n",
    "    (\"interaction2\", PolynomialFeatures(interaction_only = True), [\"remainder__Gr Liv Area\", \"dummify__Bldg Type_2fmCon\"]),\n",
    "    (\"interaction3\", PolynomialFeatures(interaction_only = True), [\"remainder__Gr Liv Area\", \"dummify__Bldg Type_Duplex\"]),\n",
    "    (\"interaction4\", PolynomialFeatures(interaction_only = True), [\"remainder__Gr Liv Area\", \"dummify__Bldg Type_Twnhs\"]),\n",
    "    (\"interaction5\", PolynomialFeatures(interaction_only = True), [\"remainder__Gr Liv Area\", \"dummify__Bldg Type_TwnhsE\"])],\n",
    ").set_output(transform = \"pandas\")\n",
    "\n",
    "lr_pipeline_inter = Pipeline(\n",
    "    [(\"dummify\", ct_dummy),\n",
    "     (\"interacting\", ct_interact),\n",
    "      (\"linear regression\", lr)]\n",
    ").set_output(transform = \"pandas\")\n",
    "\n",
    "#fitting model on training data\n",
    "lr_pipeline_fitted3 = lr_pipeline_inter.fit(X_train, y_train) #fit the model with training data (learn from training data)\n",
    "y_preds3 = lr_pipeline_fitted3.predict(X_test)"
   ]
  },
  {
   "cell_type": "code",
   "execution_count": 39,
   "metadata": {
    "colab": {
     "base_uri": "https://localhost:8080/"
    },
    "id": "N1fFzvb56tSB",
    "outputId": "ea3d6f56-eb37-497a-e915-798902ac5910",
    "tags": []
   },
   "outputs": [
    {
     "data": {
      "text/plain": [
       "50192.90700604007"
      ]
     },
     "execution_count": 39,
     "metadata": {},
     "output_type": "execute_result"
    }
   ],
   "source": [
    "rmse3 = mean_squared_error(y_test, y_preds3, squared = False)\n",
    "rmse3"
   ]
  },
  {
   "cell_type": "markdown",
   "metadata": {
    "id": "4MVf54sdDbZ3"
   },
   "source": [
    "#Model 4: using a 5-degree polynomial on size, a 5 degree polynomial on number of rooms, and also building type"
   ]
  },
  {
   "cell_type": "code",
   "execution_count": 40,
   "metadata": {
    "id": "X8mCVLTe-zeQ"
   },
   "outputs": [],
   "source": [
    "#size = numerical\n",
    "#building type = dummy\n",
    "enc = OneHotEncoder(sparse_output = False)\n",
    "\n",
    "#first transform building type into dummy in its own column transformer\n",
    "ct_preprocess = ColumnTransformer(\n",
    "    [(\"dummify\", enc, [\"Bldg Type\"]),\n",
    "     (\"polynomial\", PolynomialFeatures(degree = 5), [\"Gr Liv Area\", \"TotRms AbvGrd\"])], remainder = \"drop\"\n",
    ").set_output(transform = \"pandas\")\n",
    "\n",
    "ct_preprocess.fit_transform(X_train)\n",
    "\n",
    "lr_pipeline_poly = Pipeline(\n",
    "    [(\"preprocessing\", ct_preprocess),\n",
    "      (\"linear regression\", lr)]\n",
    ").set_output(transform = \"pandas\")\n",
    "\n",
    "#fitting model on training data\n",
    "lr_pipeline_fitted4 = lr_pipeline_poly.fit(X_train, y_train) #fit the model with training data (learn from training data)\n",
    "y_preds4 = lr_pipeline_fitted4.predict(X_test)"
   ]
  },
  {
   "cell_type": "code",
   "execution_count": 41,
   "metadata": {
    "colab": {
     "base_uri": "https://localhost:8080/"
    },
    "id": "ziHmDXYm-ziU",
    "outputId": "249bca24-d34b-4c8d-f6cc-3f04c2ecd428"
   },
   "outputs": [
    {
     "data": {
      "text/plain": [
       "120519.68755706924"
      ]
     },
     "execution_count": 41,
     "metadata": {},
     "output_type": "execute_result"
    }
   ],
   "source": [
    "rmse4 = mean_squared_error(y_test, y_preds4, squared = False)\n",
    "rmse4"
   ]
  },
  {
   "cell_type": "markdown",
   "metadata": {
    "id": "uEeg13hVHZLu"
   },
   "source": [
    "The model that performed the best (that had the lowest RSME) is model 2."
   ]
  },
  {
   "cell_type": "markdown",
   "metadata": {
    "id": "YLfnb8edKkww"
   },
   "source": [
    "#Cross Validation"
   ]
  },
  {
   "cell_type": "code",
   "execution_count": 42,
   "metadata": {
    "colab": {
     "base_uri": "https://localhost:8080/"
    },
    "id": "1KDJf2vzKkA-",
    "outputId": "4c1ac6e2-3f88-45b1-a1a5-b496614e1476"
   },
   "outputs": [
    {
     "data": {
      "text/plain": [
       "55806.32634926364"
      ]
     },
     "execution_count": 42,
     "metadata": {},
     "output_type": "execute_result"
    }
   ],
   "source": [
    "#rsme cross validation for model 1\n",
    "scores = cross_val_score(lr_pipeline, X, y, cv=5, scoring='neg_root_mean_squared_error')\n",
    "-scores.mean()"
   ]
  },
  {
   "cell_type": "code",
   "execution_count": 43,
   "metadata": {
    "colab": {
     "base_uri": "https://localhost:8080/"
    },
    "id": "FbCjOFpvF-1z",
    "outputId": "221a7873-6b3e-405b-e793-907e45fe9590"
   },
   "outputs": [
    {
     "data": {
      "text/plain": [
       "54168.08142919383"
      ]
     },
     "execution_count": 43,
     "metadata": {},
     "output_type": "execute_result"
    }
   ],
   "source": [
    "#rsme cross validation for model 2\n",
    "scores2 = cross_val_score(lr_pipeline2, X, y, cv=5, scoring='neg_root_mean_squared_error')\n",
    "-scores2.mean()"
   ]
  },
  {
   "cell_type": "code",
   "execution_count": 44,
   "metadata": {
    "colab": {
     "base_uri": "https://localhost:8080/"
    },
    "id": "_9a6mcEHF-53",
    "outputId": "172ffbcd-134f-42eb-be2d-b8cb11988161"
   },
   "outputs": [
    {
     "data": {
      "text/plain": [
       "53430.92197532802"
      ]
     },
     "execution_count": 44,
     "metadata": {},
     "output_type": "execute_result"
    }
   ],
   "source": [
    "#rsme cross validation for model 3\n",
    "scores3 = cross_val_score(lr_pipeline_inter, X, y, cv=5, scoring='neg_root_mean_squared_error')\n",
    "-scores3.mean()"
   ]
  },
  {
   "cell_type": "code",
   "execution_count": 45,
   "metadata": {
    "colab": {
     "base_uri": "https://localhost:8080/"
    },
    "id": "GMj2i9VDF-9i",
    "outputId": "03df3869-27f5-47dc-a8d8-4c424fa12c26"
   },
   "outputs": [
    {
     "data": {
      "text/plain": [
       "61241.88398053136"
      ]
     },
     "execution_count": 45,
     "metadata": {},
     "output_type": "execute_result"
    }
   ],
   "source": [
    "#rsme cross validation for model 4\n",
    "scores4 = cross_val_score(lr_pipeline_poly, X, y, cv=5, scoring='neg_root_mean_squared_error')\n",
    "-scores4.mean()"
   ]
  },
  {
   "cell_type": "markdown",
   "metadata": {
    "id": "gC16Zd5wHgu6"
   },
   "source": [
    "TO INTERPRET RSME, TAKE THE ABSOLUTE VALUE\n",
    "After taking the absolute value, we can see that model 3 performed better."
   ]
  },
  {
   "cell_type": "markdown",
   "metadata": {
    "id": "6yL-oD56Ii5p"
   },
   "source": [
    "# Tuning"
   ]
  },
  {
   "cell_type": "code",
   "execution_count": 46,
   "metadata": {
    "id": "bPPHv-7UI3Ne"
   },
   "outputs": [
    {
     "data": {
      "text/plain": [
       "{'mean_fit_time': array([0.01782379, 0.01368637, 0.01301761, 0.01314769, 0.01346421,\n",
       "        0.0134912 , 0.01357036, 0.01354413, 0.01465802, 0.0150774 ,\n",
       "        0.01293478, 0.01296763, 0.01298542, 0.01353526, 0.0134367 ,\n",
       "        0.01359711, 0.01348009, 0.01366663, 0.01381025, 0.01419125,\n",
       "        0.01307683, 0.01302123, 0.01344252, 0.01342287, 0.01362429,\n",
       "        0.01366515, 0.01362715, 0.01379156, 0.01387644, 0.01385956,\n",
       "        0.01347752, 0.01380897, 0.01431241, 0.01366525, 0.01351953,\n",
       "        0.01369233, 0.01636329, 0.01396837, 0.0142899 , 0.01468596,\n",
       "        0.01345592, 0.01319957, 0.01358786, 0.01375957, 0.01386685,\n",
       "        0.0141479 , 0.01376929, 0.01459794, 0.01447196, 0.01440783,\n",
       "        0.01322613, 0.01342053, 0.01346073, 0.01398301, 0.01366448,\n",
       "        0.0152092 , 0.01592655, 0.01914101, 0.01475201, 0.0154304 ,\n",
       "        0.01325259, 0.01352353, 0.01358781, 0.01377397, 0.01405635,\n",
       "        0.01439557, 0.01427712, 0.01450505, 0.01601872, 0.01928225,\n",
       "        0.02296472, 0.02090893, 0.02108145, 0.0213841 , 0.02171173,\n",
       "        0.02377372, 0.02375789, 0.02145872, 0.01863675, 0.01618056,\n",
       "        0.01477504, 0.01518793, 0.02304578, 0.01962137, 0.01490068,\n",
       "        0.01521626, 0.01567721, 0.0175858 , 0.01926413, 0.02101231,\n",
       "        0.01977782, 0.02197323, 0.02029729, 0.0221096 , 0.02226267,\n",
       "        0.02021332, 0.01897197, 0.01545296, 0.01708374, 0.02042208]),\n",
       " 'std_fit_time': array([5.96650597e-03, 6.73767739e-04, 1.37913424e-04, 1.65054935e-04,\n",
       "        2.98230747e-04, 1.70744687e-04, 1.95836179e-04, 2.18487931e-04,\n",
       "        1.68928449e-03, 2.65180159e-03, 1.30735897e-04, 1.43257580e-04,\n",
       "        4.02568624e-05, 3.25340231e-04, 2.61351902e-04, 4.45943673e-04,\n",
       "        1.59568238e-04, 2.53901213e-04, 2.41881993e-04, 2.81420856e-04,\n",
       "        3.64076565e-04, 1.51626119e-04, 4.62053656e-04, 1.25769956e-04,\n",
       "        4.87370233e-04, 1.27574340e-04, 2.37368445e-04, 2.99161720e-04,\n",
       "        3.33612431e-04, 2.82677996e-04, 6.73579339e-04, 7.29732556e-04,\n",
       "        1.36818974e-03, 4.44777777e-04, 1.65814525e-04, 1.76394910e-04,\n",
       "        2.99515685e-03, 1.93956912e-04, 6.07399720e-04, 8.22080614e-04,\n",
       "        2.50816091e-04, 8.08207334e-05, 1.41969774e-04, 4.29595651e-04,\n",
       "        2.53385065e-04, 2.77659235e-04, 1.01573321e-04, 9.65597099e-04,\n",
       "        8.85456166e-04, 3.09281793e-04, 1.65008436e-04, 1.46219640e-04,\n",
       "        8.78294179e-05, 7.62709687e-04, 6.93590749e-05, 2.36408742e-03,\n",
       "        1.94799031e-03, 5.31540521e-03, 9.08952347e-04, 1.61750804e-03,\n",
       "        9.46418579e-05, 1.66073997e-04, 4.75094950e-05, 1.08949246e-04,\n",
       "        2.85144977e-04, 1.76621320e-04, 2.07299579e-04, 3.01104849e-04,\n",
       "        1.95567286e-03, 2.57095865e-03, 4.45775138e-03, 2.99752023e-03,\n",
       "        3.83700250e-03, 3.50502650e-03, 1.78296952e-03, 4.02540891e-03,\n",
       "        4.27350551e-03, 2.88518769e-03, 2.42604152e-03, 9.56093716e-04,\n",
       "        2.57755957e-04, 6.27115057e-04, 6.35826728e-03, 4.25326024e-03,\n",
       "        3.50788878e-04, 2.87577584e-04, 1.61010547e-04, 2.11945828e-03,\n",
       "        5.18610658e-04, 2.06544921e-03, 2.05715112e-03, 1.33647770e-03,\n",
       "        8.01375981e-04, 2.19259673e-03, 9.94195419e-04, 3.68078034e-03,\n",
       "        1.58411724e-03, 2.46359596e-04, 1.51376576e-03, 3.13668946e-03]),\n",
       " 'mean_score_time': array([0.00931764, 0.00779114, 0.0076673 , 0.00778141, 0.00818658,\n",
       "        0.00796552, 0.00803356, 0.0078126 , 0.0079648 , 0.00807514,\n",
       "        0.00756168, 0.00757899, 0.00768294, 0.0079185 , 0.00782022,\n",
       "        0.00824308, 0.00787702, 0.00802588, 0.00831895, 0.00808434,\n",
       "        0.00758362, 0.00775914, 0.00829096, 0.00777564, 0.0080224 ,\n",
       "        0.00788946, 0.00784593, 0.00801716, 0.00791154, 0.00795345,\n",
       "        0.00772738, 0.00779819, 0.00822821, 0.0079205 , 0.00793509,\n",
       "        0.00791373, 0.00988913, 0.00794721, 0.00798345, 0.00812035,\n",
       "        0.00771646, 0.00769949, 0.00806909, 0.00782199, 0.0079824 ,\n",
       "        0.00810342, 0.00856318, 0.00813675, 0.00816178, 0.00839338,\n",
       "        0.00774179, 0.007797  , 0.00794249, 0.00786691, 0.00801544,\n",
       "        0.00876513, 0.00894523, 0.00928612, 0.00832438, 0.00848265,\n",
       "        0.00782065, 0.00800781, 0.0078054 , 0.00798965, 0.00839052,\n",
       "        0.00799179, 0.00797787, 0.00813828, 0.00848551, 0.0113534 ,\n",
       "        0.01474509, 0.01295466, 0.01238179, 0.01296859, 0.01338191,\n",
       "        0.01415977, 0.01154742, 0.01379619, 0.011169  , 0.00913939,\n",
       "        0.00852246, 0.00872984, 0.01190724, 0.00921259, 0.00860333,\n",
       "        0.00872531, 0.00879426, 0.0092072 , 0.01056027, 0.01218858,\n",
       "        0.01510735, 0.01117182, 0.01351414, 0.01150465, 0.01333995,\n",
       "        0.01089115, 0.01249475, 0.00857859, 0.01076961, 0.01171036]),\n",
       " 'std_score_time': array([1.71369710e-03, 1.94883854e-04, 1.73096683e-04, 1.23831186e-04,\n",
       "        5.44171174e-04, 1.91805778e-04, 2.88087687e-04, 6.54323447e-05,\n",
       "        1.35539853e-04, 2.23756089e-04, 3.25386773e-05, 2.80458089e-05,\n",
       "        5.57299234e-05, 3.05931697e-04, 9.19097407e-05, 8.59321723e-04,\n",
       "        1.64101871e-04, 1.14747967e-04, 7.15691933e-04, 7.58976479e-05,\n",
       "        5.98178864e-05, 1.40175640e-04, 8.98344899e-04, 1.10742656e-04,\n",
       "        5.52178409e-04, 1.09481895e-04, 3.27498620e-05, 2.45423439e-04,\n",
       "        9.86530562e-05, 8.87217522e-05, 6.15430354e-05, 1.85456371e-04,\n",
       "        9.94537966e-04, 2.71045289e-04, 2.01492528e-04, 7.84192885e-05,\n",
       "        1.75583839e-03, 2.31656502e-05, 9.11088454e-05, 1.21911922e-04,\n",
       "        1.06463376e-04, 2.30741890e-05, 5.81355385e-04, 1.73335482e-04,\n",
       "        2.76689814e-04, 2.00260730e-04, 1.34361372e-03, 1.78887034e-04,\n",
       "        3.60472871e-04, 2.05072223e-04, 1.59351502e-04, 4.21055581e-05,\n",
       "        1.05395726e-04, 5.63320896e-05, 1.87056562e-04, 1.35538369e-03,\n",
       "        1.32034040e-03, 1.43839132e-03, 3.09486014e-04, 4.92240973e-04,\n",
       "        1.56967840e-04, 3.39376847e-04, 6.52247002e-05, 2.67945615e-04,\n",
       "        5.01117460e-04, 5.15299718e-05, 5.72811441e-05, 1.74992130e-04,\n",
       "        4.67546734e-04, 3.08198842e-03, 1.04413264e-03, 3.43344905e-03,\n",
       "        1.36123213e-03, 2.18405142e-03, 1.51523386e-03, 1.79397189e-03,\n",
       "        2.47994079e-03, 2.64597321e-03, 2.15729990e-03, 8.72742542e-04,\n",
       "        3.50375856e-04, 4.39869436e-04, 2.17376810e-03, 1.26720935e-03,\n",
       "        9.31021346e-05, 4.40763740e-04, 1.38670149e-04, 7.70152733e-04,\n",
       "        8.31614271e-04, 7.16133685e-04, 3.06469895e-03, 1.41793646e-03,\n",
       "        5.66427565e-04, 2.66580867e-03, 2.06286043e-03, 1.91514757e-03,\n",
       "        1.53279505e-03, 2.51979876e-04, 2.35273536e-03, 1.66533871e-03]),\n",
       " 'param_preprocessing__rooms_polynomial__degree': masked_array(data=[1, 1, 1, 1, 1, 1, 1, 1, 1, 1, 2, 2, 2, 2, 2, 2, 2, 2,\n",
       "                    2, 2, 3, 3, 3, 3, 3, 3, 3, 3, 3, 3, 4, 4, 4, 4, 4, 4,\n",
       "                    4, 4, 4, 4, 5, 5, 5, 5, 5, 5, 5, 5, 5, 5, 6, 6, 6, 6,\n",
       "                    6, 6, 6, 6, 6, 6, 7, 7, 7, 7, 7, 7, 7, 7, 7, 7, 8, 8,\n",
       "                    8, 8, 8, 8, 8, 8, 8, 8, 9, 9, 9, 9, 9, 9, 9, 9, 9, 9,\n",
       "                    10, 10, 10, 10, 10, 10, 10, 10, 10, 10],\n",
       "              mask=[False, False, False, False, False, False, False, False,\n",
       "                    False, False, False, False, False, False, False, False,\n",
       "                    False, False, False, False, False, False, False, False,\n",
       "                    False, False, False, False, False, False, False, False,\n",
       "                    False, False, False, False, False, False, False, False,\n",
       "                    False, False, False, False, False, False, False, False,\n",
       "                    False, False, False, False, False, False, False, False,\n",
       "                    False, False, False, False, False, False, False, False,\n",
       "                    False, False, False, False, False, False, False, False,\n",
       "                    False, False, False, False, False, False, False, False,\n",
       "                    False, False, False, False, False, False, False, False,\n",
       "                    False, False, False, False, False, False, False, False,\n",
       "                    False, False, False, False],\n",
       "        fill_value='?',\n",
       "             dtype=object),\n",
       " 'param_preprocessing__size_polynomial__degree': masked_array(data=[1, 2, 3, 4, 5, 6, 7, 8, 9, 10, 1, 2, 3, 4, 5, 6, 7, 8,\n",
       "                    9, 10, 1, 2, 3, 4, 5, 6, 7, 8, 9, 10, 1, 2, 3, 4, 5, 6,\n",
       "                    7, 8, 9, 10, 1, 2, 3, 4, 5, 6, 7, 8, 9, 10, 1, 2, 3, 4,\n",
       "                    5, 6, 7, 8, 9, 10, 1, 2, 3, 4, 5, 6, 7, 8, 9, 10, 1, 2,\n",
       "                    3, 4, 5, 6, 7, 8, 9, 10, 1, 2, 3, 4, 5, 6, 7, 8, 9, 10,\n",
       "                    1, 2, 3, 4, 5, 6, 7, 8, 9, 10],\n",
       "              mask=[False, False, False, False, False, False, False, False,\n",
       "                    False, False, False, False, False, False, False, False,\n",
       "                    False, False, False, False, False, False, False, False,\n",
       "                    False, False, False, False, False, False, False, False,\n",
       "                    False, False, False, False, False, False, False, False,\n",
       "                    False, False, False, False, False, False, False, False,\n",
       "                    False, False, False, False, False, False, False, False,\n",
       "                    False, False, False, False, False, False, False, False,\n",
       "                    False, False, False, False, False, False, False, False,\n",
       "                    False, False, False, False, False, False, False, False,\n",
       "                    False, False, False, False, False, False, False, False,\n",
       "                    False, False, False, False, False, False, False, False,\n",
       "                    False, False, False, False],\n",
       "        fill_value='?',\n",
       "             dtype=object),\n",
       " 'params': [{'preprocessing__rooms_polynomial__degree': 1,\n",
       "   'preprocessing__size_polynomial__degree': 1},\n",
       "  {'preprocessing__rooms_polynomial__degree': 1,\n",
       "   'preprocessing__size_polynomial__degree': 2},\n",
       "  {'preprocessing__rooms_polynomial__degree': 1,\n",
       "   'preprocessing__size_polynomial__degree': 3},\n",
       "  {'preprocessing__rooms_polynomial__degree': 1,\n",
       "   'preprocessing__size_polynomial__degree': 4},\n",
       "  {'preprocessing__rooms_polynomial__degree': 1,\n",
       "   'preprocessing__size_polynomial__degree': 5},\n",
       "  {'preprocessing__rooms_polynomial__degree': 1,\n",
       "   'preprocessing__size_polynomial__degree': 6},\n",
       "  {'preprocessing__rooms_polynomial__degree': 1,\n",
       "   'preprocessing__size_polynomial__degree': 7},\n",
       "  {'preprocessing__rooms_polynomial__degree': 1,\n",
       "   'preprocessing__size_polynomial__degree': 8},\n",
       "  {'preprocessing__rooms_polynomial__degree': 1,\n",
       "   'preprocessing__size_polynomial__degree': 9},\n",
       "  {'preprocessing__rooms_polynomial__degree': 1,\n",
       "   'preprocessing__size_polynomial__degree': 10},\n",
       "  {'preprocessing__rooms_polynomial__degree': 2,\n",
       "   'preprocessing__size_polynomial__degree': 1},\n",
       "  {'preprocessing__rooms_polynomial__degree': 2,\n",
       "   'preprocessing__size_polynomial__degree': 2},\n",
       "  {'preprocessing__rooms_polynomial__degree': 2,\n",
       "   'preprocessing__size_polynomial__degree': 3},\n",
       "  {'preprocessing__rooms_polynomial__degree': 2,\n",
       "   'preprocessing__size_polynomial__degree': 4},\n",
       "  {'preprocessing__rooms_polynomial__degree': 2,\n",
       "   'preprocessing__size_polynomial__degree': 5},\n",
       "  {'preprocessing__rooms_polynomial__degree': 2,\n",
       "   'preprocessing__size_polynomial__degree': 6},\n",
       "  {'preprocessing__rooms_polynomial__degree': 2,\n",
       "   'preprocessing__size_polynomial__degree': 7},\n",
       "  {'preprocessing__rooms_polynomial__degree': 2,\n",
       "   'preprocessing__size_polynomial__degree': 8},\n",
       "  {'preprocessing__rooms_polynomial__degree': 2,\n",
       "   'preprocessing__size_polynomial__degree': 9},\n",
       "  {'preprocessing__rooms_polynomial__degree': 2,\n",
       "   'preprocessing__size_polynomial__degree': 10},\n",
       "  {'preprocessing__rooms_polynomial__degree': 3,\n",
       "   'preprocessing__size_polynomial__degree': 1},\n",
       "  {'preprocessing__rooms_polynomial__degree': 3,\n",
       "   'preprocessing__size_polynomial__degree': 2},\n",
       "  {'preprocessing__rooms_polynomial__degree': 3,\n",
       "   'preprocessing__size_polynomial__degree': 3},\n",
       "  {'preprocessing__rooms_polynomial__degree': 3,\n",
       "   'preprocessing__size_polynomial__degree': 4},\n",
       "  {'preprocessing__rooms_polynomial__degree': 3,\n",
       "   'preprocessing__size_polynomial__degree': 5},\n",
       "  {'preprocessing__rooms_polynomial__degree': 3,\n",
       "   'preprocessing__size_polynomial__degree': 6},\n",
       "  {'preprocessing__rooms_polynomial__degree': 3,\n",
       "   'preprocessing__size_polynomial__degree': 7},\n",
       "  {'preprocessing__rooms_polynomial__degree': 3,\n",
       "   'preprocessing__size_polynomial__degree': 8},\n",
       "  {'preprocessing__rooms_polynomial__degree': 3,\n",
       "   'preprocessing__size_polynomial__degree': 9},\n",
       "  {'preprocessing__rooms_polynomial__degree': 3,\n",
       "   'preprocessing__size_polynomial__degree': 10},\n",
       "  {'preprocessing__rooms_polynomial__degree': 4,\n",
       "   'preprocessing__size_polynomial__degree': 1},\n",
       "  {'preprocessing__rooms_polynomial__degree': 4,\n",
       "   'preprocessing__size_polynomial__degree': 2},\n",
       "  {'preprocessing__rooms_polynomial__degree': 4,\n",
       "   'preprocessing__size_polynomial__degree': 3},\n",
       "  {'preprocessing__rooms_polynomial__degree': 4,\n",
       "   'preprocessing__size_polynomial__degree': 4},\n",
       "  {'preprocessing__rooms_polynomial__degree': 4,\n",
       "   'preprocessing__size_polynomial__degree': 5},\n",
       "  {'preprocessing__rooms_polynomial__degree': 4,\n",
       "   'preprocessing__size_polynomial__degree': 6},\n",
       "  {'preprocessing__rooms_polynomial__degree': 4,\n",
       "   'preprocessing__size_polynomial__degree': 7},\n",
       "  {'preprocessing__rooms_polynomial__degree': 4,\n",
       "   'preprocessing__size_polynomial__degree': 8},\n",
       "  {'preprocessing__rooms_polynomial__degree': 4,\n",
       "   'preprocessing__size_polynomial__degree': 9},\n",
       "  {'preprocessing__rooms_polynomial__degree': 4,\n",
       "   'preprocessing__size_polynomial__degree': 10},\n",
       "  {'preprocessing__rooms_polynomial__degree': 5,\n",
       "   'preprocessing__size_polynomial__degree': 1},\n",
       "  {'preprocessing__rooms_polynomial__degree': 5,\n",
       "   'preprocessing__size_polynomial__degree': 2},\n",
       "  {'preprocessing__rooms_polynomial__degree': 5,\n",
       "   'preprocessing__size_polynomial__degree': 3},\n",
       "  {'preprocessing__rooms_polynomial__degree': 5,\n",
       "   'preprocessing__size_polynomial__degree': 4},\n",
       "  {'preprocessing__rooms_polynomial__degree': 5,\n",
       "   'preprocessing__size_polynomial__degree': 5},\n",
       "  {'preprocessing__rooms_polynomial__degree': 5,\n",
       "   'preprocessing__size_polynomial__degree': 6},\n",
       "  {'preprocessing__rooms_polynomial__degree': 5,\n",
       "   'preprocessing__size_polynomial__degree': 7},\n",
       "  {'preprocessing__rooms_polynomial__degree': 5,\n",
       "   'preprocessing__size_polynomial__degree': 8},\n",
       "  {'preprocessing__rooms_polynomial__degree': 5,\n",
       "   'preprocessing__size_polynomial__degree': 9},\n",
       "  {'preprocessing__rooms_polynomial__degree': 5,\n",
       "   'preprocessing__size_polynomial__degree': 10},\n",
       "  {'preprocessing__rooms_polynomial__degree': 6,\n",
       "   'preprocessing__size_polynomial__degree': 1},\n",
       "  {'preprocessing__rooms_polynomial__degree': 6,\n",
       "   'preprocessing__size_polynomial__degree': 2},\n",
       "  {'preprocessing__rooms_polynomial__degree': 6,\n",
       "   'preprocessing__size_polynomial__degree': 3},\n",
       "  {'preprocessing__rooms_polynomial__degree': 6,\n",
       "   'preprocessing__size_polynomial__degree': 4},\n",
       "  {'preprocessing__rooms_polynomial__degree': 6,\n",
       "   'preprocessing__size_polynomial__degree': 5},\n",
       "  {'preprocessing__rooms_polynomial__degree': 6,\n",
       "   'preprocessing__size_polynomial__degree': 6},\n",
       "  {'preprocessing__rooms_polynomial__degree': 6,\n",
       "   'preprocessing__size_polynomial__degree': 7},\n",
       "  {'preprocessing__rooms_polynomial__degree': 6,\n",
       "   'preprocessing__size_polynomial__degree': 8},\n",
       "  {'preprocessing__rooms_polynomial__degree': 6,\n",
       "   'preprocessing__size_polynomial__degree': 9},\n",
       "  {'preprocessing__rooms_polynomial__degree': 6,\n",
       "   'preprocessing__size_polynomial__degree': 10},\n",
       "  {'preprocessing__rooms_polynomial__degree': 7,\n",
       "   'preprocessing__size_polynomial__degree': 1},\n",
       "  {'preprocessing__rooms_polynomial__degree': 7,\n",
       "   'preprocessing__size_polynomial__degree': 2},\n",
       "  {'preprocessing__rooms_polynomial__degree': 7,\n",
       "   'preprocessing__size_polynomial__degree': 3},\n",
       "  {'preprocessing__rooms_polynomial__degree': 7,\n",
       "   'preprocessing__size_polynomial__degree': 4},\n",
       "  {'preprocessing__rooms_polynomial__degree': 7,\n",
       "   'preprocessing__size_polynomial__degree': 5},\n",
       "  {'preprocessing__rooms_polynomial__degree': 7,\n",
       "   'preprocessing__size_polynomial__degree': 6},\n",
       "  {'preprocessing__rooms_polynomial__degree': 7,\n",
       "   'preprocessing__size_polynomial__degree': 7},\n",
       "  {'preprocessing__rooms_polynomial__degree': 7,\n",
       "   'preprocessing__size_polynomial__degree': 8},\n",
       "  {'preprocessing__rooms_polynomial__degree': 7,\n",
       "   'preprocessing__size_polynomial__degree': 9},\n",
       "  {'preprocessing__rooms_polynomial__degree': 7,\n",
       "   'preprocessing__size_polynomial__degree': 10},\n",
       "  {'preprocessing__rooms_polynomial__degree': 8,\n",
       "   'preprocessing__size_polynomial__degree': 1},\n",
       "  {'preprocessing__rooms_polynomial__degree': 8,\n",
       "   'preprocessing__size_polynomial__degree': 2},\n",
       "  {'preprocessing__rooms_polynomial__degree': 8,\n",
       "   'preprocessing__size_polynomial__degree': 3},\n",
       "  {'preprocessing__rooms_polynomial__degree': 8,\n",
       "   'preprocessing__size_polynomial__degree': 4},\n",
       "  {'preprocessing__rooms_polynomial__degree': 8,\n",
       "   'preprocessing__size_polynomial__degree': 5},\n",
       "  {'preprocessing__rooms_polynomial__degree': 8,\n",
       "   'preprocessing__size_polynomial__degree': 6},\n",
       "  {'preprocessing__rooms_polynomial__degree': 8,\n",
       "   'preprocessing__size_polynomial__degree': 7},\n",
       "  {'preprocessing__rooms_polynomial__degree': 8,\n",
       "   'preprocessing__size_polynomial__degree': 8},\n",
       "  {'preprocessing__rooms_polynomial__degree': 8,\n",
       "   'preprocessing__size_polynomial__degree': 9},\n",
       "  {'preprocessing__rooms_polynomial__degree': 8,\n",
       "   'preprocessing__size_polynomial__degree': 10},\n",
       "  {'preprocessing__rooms_polynomial__degree': 9,\n",
       "   'preprocessing__size_polynomial__degree': 1},\n",
       "  {'preprocessing__rooms_polynomial__degree': 9,\n",
       "   'preprocessing__size_polynomial__degree': 2},\n",
       "  {'preprocessing__rooms_polynomial__degree': 9,\n",
       "   'preprocessing__size_polynomial__degree': 3},\n",
       "  {'preprocessing__rooms_polynomial__degree': 9,\n",
       "   'preprocessing__size_polynomial__degree': 4},\n",
       "  {'preprocessing__rooms_polynomial__degree': 9,\n",
       "   'preprocessing__size_polynomial__degree': 5},\n",
       "  {'preprocessing__rooms_polynomial__degree': 9,\n",
       "   'preprocessing__size_polynomial__degree': 6},\n",
       "  {'preprocessing__rooms_polynomial__degree': 9,\n",
       "   'preprocessing__size_polynomial__degree': 7},\n",
       "  {'preprocessing__rooms_polynomial__degree': 9,\n",
       "   'preprocessing__size_polynomial__degree': 8},\n",
       "  {'preprocessing__rooms_polynomial__degree': 9,\n",
       "   'preprocessing__size_polynomial__degree': 9},\n",
       "  {'preprocessing__rooms_polynomial__degree': 9,\n",
       "   'preprocessing__size_polynomial__degree': 10},\n",
       "  {'preprocessing__rooms_polynomial__degree': 10,\n",
       "   'preprocessing__size_polynomial__degree': 1},\n",
       "  {'preprocessing__rooms_polynomial__degree': 10,\n",
       "   'preprocessing__size_polynomial__degree': 2},\n",
       "  {'preprocessing__rooms_polynomial__degree': 10,\n",
       "   'preprocessing__size_polynomial__degree': 3},\n",
       "  {'preprocessing__rooms_polynomial__degree': 10,\n",
       "   'preprocessing__size_polynomial__degree': 4},\n",
       "  {'preprocessing__rooms_polynomial__degree': 10,\n",
       "   'preprocessing__size_polynomial__degree': 5},\n",
       "  {'preprocessing__rooms_polynomial__degree': 10,\n",
       "   'preprocessing__size_polynomial__degree': 6},\n",
       "  {'preprocessing__rooms_polynomial__degree': 10,\n",
       "   'preprocessing__size_polynomial__degree': 7},\n",
       "  {'preprocessing__rooms_polynomial__degree': 10,\n",
       "   'preprocessing__size_polynomial__degree': 8},\n",
       "  {'preprocessing__rooms_polynomial__degree': 10,\n",
       "   'preprocessing__size_polynomial__degree': 9},\n",
       "  {'preprocessing__rooms_polynomial__degree': 10,\n",
       "   'preprocessing__size_polynomial__degree': 10}],\n",
       " 'split0_test_score': array([0.53197809, 0.53171602, 0.5452236 , 0.54369576, 0.50847886,\n",
       "        0.50803388, 0.50404863, 0.48824758, 0.45353321, 0.40231909,\n",
       "        0.52048972, 0.52917544, 0.53566998, 0.53567525, 0.50847886,\n",
       "        0.50803388, 0.50404863, 0.48824758, 0.45353321, 0.40231904,\n",
       "        0.5242219 , 0.53081818, 0.5359089 , 0.53611505, 0.50158175,\n",
       "        0.50803388, 0.50404864, 0.48824758, 0.45353321, 0.40231909,\n",
       "        0.53184271, 0.53758574, 0.53945884, 0.53886646, 0.50037318,\n",
       "        0.50803388, 0.50404864, 0.48824758, 0.45353321, 0.4023191 ,\n",
       "        0.5319609 , 0.53735141, 0.53930059, 0.53885469, 0.50052196,\n",
       "        0.50803388, 0.50404864, 0.48824758, 0.45353321, 0.4023191 ,\n",
       "        0.53190067, 0.53745662, 0.53938491, 0.53884006, 0.50566037,\n",
       "        0.50164541, 0.50404864, 0.48824758, 0.45353321, 0.4023191 ,\n",
       "        0.53133617, 0.53727551, 0.54040966, 0.53934184, 0.50525081,\n",
       "        0.50358826, 0.50404864, 0.48824758, 0.45353321, 0.4023191 ,\n",
       "        0.53065113, 0.53658738, 0.54022425, 0.53957198, 0.50604468,\n",
       "        0.49771534, 0.50404864, 0.48824758, 0.45353321, 0.4023191 ,\n",
       "        0.530993  , 0.536678  , 0.54059698, 0.53944376, 0.50739547,\n",
       "        0.49827708, 0.50404863, 0.48824758, 0.45353321, 0.40231958,\n",
       "        0.53012525, 0.53588322, 0.53997515, 0.53990909, 0.50734467,\n",
       "        0.50007675, 0.50375266, 0.48824758, 0.45353318, 0.40231958]),\n",
       " 'split1_test_score': array([0.53225302, 0.52618888, 0.53488419, 0.53515862, 0.45451042,\n",
       "        0.45231332, 0.44389117, 0.422262  , 0.38464168, 0.33731013,\n",
       "        0.53730671, 0.51997812, 0.53893104, 0.53780852, 0.45451042,\n",
       "        0.45231332, 0.44389117, 0.42226201, 0.38464168, 0.33731013,\n",
       "        0.5354238 , 0.52445722, 0.53895207, 0.53748383, 0.49887578,\n",
       "        0.45231332, 0.44389117, 0.42226201, 0.38464168, 0.33731013,\n",
       "        0.53544608, 0.52151401, 0.53586829, 0.5348699 , 0.4983378 ,\n",
       "        0.45231332, 0.44389117, 0.42226201, 0.38464168, 0.33731013,\n",
       "        0.53500045, 0.52031442, 0.53451755, 0.53352341, 0.49889713,\n",
       "        0.45231332, 0.44389117, 0.42226201, 0.38464168, 0.33731013,\n",
       "        0.53504   , 0.5213231 , 0.53534432, 0.53372553, 0.49115941,\n",
       "        0.49100165, 0.44389117, 0.42226201, 0.38464168, 0.33731013,\n",
       "        0.53405576, 0.52000604, 0.53313161, 0.53404283, 0.48943174,\n",
       "        0.48652811, 0.44389117, 0.42226201, 0.38464168, 0.33731013,\n",
       "        0.53534435, 0.52030135, 0.53172175, 0.53049187, 0.4917546 ,\n",
       "        0.49273093, 0.44389117, 0.42226201, 0.38464168, 0.33731013,\n",
       "        0.53255867, 0.52045329, 0.53188811, 0.5302715 , 0.49246777,\n",
       "        0.48998529, 0.44389113, 0.42226201, 0.38464168, 0.33731013,\n",
       "        0.51743414, 0.50853845, 0.52381457, 0.53061809, 0.49127565,\n",
       "        0.4867018 , 0.47003583, 0.42226201, 0.38464168, 0.33731013]),\n",
       " 'split2_test_score': array([ 4.28295335e-01,  4.56095393e-01,  5.12144068e-01,  4.62006210e-01,\n",
       "         1.73388244e-01, -3.94185113e-01, -1.67096359e+00, -4.78706826e+00,\n",
       "        -1.26045503e+01, -3.20375921e+01,  4.34384984e-01,  4.51860030e-01,\n",
       "         5.12220834e-01,  4.70250366e-01,  1.73388261e-01, -3.94185113e-01,\n",
       "        -1.67096359e+00, -4.78706690e+00, -1.26045569e+01, -3.20376124e+01,\n",
       "         4.37847834e-01,  4.43445488e-01,  5.04807805e-01,  4.78578111e-01,\n",
       "         3.49162275e-01, -3.94185113e-01, -1.67096381e+00, -4.78706788e+00,\n",
       "        -1.26045587e+01, -3.20376168e+01,  4.22601291e-01,  4.18640590e-01,\n",
       "         4.72190050e-01,  4.99603640e-01,  3.26507285e-01, -3.94185111e-01,\n",
       "        -1.67096345e+00, -4.78706748e+00, -1.26045575e+01, -3.20376104e+01,\n",
       "         4.19178646e-01,  4.09008772e-01,  4.63061593e-01,  5.00127795e-01,\n",
       "         3.18042992e-01, -3.94185111e-01, -1.67096345e+00, -4.78706748e+00,\n",
       "        -1.26045575e+01, -3.20376104e+01,  4.19085877e-01,  4.09765911e-01,\n",
       "         4.66764770e-01,  4.98957060e-01,  4.36570306e-01,  2.77511765e-01,\n",
       "        -1.67096345e+00, -4.78706748e+00, -1.26045575e+01, -3.20376104e+01,\n",
       "         4.19064840e-01,  4.09793878e-01,  4.72076216e-01,  4.85559762e-01,\n",
       "         4.54114113e-01,  3.12566551e-01, -1.67096345e+00, -4.78706748e+00,\n",
       "        -1.26045575e+01, -3.20376104e+01,  4.19415300e-01,  4.09770611e-01,\n",
       "         4.69447014e-01,  4.80628764e-01,  1.90214535e-01, -3.76913021e-01,\n",
       "        -1.67096365e+00, -4.78706748e+00, -1.26045575e+01, -3.20376104e+01,\n",
       "         4.21259353e-01,  4.11189142e-01,  4.70212199e-01,  4.82316518e-01,\n",
       "        -5.28252974e-02, -5.21517455e-01, -7.79848066e-03, -4.78706748e+00,\n",
       "        -1.26045575e+01, -3.20375850e+01,  4.21475259e-01,  4.11559084e-01,\n",
       "         4.70247808e-01,  4.86680114e-01, -1.43811043e-01, -1.64238624e-01,\n",
       "        -3.58893810e-02, -4.78706748e+00, -1.26045528e+01, -3.20375850e+01]),\n",
       " 'split3_test_score': array([ 5.65747933e-01,  5.82384226e-01,  5.92700801e-01,  5.98175726e-01,\n",
       "         5.47422753e-01,  5.32731295e-01,  3.13703323e-01, -1.49591328e+00,\n",
       "        -1.14656194e+01, -5.01070712e+01,  5.71443248e-01,  5.75605343e-01,\n",
       "         5.95944679e-01,  6.00589987e-01,  5.47422750e-01,  5.32731295e-01,\n",
       "         3.13703323e-01, -1.49591310e+00, -1.14656246e+01, -5.01070855e+01,\n",
       "         5.88074536e-01,  5.83533300e-01,  5.90476938e-01,  5.94555318e-01,\n",
       "         5.78123390e-01,  5.32731295e-01,  3.13703402e-01, -1.49590974e+00,\n",
       "        -1.14656255e+01, -5.01069637e+01,  6.15356800e-01,  6.03073637e-01,\n",
       "         6.00343025e-01,  6.03064916e-01,  5.65114713e-01,  5.32731297e-01,\n",
       "         3.13703477e-01, -1.49591127e+00, -1.14656257e+01, -5.01069875e+01,\n",
       "         6.16704667e-01,  5.89473109e-01,  5.92296026e-01,  6.02522963e-01,\n",
       "         5.50867960e-01,  5.32731292e-01,  3.13703477e-01, -1.49591127e+00,\n",
       "        -1.14656257e+01, -5.01069875e+01,  5.85729787e-01,  6.02705181e-01,\n",
       "         5.80443233e-01,  5.86669496e-01,  5.75913861e-01,  5.80258650e-01,\n",
       "         3.13703477e-01, -1.49591127e+00, -1.14656257e+01, -5.01069875e+01,\n",
       "        -1.68548642e+00, -2.99315876e-01,  9.10995710e-02,  6.02879328e-01,\n",
       "         5.38009655e-01,  5.77098963e-01,  3.13703477e-01, -1.49591127e+00,\n",
       "        -1.14656257e+01, -5.01069875e+01, -7.53704627e+00, -2.94565107e+00,\n",
       "         2.35071199e-03, -7.65210328e-01,  3.89353911e-01,  3.65210358e-01,\n",
       "         3.13703375e-01, -1.49591127e+00, -1.14656257e+01, -5.01069875e+01,\n",
       "        -7.35542067e-01,  3.93171904e-01, -7.37209403e+00, -1.96498139e+00,\n",
       "         5.47672516e-01,  2.46907021e-01,  3.13703484e-01, -1.49591127e+00,\n",
       "        -1.14656257e+01, -5.01072000e+01, -9.23177662e+02, -9.49419741e+02,\n",
       "        -1.98182046e+03, -2.71900078e+00,  7.90736060e-02, -1.14336414e+00,\n",
       "         4.99622126e-01, -1.49591127e+00, -1.14656286e+01, -5.01072000e+01]),\n",
       " 'split4_test_score': array([0.60613781, 0.59097517, 0.60325041, 0.60842395, 0.57550038,\n",
       "        0.5702938 , 0.55592936, 0.53199328, 0.50402512, 0.46569136,\n",
       "        0.59828957, 0.59121783, 0.60151958, 0.60601076, 0.57550038,\n",
       "        0.5702938 , 0.55592936, 0.5319933 , 0.50402513, 0.46569135,\n",
       "        0.59405278, 0.58841648, 0.60004926, 0.60513143, 0.59830992,\n",
       "        0.5702938 , 0.55592936, 0.53199331, 0.50402513, 0.46569135,\n",
       "        0.60239686, 0.59627402, 0.60410179, 0.60787109, 0.59332897,\n",
       "        0.5702938 , 0.55592936, 0.53199329, 0.50402513, 0.46569135,\n",
       "        0.60248625, 0.59518882, 0.60356999, 0.60762812, 0.59517698,\n",
       "        0.5702938 , 0.55592936, 0.53199329, 0.50402513, 0.46569135,\n",
       "        0.60255496, 0.59531701, 0.60391645, 0.6076274 , 0.60274014,\n",
       "        0.58205571, 0.55592936, 0.53199329, 0.50402513, 0.46569135,\n",
       "        0.60137637, 0.59473349, 0.60528084, 0.60833975, 0.60245944,\n",
       "        0.57970186, 0.55592936, 0.53199329, 0.50402513, 0.46569135,\n",
       "        0.60019991, 0.59380085, 0.60476944, 0.6085395 , 0.60202338,\n",
       "        0.58127187, 0.55592936, 0.53199329, 0.50402513, 0.46569135,\n",
       "        0.60150624, 0.59488935, 0.60575144, 0.60832352, 0.6037358 ,\n",
       "        0.57843238, 0.55592936, 0.53199329, 0.50402513, 0.46568954,\n",
       "        0.60120897, 0.59481449, 0.60480119, 0.60914997, 0.60362812,\n",
       "        0.59049202, 0.56298216, 0.53199329, 0.50402517, 0.46568954]),\n",
       " 'mean_test_score': array([ 5.32882439e-01,  5.37471938e-01,  5.57640613e-01,  5.49492053e-01,\n",
       "         4.51860131e-01,  3.33837437e-01,  2.93217785e-02, -9.68095735e-01,\n",
       "        -4.54559395e+00, -1.61878685e+01,  5.32382847e-01,  5.33567353e-01,\n",
       "         5.56857221e-01,  5.50066977e-01,  4.51860134e-01,  3.33837437e-01,\n",
       "         2.93217785e-02, -9.68095423e-01, -4.54559630e+00, -1.61878755e+01,\n",
       "         5.35924169e-01,  5.34134134e-01,  5.54038993e-01,  5.50372747e-01,\n",
       "         5.05210623e-01,  3.33837437e-01,  2.93217509e-02, -9.68094944e-01,\n",
       "        -4.54559683e+00, -1.61878520e+01,  5.41528749e-01,  5.35417599e-01,\n",
       "         5.50392399e-01,  5.56855201e-01,  4.96732391e-01,  3.33837438e-01,\n",
       "         2.93218373e-02, -9.68095175e-01, -4.54559664e+00, -1.61878555e+01,\n",
       "         5.41066183e-01,  5.30267305e-01,  5.46549151e-01,  5.56531395e-01,\n",
       "         4.92701404e-01,  3.33837437e-01,  2.93218373e-02, -9.68095175e-01,\n",
       "        -4.54559664e+00, -1.61878555e+01,  5.34862257e-01,  5.33313563e-01,\n",
       "         5.45170737e-01,  5.53163911e-01,  5.22408817e-01,  4.86494638e-01,\n",
       "         2.93218373e-02, -9.68095175e-01, -4.54559664e+00, -1.61878555e+01,\n",
       "         8.00693446e-02,  3.52498608e-01,  4.48399579e-01,  5.54032702e-01,\n",
       "         5.17853151e-01,  4.91896749e-01,  2.93218372e-02, -9.68095175e-01,\n",
       "        -4.54559664e+00, -1.61878555e+01, -1.09028712e+00, -1.77038176e-01,\n",
       "         4.29702632e-01,  2.78804357e-01,  4.35878222e-01,  3.12003095e-01,\n",
       "         2.93217779e-02, -9.68095175e-01, -4.54559664e+00, -1.61878555e+01,\n",
       "         2.70155038e-01,  4.91276337e-01, -1.04472906e+00,  3.90747825e-02,\n",
       "         4.19689254e-01,  2.58416865e-01,  3.61954824e-01, -9.68095175e-01,\n",
       "        -4.54559664e+00, -1.61878932e+01, -1.84221484e+02, -1.89473789e+02,\n",
       "        -3.95936324e+02, -1.10528701e-01,  3.07502201e-01,  5.39335629e-02,\n",
       "         4.00100681e-01, -9.68095176e-01, -4.54559626e+00, -1.61878932e+01]),\n",
       " 'std_test_score': array([5.89680705e-02, 4.82955255e-02, 3.47892025e-02, 5.24135208e-02,\n",
       "        1.45036839e-01, 3.66024083e-01, 8.53977999e-01, 2.05754417e+00,\n",
       "        6.12585797e+00, 2.11063164e+01, 5.59261703e-02, 4.89301804e-02,\n",
       "        3.54547890e-02, 4.98204063e-02, 1.45036831e-01, 3.66024083e-01,\n",
       "        8.53977999e-01, 2.05754366e+00, 6.12586088e+00, 2.11063240e+01,\n",
       "        5.63112009e-02, 5.23754136e-02, 3.58460424e-02, 4.57700546e-02,\n",
       "        8.76220715e-02, 3.66024083e-01, 8.53978092e-01, 2.05754385e+00,\n",
       "        6.12586153e+00, 2.11062855e+01, 6.84544620e-02, 6.65067276e-02,\n",
       "        4.86330415e-02, 4.20063053e-02, 9.27356033e-02, 3.66024083e-01,\n",
       "        8.53977954e-01, 2.05754378e+00, 6.12586127e+00, 2.11062923e+01,\n",
       "        6.99569522e-02, 6.71907829e-02, 5.00232475e-02, 4.18313256e-02,\n",
       "        9.43288944e-02, 3.66024082e-01, 8.53977954e-01, 2.05754378e+00,\n",
       "        6.12586127e+00, 2.11062923e+01, 6.41603923e-02, 6.94040085e-02,\n",
       "        4.68459995e-02, 3.90135925e-02, 5.99019139e-02, 1.11218082e-01,\n",
       "        8.53977954e-01, 2.05754378e+00, 6.12586127e+00, 2.11062923e+01,\n",
       "        8.84715945e-01, 3.31368028e-01, 1.83565237e-01, 4.61285331e-02,\n",
       "        5.01871890e-02, 9.72563499e-02, 8.53977954e-01, 2.05754378e+00,\n",
       "        6.12586127e+00, 2.11062923e+01, 3.22390353e+00, 1.38559002e+00,\n",
       "        2.17936043e-01, 5.23597436e-01, 1.40117717e-01, 3.51310031e-01,\n",
       "        8.53978025e-01, 2.05754378e+00, 6.12586127e+00, 2.11062923e+01,\n",
       "        5.06151145e-01, 7.70541382e-02, 3.16397411e+00, 1.00283517e+00,\n",
       "        2.39379173e-01, 4.05461912e-01, 2.01780091e-01, 2.05754378e+00,\n",
       "        6.12586127e+00, 2.11063565e+01, 3.69478094e+02, 3.79972980e+02,\n",
       "        7.92942068e+02, 1.30482649e+00, 2.88881817e-01, 6.56558902e-01,\n",
       "        2.20071301e-01, 2.05754378e+00, 6.12586067e+00, 2.11063565e+01]),\n",
       " 'rank_test_score': array([ 23,  16,   1,  11,  35,  45,  60,  75,  78,  94,  24,  21,   2,\n",
       "         10,  34,  44,  61,  74,  80,  95,  17,  20,   5,   9,  28,  46,\n",
       "         63,  66,  87,  88,  14,  18,   8,   3,  29,  43,  57,  70,  81,\n",
       "         92,  15,  25,  12,   4,  30,  47,  56,  67,  85,  93,  19,  22,\n",
       "         13,   7,  26,  33,  58,  71,  86,  91,  53,  42,  36,   6,  27,\n",
       "         31,  59,  69,  82,  90,  77,  65,  38,  50,  37,  48,  62,  68,\n",
       "         83,  89,  51,  32,  76,  55,  39,  52,  41,  72,  84,  96,  98,\n",
       "         99, 100,  64,  49,  54,  40,  73,  79,  96], dtype=int32)}"
      ]
     },
     "execution_count": 46,
     "metadata": {},
     "output_type": "execute_result"
    }
   ],
   "source": [
    "ct_tuning = ColumnTransformer(\n",
    "  [(\"size_polynomial\", PolynomialFeatures(), [\"Gr Liv Area\"]),\n",
    "  (\"rooms_polynomial\", PolynomialFeatures(), [\"TotRms AbvGrd\"]),\n",
    "   (\"dummify\", OneHotEncoder(sparse_output = False), [\"Bldg Type\"])],\n",
    "  remainder = \"drop\"\n",
    ")\n",
    "\n",
    "lr_pipeline_tuning = Pipeline(\n",
    "  [(\"preprocessing\", ct_tuning),\n",
    "  (\"linear_regression\", lr)]\n",
    ").set_output(transform=\"pandas\")\n",
    "\n",
    "degrees = {'preprocessing__size_polynomial__degree': np.arange(1, 11),\n",
    "           \"preprocessing__rooms_polynomial__degree\": np.arange(1, 11)} #create a dictionary of the polynomials\n",
    "\n",
    "gscv = GridSearchCV(lr_pipeline_tuning, degrees, cv = 5, scoring='r2')\n",
    "\n",
    "gscv_fitted = gscv.fit(X, y)\n",
    "\n",
    "gscv_fitted.cv_results_ #ugly format, so put it into a pandas dataframe for easy reading"
   ]
  },
  {
   "cell_type": "code",
   "execution_count": 47,
   "metadata": {
    "colab": {
     "base_uri": "https://localhost:8080/",
     "height": 206
    },
    "id": "Uw0wOL2PKFDS",
    "outputId": "8f30dfb3-d6b8-43a5-f65a-433721b7f915"
   },
   "outputs": [
    {
     "data": {
      "text/html": [
       "<div>\n",
       "<style scoped>\n",
       "    .dataframe tbody tr th:only-of-type {\n",
       "        vertical-align: middle;\n",
       "    }\n",
       "\n",
       "    .dataframe tbody tr th {\n",
       "        vertical-align: top;\n",
       "    }\n",
       "\n",
       "    .dataframe thead th {\n",
       "        text-align: right;\n",
       "    }\n",
       "</style>\n",
       "<table border=\"1\" class=\"dataframe\">\n",
       "  <thead>\n",
       "    <tr style=\"text-align: right;\">\n",
       "      <th></th>\n",
       "      <th>room_degrees</th>\n",
       "      <th>size_degrees</th>\n",
       "      <th>r2</th>\n",
       "    </tr>\n",
       "  </thead>\n",
       "  <tbody>\n",
       "    <tr>\n",
       "      <th>2</th>\n",
       "      <td>1</td>\n",
       "      <td>3</td>\n",
       "      <td>0.557641</td>\n",
       "    </tr>\n",
       "    <tr>\n",
       "      <th>12</th>\n",
       "      <td>2</td>\n",
       "      <td>3</td>\n",
       "      <td>0.556857</td>\n",
       "    </tr>\n",
       "    <tr>\n",
       "      <th>33</th>\n",
       "      <td>4</td>\n",
       "      <td>4</td>\n",
       "      <td>0.556855</td>\n",
       "    </tr>\n",
       "    <tr>\n",
       "      <th>43</th>\n",
       "      <td>5</td>\n",
       "      <td>4</td>\n",
       "      <td>0.556531</td>\n",
       "    </tr>\n",
       "    <tr>\n",
       "      <th>22</th>\n",
       "      <td>3</td>\n",
       "      <td>3</td>\n",
       "      <td>0.554039</td>\n",
       "    </tr>\n",
       "  </tbody>\n",
       "</table>\n",
       "</div>"
      ],
      "text/plain": [
       "   room_degrees size_degrees        r2\n",
       "2             1            3  0.557641\n",
       "12            2            3  0.556857\n",
       "33            4            4  0.556855\n",
       "43            5            4  0.556531\n",
       "22            3            3  0.554039"
      ]
     },
     "execution_count": 47,
     "metadata": {},
     "output_type": "execute_result"
    }
   ],
   "source": [
    "gscv_df = pd.DataFrame(gscv_fitted.cv_results_)\n",
    "gscv_df = gscv_df[[\"param_preprocessing__rooms_polynomial__degree\",\n",
    "                   \"param_preprocessing__size_polynomial__degree\",\n",
    "                   \"mean_test_score\"]]\n",
    "gscv_df.rename(columns = {\n",
    "    \"param_preprocessing__rooms_polynomial__degree\" : \"room_degrees\",\n",
    "    \"param_preprocessing__size_polynomial__degree\" : \"size_degrees\",\n",
    "    \"mean_test_score\": \"r2\"\n",
    "}, inplace = True)\n",
    "\n",
    "gscv_df.sort_values(by = \"r2\", ascending = False).head()"
   ]
  },
  {
   "cell_type": "markdown",
   "metadata": {
    "id": "fh3nvtM6LUjb"
   },
   "source": [
    "\n",
    "The best final model is the model with the polynomial degree of 3 for the size of the house and a polynomial degree of 1 for the number of rooms. The R^2 value is 0.557641."
   ]
  }
 ],
 "metadata": {
  "colab": {
   "provenance": []
  },
  "kernelspec": {
   "display_name": "Python 3 (ipykernel)",
   "language": "python",
   "name": "python3"
  },
  "language_info": {
   "codemirror_mode": {
    "name": "ipython",
    "version": 3
   },
   "file_extension": ".py",
   "mimetype": "text/x-python",
   "name": "python",
   "nbconvert_exporter": "python",
   "pygments_lexer": "ipython3",
   "version": "3.11.4"
  }
 },
 "nbformat": 4,
 "nbformat_minor": 4
}
